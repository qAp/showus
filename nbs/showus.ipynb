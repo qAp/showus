{
 "cells": [
  {
   "cell_type": "markdown",
   "id": "cardiac-recycling",
   "metadata": {
    "tags": []
   },
   "source": [
    "# showus"
   ]
  },
  {
   "cell_type": "code",
   "execution_count": null,
   "id": "breeding-intermediate",
   "metadata": {
    "tags": []
   },
   "outputs": [],
   "source": [
    "#default_exp showus"
   ]
  },
  {
   "cell_type": "code",
   "execution_count": null,
   "id": "fallen-aside",
   "metadata": {
    "tags": []
   },
   "outputs": [
    {
     "name": "stdout",
     "output_type": "stream",
     "text": [
      "Processing /kaggle/input/nlp-packages/datasets/datasets/fsspec-2021.4.0-py3-none-any.whl\r\n",
      "Installing collected packages: fsspec\r\n",
      "  Attempting uninstall: fsspec\r\n",
      "    Found existing installation: fsspec 0.8.7\r\n",
      "    Uninstalling fsspec-0.8.7:\r\n",
      "      Successfully uninstalled fsspec-0.8.7\r\n",
      "Successfully installed fsspec-2021.4.0\r\n",
      "Looking in links: file:///kaggle/input/coleridge-packages/packages/datasets\r\n",
      "Processing /kaggle/input/coleridge-packages/packages/datasets/datasets-1.5.0-py3-none-any.whl\r\n",
      "Requirement already satisfied: fsspec in /opt/conda/lib/python3.7/site-packages (from datasets) (2021.4.0)\r\n",
      "Processing /kaggle/input/coleridge-packages/packages/datasets/huggingface_hub-0.0.7-py3-none-any.whl\r\n",
      "Requirement already satisfied: pandas in /opt/conda/lib/python3.7/site-packages (from datasets) (1.2.3)\r\n",
      "Processing /kaggle/input/coleridge-packages/packages/datasets/tqdm-4.49.0-py2.py3-none-any.whl\r\n",
      "Requirement already satisfied: numpy>=1.17 in /opt/conda/lib/python3.7/site-packages (from datasets) (1.19.5)\r\n",
      "Requirement already satisfied: importlib-metadata in /opt/conda/lib/python3.7/site-packages (from datasets) (3.4.0)\r\n",
      "Processing /kaggle/input/coleridge-packages/packages/datasets/xxhash-2.0.0-cp37-cp37m-manylinux2010_x86_64.whl\r\n",
      "Requirement already satisfied: dill in /opt/conda/lib/python3.7/site-packages (from datasets) (0.3.3)\r\n",
      "Requirement already satisfied: requests>=2.19.0 in /opt/conda/lib/python3.7/site-packages (from datasets) (2.25.1)\r\n",
      "Requirement already satisfied: multiprocess in /opt/conda/lib/python3.7/site-packages (from datasets) (0.70.11.1)\r\n",
      "Requirement already satisfied: pyarrow>=0.17.1 in /opt/conda/lib/python3.7/site-packages (from datasets) (3.0.0)\r\n",
      "Requirement already satisfied: filelock in /opt/conda/lib/python3.7/site-packages (from huggingface-hub<0.1.0->datasets) (3.0.12)\r\n",
      "Requirement already satisfied: chardet<5,>=3.0.2 in /opt/conda/lib/python3.7/site-packages (from requests>=2.19.0->datasets) (4.0.0)\r\n",
      "Requirement already satisfied: certifi>=2017.4.17 in /opt/conda/lib/python3.7/site-packages (from requests>=2.19.0->datasets) (2020.12.5)\r\n",
      "Requirement already satisfied: urllib3<1.27,>=1.21.1 in /opt/conda/lib/python3.7/site-packages (from requests>=2.19.0->datasets) (1.26.4)\r\n",
      "Requirement already satisfied: idna<3,>=2.5 in /opt/conda/lib/python3.7/site-packages (from requests>=2.19.0->datasets) (2.10)\r\n",
      "Requirement already satisfied: typing-extensions>=3.6.4 in /opt/conda/lib/python3.7/site-packages (from importlib-metadata->datasets) (3.7.4.3)\r\n",
      "Requirement already satisfied: zipp>=0.5 in /opt/conda/lib/python3.7/site-packages (from importlib-metadata->datasets) (3.4.1)\r\n",
      "Requirement already satisfied: python-dateutil>=2.7.3 in /opt/conda/lib/python3.7/site-packages (from pandas->datasets) (2.8.1)\r\n",
      "Requirement already satisfied: pytz>=2017.3 in /opt/conda/lib/python3.7/site-packages (from pandas->datasets) (2021.1)\r\n",
      "Requirement already satisfied: six>=1.5 in /opt/conda/lib/python3.7/site-packages (from python-dateutil>=2.7.3->pandas->datasets) (1.15.0)\r\n",
      "Installing collected packages: tqdm, xxhash, huggingface-hub, datasets\r\n",
      "  Attempting uninstall: tqdm\r\n",
      "    Found existing installation: tqdm 4.59.0\r\n",
      "    Uninstalling tqdm-4.59.0:\r\n",
      "      Successfully uninstalled tqdm-4.59.0\r\n",
      "Successfully installed datasets-1.5.0 huggingface-hub-0.0.7 tqdm-4.49.0 xxhash-2.0.0\r\n",
      "Processing /kaggle/input/coleridge-packages/seqeval-1.2.2-py3-none-any.whl\r\n",
      "Requirement already satisfied: scikit-learn>=0.21.3 in /opt/conda/lib/python3.7/site-packages (from seqeval==1.2.2) (0.24.1)\r\n",
      "Requirement already satisfied: numpy>=1.14.0 in /opt/conda/lib/python3.7/site-packages (from seqeval==1.2.2) (1.19.5)\r\n",
      "Requirement already satisfied: scipy>=0.19.1 in /opt/conda/lib/python3.7/site-packages (from scikit-learn>=0.21.3->seqeval==1.2.2) (1.5.4)\r\n",
      "Requirement already satisfied: threadpoolctl>=2.0.0 in /opt/conda/lib/python3.7/site-packages (from scikit-learn>=0.21.3->seqeval==1.2.2) (2.1.0)\r\n",
      "Requirement already satisfied: joblib>=0.11 in /opt/conda/lib/python3.7/site-packages (from scikit-learn>=0.21.3->seqeval==1.2.2) (1.0.1)\r\n",
      "Installing collected packages: seqeval\r\n",
      "Successfully installed seqeval-1.2.2\r\n",
      "Processing /kaggle/input/coleridge-packages/tokenizers-0.10.1-cp37-cp37m-manylinux1_x86_64.whl\r\n",
      "Installing collected packages: tokenizers\r\n",
      "  Attempting uninstall: tokenizers\r\n",
      "    Found existing installation: tokenizers 0.10.2\r\n",
      "    Uninstalling tokenizers-0.10.2:\r\n",
      "      Successfully uninstalled tokenizers-0.10.2\r\n",
      "Successfully installed tokenizers-0.10.1\r\n",
      "Processing /kaggle/input/coleridge-packages/transformers-4.5.0.dev0-py3-none-any.whl\r\n",
      "Requirement already satisfied: packaging in /opt/conda/lib/python3.7/site-packages (from transformers==4.5.0.dev0) (20.9)\r\n",
      "Requirement already satisfied: numpy>=1.17 in /opt/conda/lib/python3.7/site-packages (from transformers==4.5.0.dev0) (1.19.5)\r\n",
      "Requirement already satisfied: requests in /opt/conda/lib/python3.7/site-packages (from transformers==4.5.0.dev0) (2.25.1)\r\n",
      "Requirement already satisfied: sacremoses in /opt/conda/lib/python3.7/site-packages (from transformers==4.5.0.dev0) (0.0.45)\r\n",
      "Requirement already satisfied: tqdm>=4.27 in /opt/conda/lib/python3.7/site-packages (from transformers==4.5.0.dev0) (4.49.0)\r\n",
      "Requirement already satisfied: regex!=2019.12.17 in /opt/conda/lib/python3.7/site-packages (from transformers==4.5.0.dev0) (2021.3.17)\r\n",
      "Requirement already satisfied: tokenizers<0.11,>=0.10.1 in /opt/conda/lib/python3.7/site-packages (from transformers==4.5.0.dev0) (0.10.1)\r\n",
      "Requirement already satisfied: importlib-metadata in /opt/conda/lib/python3.7/site-packages (from transformers==4.5.0.dev0) (3.4.0)\r\n",
      "Requirement already satisfied: filelock in /opt/conda/lib/python3.7/site-packages (from transformers==4.5.0.dev0) (3.0.12)\r\n",
      "Requirement already satisfied: zipp>=0.5 in /opt/conda/lib/python3.7/site-packages (from importlib-metadata->transformers==4.5.0.dev0) (3.4.1)\r\n",
      "Requirement already satisfied: typing-extensions>=3.6.4 in /opt/conda/lib/python3.7/site-packages (from importlib-metadata->transformers==4.5.0.dev0) (3.7.4.3)\r\n",
      "Requirement already satisfied: pyparsing>=2.0.2 in /opt/conda/lib/python3.7/site-packages (from packaging->transformers==4.5.0.dev0) (2.4.7)\r\n",
      "Requirement already satisfied: certifi>=2017.4.17 in /opt/conda/lib/python3.7/site-packages (from requests->transformers==4.5.0.dev0) (2020.12.5)\r\n",
      "Requirement already satisfied: idna<3,>=2.5 in /opt/conda/lib/python3.7/site-packages (from requests->transformers==4.5.0.dev0) (2.10)\r\n",
      "Requirement already satisfied: chardet<5,>=3.0.2 in /opt/conda/lib/python3.7/site-packages (from requests->transformers==4.5.0.dev0) (4.0.0)\r\n",
      "Requirement already satisfied: urllib3<1.27,>=1.21.1 in /opt/conda/lib/python3.7/site-packages (from requests->transformers==4.5.0.dev0) (1.26.4)\r\n",
      "Requirement already satisfied: joblib in /opt/conda/lib/python3.7/site-packages (from sacremoses->transformers==4.5.0.dev0) (1.0.1)\r\n",
      "Requirement already satisfied: click in /opt/conda/lib/python3.7/site-packages (from sacremoses->transformers==4.5.0.dev0) (7.1.2)\r\n",
      "Requirement already satisfied: six in /opt/conda/lib/python3.7/site-packages (from sacremoses->transformers==4.5.0.dev0) (1.15.0)\r\n",
      "Installing collected packages: transformers\r\n",
      "  Attempting uninstall: transformers\r\n",
      "    Found existing installation: transformers 4.5.1\r\n",
      "    Uninstalling transformers-4.5.1:\r\n",
      "      Successfully uninstalled transformers-4.5.1\r\n",
      "Successfully installed transformers-4.5.0.dev0\r\n"
     ]
    }
   ],
   "source": [
    "! pip install /kaggle/input/nlp-packages/datasets/datasets/fsspec-2021.4.0-py3-none-any.whl\n",
    "! pip install datasets --no-index --find-links=file:///kaggle/input/coleridge-packages/packages/datasets\n",
    "! pip install ../input/coleridge-packages/seqeval-1.2.2-py3-none-any.whl\n",
    "! pip install ../input/coleridge-packages/tokenizers-0.10.1-cp37-cp37m-manylinux1_x86_64.whl\n",
    "! pip install ../input/coleridge-packages/transformers-4.5.0.dev0-py3-none-any.whl"
   ]
  },
  {
   "cell_type": "code",
   "execution_count": null,
   "id": "tamil-public",
   "metadata": {
    "tags": []
   },
   "outputs": [],
   "source": [
    "#export\n",
    "import os, shutil, time\n",
    "from tqdm import tqdm\n",
    "from pathlib import Path\n",
    "import itertools\n",
    "from functools import partial\n",
    "import re\n",
    "import json\n",
    "import random\n",
    "import numpy as np\n",
    "import pandas as pd\n",
    "import torch\n",
    "import transformers, seqeval\n",
    "from transformers import AutoTokenizer, DataCollatorForTokenClassification\n",
    "from transformers import AutoModelForTokenClassification\n",
    "from transformers import TrainingArguments, Trainer\n",
    "from datasets import load_dataset, ClassLabel, load_metric\n",
    "\n",
    "import matplotlib.pyplot as plt"
   ]
  },
  {
   "cell_type": "markdown",
   "id": "demonstrated-prior",
   "metadata": {
    "tags": []
   },
   "source": [
    "# Utilities"
   ]
  },
  {
   "cell_type": "code",
   "execution_count": null,
   "id": "overall-arena",
   "metadata": {
    "tags": []
   },
   "outputs": [],
   "source": [
    "#export\n",
    "Path.ls = lambda pth: list(pth.iterdir())"
   ]
  },
  {
   "cell_type": "markdown",
   "id": "veterinary-vanilla",
   "metadata": {
    "tags": []
   },
   "source": [
    "# Data I/O"
   ]
  },
  {
   "cell_type": "code",
   "execution_count": null,
   "id": "surgical-cinema",
   "metadata": {
    "tags": []
   },
   "outputs": [],
   "source": [
    "#export\n",
    "def load_train_meta(pth, group_id=True):\n",
    "    df = pd.read_csv(pth)\n",
    "    if group_id:\n",
    "        df = df.groupby('Id').agg({'pub_title': 'first', 'dataset_title': '|'.join, \n",
    "                                   'dataset_label': '|'.join, 'cleaned_label': '|'.join}).reset_index()\n",
    "    return df"
   ]
  },
  {
   "cell_type": "code",
   "execution_count": null,
   "id": "expected-glasgow",
   "metadata": {
    "tags": []
   },
   "outputs": [
    {
     "name": "stdout",
     "output_type": "stream",
     "text": [
      "14316 19661\n",
      "['Baltimore Longitudinal Study of Aging (BLSA)|Baltimore Longitudinal Study of Aging'\n",
      " 'Beginning Postsecondary Students Longitudinal Study|Education Longitudinal Study|Beginning Postsecondary Students'\n",
      " \"ADNI|Alzheimer's Disease Neuroimaging Initiative (ADNI)\"\n",
      " \"ADNI|Alzheimer's Disease Neuroimaging Initiative (ADNI)\"\n",
      " \"ADNI|Alzheimer's Disease Neuroimaging Initiative (ADNI)\"\n",
      " \"ADNI|Alzheimer's Disease Neuroimaging Initiative (ADNI)\"\n",
      " \"ADNI|Alzheimer's Disease Neuroimaging Initiative (ADNI)\"\n",
      " 'Baltimore Longitudinal Study of Aging (BLSA)|Baltimore Longitudinal Study of Aging'\n",
      " \"ADNI|Alzheimer's Disease Neuroimaging Initiative (ADNI)\"\n",
      " 'Beginning Postsecondary Student|Beginning Postsecondary Students']\n"
     ]
    }
   ],
   "source": [
    "pth = Path('/kaggle/input/coleridgeinitiative-show-us-the-data/train.csv')\n",
    "df = load_train_meta(pth, group_id=True)\n",
    "df_nogroup = load_train_meta(pth, group_id=False)\n",
    "print(len(df), len(df_nogroup))\n",
    "dup_ids = df_nogroup[df_nogroup.Id.duplicated()].Id.unique()\n",
    "print(df[df.Id.isin(dup_ids)].dataset_label.values[-10:])"
   ]
  },
  {
   "cell_type": "code",
   "execution_count": null,
   "id": "noticed-rover",
   "metadata": {
    "tags": []
   },
   "outputs": [],
   "source": [
    "#export\n",
    "def load_papers(dir_json, paper_ids):\n",
    "    '''\n",
    "    Load papers into a dictionary.\n",
    "    \n",
    "    `papers`: \n",
    "        {''}\n",
    "    '''\n",
    "    \n",
    "    papers = {}\n",
    "    for paper_id in paper_ids:\n",
    "        with open(f'{dir_json}/{paper_id}.json', 'r') as f:\n",
    "            paper = json.load(f)\n",
    "            papers[paper_id] = paper\n",
    "    return papers"
   ]
  },
  {
   "cell_type": "code",
   "execution_count": null,
   "id": "simple-diagnosis",
   "metadata": {
    "tags": []
   },
   "outputs": [
    {
     "name": "stdout",
     "output_type": "stream",
     "text": [
      "<class 'dict'>\n",
      "{'section_title': 'Abstract', 'text': \"Magnetic Resonance Imaging (MRI) is of fundamental importance in neuroscience, providing good contrast and resolution, as well as not being considered invasive. Despite the development of newer techniques involving radiopharmaceuticals, it is still a recommended tool in Alzheimer's Disease (AD) neurological practice to assess neurodegeneration, and recent research suggests that it could reveal changes in the brain even before the symptomatology appears. In this paper we propose a method that performs a Spherical Brain Mapping, using different measures to project the three-dimensional MR brain images onto two-dimensional maps revealing statistical characteristics of the tissue. The resulting maps could be assessed visually, but also perform a significant feature reduction that will allow further supervised or unsupervised processing, reducing the computational load while maintaining a large amount of the original information. We have tested our methodology against a MRI database comprising 180 AD affected patients and 180 normal controls, where some of the mappings have revealed as an optimum strategy for the automatic processing and characterization of AD patterns, achieving up to a 90.9% of accuracy, as well as significantly reducing the computational load. Additionally, our maps allow the visual analysis and interpretation of the images, which can be of great help in the diagnosis of this and other types of dementia.\"}\n"
     ]
    }
   ],
   "source": [
    "df = load_train_meta('/kaggle/input/coleridgeinitiative-show-us-the-data/train.csv', group_id=True).iloc[-10:]\n",
    "papers = load_papers('/kaggle/input/coleridgeinitiative-show-us-the-data/train/', df.Id)\n",
    "print(type(papers))\n",
    "print(\n",
    "    papers[ np.random.choice(df.Id.values) ][0]\n",
    ")"
   ]
  },
  {
   "cell_type": "code",
   "execution_count": null,
   "id": "random-studio",
   "metadata": {
    "tags": []
   },
   "outputs": [],
   "source": [
    "#export\n",
    "def load_sample_text(jpth):\n",
    "    sections = json.loads(jpth.read_text())\n",
    "    text = '\\n'.join(section['text'] for section in sections)\n",
    "    return text"
   ]
  },
  {
   "cell_type": "code",
   "execution_count": null,
   "id": "tested-athletics",
   "metadata": {
    "tags": []
   },
   "outputs": [
    {
     "name": "stdout",
     "output_type": "stream",
     "text": [
      "The International Standard Classification of Education, known by its acronym ISCED, was developed by the United Nations Educational, Scientific, and Cultural Organization during the late 1960s and 1970s. ISCED was implemented in 1976 and is the recognized international standard for reporting and interpreting education program data. Creating a U.S. crosswalk to this system has been a goal of the National Center for Education Statistics and the Office of Research since the late 197,,s, when the National Institute of Education (the predecessor agency to the Office of Educational Research and Improvement) began exploring the idea. The design and implementation of a workable crosswalk, however, awaited the advent of changes to the Classification of Instructional Programs (CIP) system. The 1990 revision of the CIP system laid the foundation for a workable international crosswalk. Adoption of the National Education Goals set global consciousness and international educational comparisons firml\n"
     ]
    }
   ],
   "source": [
    "jpths_trn = Path('/kaggle/input/coleridgeinitiative-show-us-the-data/train/').ls()\n",
    "print(load_sample_text(jpths_trn[0])[:1_000])"
   ]
  },
  {
   "cell_type": "markdown",
   "id": "speaking-correction",
   "metadata": {
    "tags": []
   },
   "source": [
    "# Data processing"
   ]
  },
  {
   "cell_type": "code",
   "execution_count": null,
   "id": "duplicate-playlist",
   "metadata": {
    "tags": []
   },
   "outputs": [],
   "source": [
    "#export\n",
    "def clean_training_text(txt, lower=False, total_clean=False):\n",
    "    \"\"\"\n",
    "    similar to the default clean_text function but without lowercasing.\n",
    "    \"\"\"\n",
    "    txt = str(txt).lower() if lower else str(txt)\n",
    "    txt = re.sub('[^A-Za-z0-9]+', ' ', txt).strip()\n",
    "    if total_clean:\n",
    "        txt = re.sub(' +', ' ', txt)\n",
    "    return txt"
   ]
  },
  {
   "cell_type": "code",
   "execution_count": null,
   "id": "square-semiconductor",
   "metadata": {
    "tags": []
   },
   "outputs": [
    {
     "name": "stdout",
     "output_type": "stream",
     "text": [
      "kaggle This competition awards 90 000\n",
      "hopkld 7 11 002\n"
     ]
    }
   ],
   "source": [
    "print(clean_training_text('@kaggle This competition awards $90,000!!!!.'))\n",
    "print(clean_training_text('HoPKLd + 7 ! 11,002', total_clean=True, lower=True))"
   ]
  },
  {
   "cell_type": "code",
   "execution_count": null,
   "id": "danish-ability",
   "metadata": {
    "tags": []
   },
   "outputs": [],
   "source": [
    "#export\n",
    "def shorten_sentences(sentences, max_length=64, overlap=20):\n",
    "    '''\n",
    "    Args:\n",
    "        sentences (list): List of sentences.\n",
    "        max_length (int): Maximum number of words allowed for each sentence.\n",
    "        overlap (int): If a sentence exceeds `max_length`, we split it to multiple sentences with \n",
    "            this amount of overlapping.\n",
    "    '''\n",
    "    short_sentences = []\n",
    "    for sentence in sentences:\n",
    "        words = sentence.split()\n",
    "        if len(words) > max_length:\n",
    "            for p in range(0, len(words), max_length - overlap):\n",
    "                short_sentences.append(' '.join(words[p:p+max_length]))\n",
    "        else:\n",
    "            short_sentences.append(sentence)\n",
    "    return short_sentences"
   ]
  },
  {
   "cell_type": "code",
   "execution_count": null,
   "id": "talented-impact",
   "metadata": {
    "tags": []
   },
   "outputs": [
    {
     "name": "stdout",
     "output_type": "stream",
     "text": [
      "Before: ['The International Standard Classification of Education, known by its acronym ISCED, was developed by the United Nations Educational, Scientific, and Cultural Organization during the late 1960s and 1970s', ' ISCED was implemented in 1976 and is the recognized international standard for reporting and interpreting education program data']\n",
      "\n",
      "After: ['The International Standard Classification of Education, known by its acronym', 'its acronym ISCED, was developed by the United Nations Educational,', 'Nations Educational, Scientific, and Cultural Organization during the late 1960s', 'late 1960s and 1970s', 'ISCED was implemented in 1976 and is the recognized international', 'recognized international standard for reporting and interpreting education program data', 'program data']\n"
     ]
    }
   ],
   "source": [
    "jpths_trn = Path('/kaggle/input/coleridgeinitiative-show-us-the-data/train/').ls()\n",
    "sentences = load_sample_text(jpths_trn[0]).split('.')[:2]\n",
    "short_sentences = shorten_sentences(sentences, max_length=10, overlap=2)\n",
    "print('Before:', sentences)\n",
    "print()\n",
    "print('After:', short_sentences)"
   ]
  },
  {
   "cell_type": "code",
   "execution_count": null,
   "id": "dental-perception",
   "metadata": {
    "tags": []
   },
   "outputs": [],
   "source": [
    "#export\n",
    "def find_sublist(big_list, small_list):\n",
    "    all_positions = []\n",
    "    for i in range(len(big_list) - len(small_list) + 1):\n",
    "        if small_list == big_list[i:i+len(small_list)]:\n",
    "            all_positions.append(i)\n",
    "    \n",
    "    return all_positions"
   ]
  },
  {
   "cell_type": "code",
   "execution_count": null,
   "id": "alert-twins",
   "metadata": {
    "tags": []
   },
   "outputs": [
    {
     "data": {
      "text/plain": [
       "[1, 15]"
      ]
     },
     "execution_count": null,
     "metadata": {},
     "output_type": "execute_result"
    }
   ],
   "source": [
    "big_list = ['If', 'the', 'thing', 'above', 'is', 'below', 'that', 'thing', 'which', 'is',\n",
    "            'not', 'as', 'high', 'up', 'on', 'the', 'thing', 'above', 'when', 'it', 'is', \n",
    "            'underneath', 'them.']\n",
    "small_list = ['the', 'thing', 'above']\n",
    "\n",
    "find_sublist(big_list, small_list)"
   ]
  },
  {
   "cell_type": "markdown",
   "id": "necessary-library",
   "metadata": {
    "tags": []
   },
   "source": [
    "# Named Entity Recognition"
   ]
  },
  {
   "cell_type": "code",
   "execution_count": null,
   "id": "victorian-mountain",
   "metadata": {
    "tags": []
   },
   "outputs": [],
   "source": [
    "#export\n",
    "def get_ner_classlabel():\n",
    "    '''\n",
    "    Labels for named entity recognition.\n",
    "        'O': Token not part of a phrase that mentions a dataset.\n",
    "        'I': Intermediate token of a phrase mentioning a dataset.\n",
    "        'B': First token of a phrase mentioning a dataset.\n",
    "    '''\n",
    "    return ClassLabel(names=['O', 'I', 'B'])"
   ]
  },
  {
   "cell_type": "code",
   "execution_count": null,
   "id": "tough-profit",
   "metadata": {
    "tags": []
   },
   "outputs": [
    {
     "name": "stdout",
     "output_type": "stream",
     "text": [
      "ClassLabel(num_classes=3, names=['O', 'I', 'B'], names_file=None, id=None)\n",
      "[1, 0, 2] 1\n",
      "B ['B', 'I', 'O']\n"
     ]
    }
   ],
   "source": [
    "classlabel = get_ner_classlabel()\n",
    "print(classlabel)\n",
    "print(classlabel.str2int(['I', 'O', 'B']), classlabel.str2int('I'))\n",
    "print(classlabel.int2str(2), classlabel.int2str([2, 1, 0]))"
   ]
  },
  {
   "cell_type": "code",
   "execution_count": null,
   "id": "raised-office",
   "metadata": {
    "tags": []
   },
   "outputs": [],
   "source": [
    "#export\n",
    "def tag_sentence(sentence, labels, classlabel=None): \n",
    "    '''\n",
    "    requirement: both sentence and labels are already cleaned\n",
    "    '''\n",
    "    sentence_words = sentence.split()\n",
    "    \n",
    "    if labels is not None and any(re.findall(f'\\\\b{label}\\\\b', sentence)\n",
    "                                  for label in labels): # positive sample\n",
    "        nes = [classlabel.str2int('O')] * len(sentence_words)\n",
    "        for label in labels:\n",
    "            label_words = label.split()\n",
    "\n",
    "            all_pos = find_sublist(sentence_words, label_words)\n",
    "            for pos in all_pos:\n",
    "                nes[pos] = classlabel.str2int('B')\n",
    "                for i in range(pos+1, pos+len(label_words)):\n",
    "                    nes[i] = classlabel.str2int('I')\n",
    "\n",
    "        return True, list(zip(sentence_words, nes))\n",
    "        \n",
    "    else: # negative sample\n",
    "        nes = [classlabel.str2int('O')] * len(sentence_words)\n",
    "        return False, list(zip(sentence_words, nes))"
   ]
  },
  {
   "cell_type": "code",
   "execution_count": null,
   "id": "suitable-spotlight",
   "metadata": {
    "tags": []
   },
   "outputs": [
    {
     "name": "stdout",
     "output_type": "stream",
     "text": [
      "A label is found in the sentence: True\n",
      "(token, tag) pairs:\n",
      "[('The', 2), ('International', 1), ('Standard', 0), ('Classification', 0), ('of', 0), ('Education', 0), ('known', 0), ('by', 0), ('its', 0), ('acronym', 0), ('ISCED', 0), ('was', 0), ('developed', 0), ('by', 0), ('the', 0), ('United', 2), ('Nations', 1), ('Educational', 1), ('Scientific', 0), ('and', 0), ('Cultural', 2), ('Organization', 1), ('during', 0), ('the', 0), ('late', 0), ('1960s', 0), ('and', 0), ('1970s', 0)]\n"
     ]
    }
   ],
   "source": [
    "sentence = (\"The International Standard Classification of Education, known by its acronym ISCED, \"\n",
    "            \"was developed by the United Nations Educational, \"\n",
    "            \"Scientific, and Cultural Organization during the late 1960s and 1970s\")\n",
    "labels = ['The International', 'Cultural Organization', 'United Nations Educational']\n",
    "\n",
    "sentence = clean_training_text(sentence)\n",
    "labels = [clean_training_text(label) for label in labels]\n",
    "classlabel = get_ner_classlabel()\n",
    "found_any, token_tags = tag_sentence(sentence, labels, classlabel=classlabel)\n",
    "\n",
    "print('A label is found in the sentence:', found_any)\n",
    "print('(token, tag) pairs:')\n",
    "print(token_tags)"
   ]
  },
  {
   "cell_type": "code",
   "execution_count": null,
   "id": "indoor-sussex",
   "metadata": {
    "tags": []
   },
   "outputs": [],
   "source": [
    "#export\n",
    "def extract_sentences(paper, sentence_definition='sentence'):\n",
    "    if sentence_definition == 'sentence':\n",
    "        sentences = set(clean_training_text(sentence) \n",
    "                        for sec in paper for sentence in sec['text'].split('.') if sec['text'])\n",
    "    elif sentence_definition == 'section':\n",
    "        sentences = set(clean_training_text(sec['section_title'] + '\\n' + sec['text']) \n",
    "                        for sec in paper if sec['text'])\n",
    "    return sentences"
   ]
  },
  {
   "cell_type": "code",
   "execution_count": null,
   "id": "front-excitement",
   "metadata": {
    "tags": []
   },
   "outputs": [
    {
     "name": "stdout",
     "output_type": "stream",
     "text": [
      "..... Sentence definition = normal sentence\n",
      "302 ['', 'This idea can be tested by estimating equation 9 where subscripts denote school s cohort c and time t']\n",
      "\n",
      "..... Sentence definition = paper section\n",
      "12 ['Introduction School choice has become one of the most contentious public policy debates in the United States', 'Voters in Michigan and California rejected statewide voucher programs in 2000 Federal No Child Left Behind legislation implemented in Fall 2002 mandates limited school choice One of the underlying assumptions motivating school choice is that introducing competition into education will increase school quality as schools face market pressures to attract students and their associated public funding 1 However not only do we know little about the effect of school choice on the students who switch schools we know even less about the effect on students who do not exercise the option to switch schools In this paper we explore the latter effect by examining the link between increased competition for students and the quality of schools facing competition If the introduction of school choice and the subsequent competition for students encourages schools to improve quality then the argument supporting the expansion of school choice are strengthened The expansion of North Carolina s charter school system provides a natural experiment for exploring this hypothesis In the 1996 1997 school year North Carolina had no charter schools Just three years later nearly 100 charter schools were operating in North Carolina This expansion of charter schools which provides parents with more schooling options is expected to spur improvement in the traditional public schools which have long dominated public and secondary education We examine the expansion of the charter school system both temporally and geographically in order to estimate the effect of school choice on the performance of public schools Charter schools are public schools that are founded by community leaders and parents 2 Charter schools receive public funds but are allowed greater curricular flexibility than traditional public schools 3 Across the United States the charter school system has expanded rapidly According to the National Center for Education Statistics approximately 2 000 charter schools operated in 2001 Hoffman 2002 The enrollment mechanism varies by state but typically students can disenroll from the assigned traditional school and enroll in a charter school 1 For example see Friedman 1962 for a discussion 2 For more on charter schools see Geske Davis and Hingle 1997 3 We define traditional school as the public school that is managed by the local education agency in contrast with the charter school The term traditional is not meant to suggest that charter schools necessarily adopt an atypical curriculum Two justifications are commonly offered for charter schools The first is that increased curricular flexibility allows charter schools to adapt their curricula to particular needs of their student populations For example some charters specialize in the arts while others specialize in vocational education More common are charters that focus on traditional subjects but use an atypical curriculum The potential benefit from these schools however is limited to students who enroll in the charter school 4 The second justification is that the infusion of competition into the public education system provides an incentive for traditional schools to increase quality This follows the standard economic argument that competition forces firms to increase quality and or lower price When a charter school opens the traditional school which previously held a monopoly on public education in a feeder district faces the prospect of losing students to the new competitor To the extent that the school s agent ostensibly a principal experiences disutility from a decline in enrollment this might lead to an increase in the traditional school s quality in order to retain students Such disutility might result from a decline in stature of the school in the community lessened prospects for career advancement a loss of personnel and budget provided by the funding agency or a decrease in job satisfaction Depending on the form of the public education cost function a decrease in enrollment might also increase average costs and lower the quality of instruction for the remaining students This second effect is particularly interesting from a policy perspective The idea that empowered parents can vote with their feet Tiebout 1956 is the primary tenet behind other current experiments in school choice For example while some parents desire vouchers in order to switch their children from the assigned traditional public school to a private school others are likely interested in vouchers so they can credibly threaten to disenroll the children from the traditional school unless improvements are made By exploring the degree to which the availability of charter schools affects the quality of competing traditional schools we add to the debate on school choice Current evidence that links school choice and quality is limited but typically finds some quality gains to choice Hoxby 2000a looks at intra district choice finding some benefits to competition Blair and Staley 1995 report that test performance in a school district is correlated with performance in neighboring districts though their results may be partially explained by spatial correlation Borland and Howsen 1992 find weak evidence that lower school district concentration leads to higher achievement Bettinger 1999 finds no gains to competition from Michigan charter schools Rouse 1998 finds that the Milwaukee voucher program increased student achievement Hoxby 2002 examines the effects of vouchers in Milwaukee and charter schools in Michigan and Arizona and finds productivity and achievement gains from increased choice Cullen Jacob and Levitt 2000 use Chicago Public School data to analyze the effect of choice on the students who change schools obtaining mixed results Finally Greene and Forster 2002 report gains to competition as measured by an index of the distance between traditional schools and charters We contribute to the school choice literature by exploiting an expansion of the North Carolina charter school system in combination with extensive school achievement data Our hypothesis is that the expansion of the charter school system has encouraged traditional schools to increase achievement by offering greater school choice to North Carolina parents Our results generally support this hypothesis In particular we find that the closer a charter school is to a traditional school and hence the greater the competition facing the traditional school the greater the achievement gains These results persist across a wide set of models The gain is not inconsequential since the average achievement increase due to charter school competition 1 percent is about one fourth of the average yearly increase The remainder of the paper is organized as follows Section 2 develops a theoretical model and section 3 presents the econometric model Sections 4 and 5 discuss the data and the estimation results Section 6 summarizes the main findings addresses limitations and offers suggestions for future research']\n",
      "\n"
     ]
    }
   ],
   "source": [
    "df = load_train_meta('/kaggle/input/coleridgeinitiative-show-us-the-data/train.csv', group_id=True).iloc[100:110]\n",
    "papers = load_papers('/kaggle/input/coleridgeinitiative-show-us-the-data/train', df.Id)\n",
    "paper = papers[df.Id.iloc[3]]\n",
    "print('..... Sentence definition = normal sentence')\n",
    "sentences = extract_sentences(paper, sentence_definition='sentence')\n",
    "print(len(sentences), list(sentences)[:2], end='\\n\\n')\n",
    "print('..... Sentence definition = paper section')\n",
    "sentences = extract_sentences(paper, sentence_definition='section')\n",
    "print(len(sentences), list(sentences)[:2][:1_000], end='\\n\\n')"
   ]
  },
  {
   "cell_type": "code",
   "execution_count": null,
   "id": "boolean-baptist",
   "metadata": {
    "tags": []
   },
   "outputs": [],
   "source": [
    "#export\n",
    "def get_paper_ner_data(paper, labels, classlabel=None,\n",
    "                       sentence_definition='sentence', max_length=64, overlap=20):\n",
    "    '''\n",
    "    Get NER data for a single paper.\n",
    "    '''\n",
    "    labels = [clean_training_text(label) for label in labels]\n",
    "    sentences = extract_sentences(paper, sentence_definition=sentence_definition)\n",
    "    sentences = shorten_sentences(sentences, max_length=max_length, overlap=overlap) \n",
    "    sentences = [sentence for sentence in sentences if len(sentence) > 10] # only accept sentences with length > 10 chars\n",
    "\n",
    "    cnt_pos, cnt_neg, ner_data = 0, 0, []\n",
    "    for sentence in sentences:\n",
    "        is_positive, tags = tag_sentence(sentence, labels, classlabel=classlabel)\n",
    "        if is_positive:\n",
    "            cnt_pos += 1\n",
    "            ner_data.append(tags)\n",
    "        elif any(word in sentence.lower() for word in ['data', 'study']): \n",
    "            ner_data.append(tags)\n",
    "            cnt_neg += 1    \n",
    "    return cnt_pos, cnt_neg, ner_data"
   ]
  },
  {
   "cell_type": "code",
   "execution_count": null,
   "id": "strange-thong",
   "metadata": {
    "tags": []
   },
   "outputs": [
    {
     "name": "stdout",
     "output_type": "stream",
     "text": [
      "9 1\n",
      "[303, 512, 512, 512, 512, 259, 101, 512, 512, 49]\n",
      "[('persons', 0), ('with', 0), ('MCI', 0), ('Assessments', 0), ('of', 0), ('the', 0), ('clinical', 0), ('value', 0), ('of', 0), ('amyloid', 0), ('imaging', 0), ('among', 0), ('physicians', 0), ('who', 0), ('reported', 0), ('direct', 0), ('contact', 0), ('with', 0), ('ADNI', 2), ('participants', 0), ('as', 0), ('well', 0), ('as', 0), ('an', 0), ('array', 0), ('of', 0), ('biomarker', 0), ('data', 0), ('collected', 0), ('from', 0), ('participants', 0), ('with', 0), ('normal', 0), ('cognition', 0), ('MCI', 0), ('and', 0), ('probable', 0), ('AD', 0), ('begin', 0), ('to', 0), ('explain', 0), ('why', 0), ('respondents', 0), ('might', 0), ('want', 0), ('to', 0), ('return', 0), ('amyloid', 0), ('imaging', 0), ('results', 0), ('to', 0), ('ADNI', 2), ('participants', 0), ('Results', 0), ('suggested', 0), ('that', 0), ('amyloid', 0), ('imaging', 0), ('and', 0), ('other', 0), ('emerging', 0), ('biomarker', 0), ('measures', 0), ('FDG', 0), ('PET', 0), ('CSF', 0), ('Ab42', 0), ('and', 0), ('or', 0), ('CSF', 0), ('tau', 0), ('are', 0), ('considered', 0), ('as', 0), ('clinically', 0), ('meaningful', 0), ('as', 0), ('well', 0), ('validated', 0), ('psychometric', 0), ('and', 0), ('biomarker', 0), ('measures', 0), ('MMSE', 0), ('GDS', 0), ('CDR', 0), ('brain', 0), ('MRI', 0), ('for', 0), ('microvascular', 0), ('disease', 0), ('brain', 0), ('MRI', 0), ('for', 0), ('hippocampal', 0), ('volumes', 0), ('in', 0), ('persons', 0), ('with', 0), ('normal', 0), ('cognition', 0), ('and', 0), ('AD', 0), ('dementia', 0), ('and', 0), ('especially', 0), ('persons', 0), ('with', 0), ('MCI', 0), ('These', 0), ('results', 0), ('suggest', 0), ('that', 0), ('a', 0), ('policy', 0), ('allowing', 0), ('disclosure', 0), ('of', 0), ('amyloid', 0), ('imaging', 0), ('will', 0), ('likely', 0), ('lead', 0), ('to', 0), ('disclosure', 0), ('of', 0), ('other', 0), ('research', 0), ('results', 0), ('and', 0), ('the', 0), ('free', 0), ('text', 0), ('response', 0), ('that', 0), ('amyloid', 0), ('imaging', 0), ('should', 0), ('be', 0), ('provided', 0), ('in', 0), ('context', 0), ('with', 0), ('other', 0), ('data', 0), ('such', 0), ('as', 0), ('CSF', 0), ('imaging', 0), ('medical', 0), ('and', 0), ('family', 0), ('histories', 0), ('and', 0), ('APOE', 0), ('genotypefurther', 0), ('supports', 0), ('this', 0), ('Our', 0), ('findings', 0), ('suggest', 0), ('that', 0), ('the', 0), ('ADNI', 2), ('community', 0), ('favors', 0), ('a', 0), ('growing', 0), ('trend', 0), ('in', 0), ('biomedical', 0), ('research', 0), ('to', 0), ('revise', 0), ('its', 0), ('no', 0), ('return', 0), ('of', 0), ('results', 0), ('position', 0), ('held', 0), ('since', 0), ('ADNI', 2), ('s', 0), ('inception', 0), ('in', 0), ('2004', 0), ('Current', 0), ('guidelines', 0), ('for', 0), ('return', 0), ('of', 0), ('research', 0), ('results', 0), ('in', 0), ('genomic', 0), ('studies', 0), ('focus', 0), ('on', 0), ('protecting', 0), ('participants', 0), ('from', 0), ('harm', 0), ('using', 0), ('criteria', 0), ('including', 0), ('analytic', 0), ('validity', 0), ('clinical', 0), ('validity', 0), ('actionability', 0), ('and', 0), ('the', 0), ('severity', 0), ('of', 0), ('outcome', 0), ('4', 0), ('14', 0), ('but', 0), ('these', 0), ('criteria', 0), ('are', 0), ('being', 0), ('extensively', 0), ('debated', 0), ('5', 0), ('6', 0), ('15', 0), ('For', 0), ('example', 0), ('commentators', 0), ('urge', 0), ('reconsideration', 0), ('of', 0), ('traditionally', 0), ('restrictive', 0), ('disclosure', 0), ('policies', 0), ('that', 0), ('focus', 0), ('exclusively', 0), ('on', 0), ('protecting', 0), ('participants', 0), ('from', 0), ('harm', 0), ('of', 0), ('disclosure', 0), ('and', 0), ('that', 0), ('fail', 0), ('to', 0), ('take', 0), ('into', 0), ('account', 0), ('these', 0), ('persons', 0), ('own', 0), ('formulation', 0), ('of', 0), ('benefit', 0), ('harm', 0), ('and', 0), ('acceptable', 0), ('risk', 0), ('5', 0), ('16', 0), ('They', 0), ('encourage', 0), ('reliance', 0), ('on', 0), ('empiric', 0), ('evidence', 0), ('to', 0), ('help', 0), ('guide', 0), ('conclusions', 0), ('about', 0), ('disclosure', 0), ('policy', 0), ('citing', 0), ('data', 0), ('that', 0), ('suggest', 0), ('the', 0), ('prevalence', 0), ('of', 0), ('negative', 0), ('consequences', 0), ('is', 0), ('low', 0), ('and', 0), ('that', 0), ('individuals', 0), ('tend', 0), ('to', 0), ('find', 0), ('disclosure', 0), ('of', 0), ('test', 0), ('results', 0), ('beneficial', 0), ('regardless', 0), ('of', 0), ('the', 0), ('actual', 0), ('result', 0), ('or', 0), ('accompanying', 0), ('psychological', 0), ('distress', 0), ('17', 0), ('18', 0), ('19', 0), ('20', 0), ('The', 0), ('Risk', 0), ('Evaluation', 0), ('and', 0), ('Education', 0), ('for', 0), ('Alzheimer', 0), ('s', 0), ('Disease', 0), ('project', 0), ('used', 0), ('a', 0), ('randomized', 0), ('and', 0), ('controlled', 0), ('design', 0), ('to', 0), ('compare', 0), ('the', 0), ('effect', 0), ('of', 0), ('disclosing', 0), ('vs', 0), ('not', 0), ('disclosing', 0), ('a', 0), ('genotype', 0), ('that', 0), ('described', 0), ('an', 0), ('increased', 0), ('risk', 0), ('of', 0), ('developing', 0), ('AD', 0), ('the', 0), ('APOE', 0), ('e4', 0), ('allele', 0), ('and', 0), ('reported', 0), ('that', 0), ('after', 0), ('learning', 0), ('their', 0), ('results', 0), ('e4', 0), ('carriers', 0), ('were', 0), ('no', 0), ('more', 0), ('likely', 0), ('than', 0), ('persons', 0), ('who', 0), ('either', 0), ('did', 0), ('not', 0), ('learn', 0), ('their', 0), ('APOE', 0), ('status', 0), ('or', 0), ('persons', 0), ('who', 0), ('were', 0), ('told', 0), ('they', 0), ('were', 0), ('e4', 0), ('negative', 0), ('to', 0), ('experience', 0), ('a', 0), ('negative', 0), ('impact', 0), ('on', 0), ('their', 0), ('health', 0), ('and', 0), ('psychological', 0), ('well', 0), ('being', 0), ('20', 0), ('Limitations', 0), ('of', 0), ('this', 0), ('research', 0), ('include', 0), ('the', 0), ('response', 0), ('rate', 0), ('of', 0), ('52', 0), ('although', 0), ('principal', 0), ('investigators', 0), ('had', 0), ('a', 0), ('higher', 0), ('response', 0), ('rate', 0), ('64', 0), ('and', 0), ('the', 0), ('average', 0), ('response', 0), ('rate', 0), ('for', 0), ('physician', 0), ('surveys', 0), ('is', 0), ('54', 0), ('21', 0), ('Also', 0), ('there', 0), ('was', 0), ('a', 0), ('trend', 0), ('that', 0), ('persons', 0), ('who', 0), ('favored', 0), ('amyloid', 0), ('disclosure', 0), ('were', 0), ('more', 0), ('likely', 0), ('than', 0), ('persons', 0), ('who', 0), ('did', 0), ('not', 0), ('support', 0), ('it', 0), ('to', 0), ('provide', 0), ('free', 0), ('text', 0), ('answers', 0), ('Still', 0), ('the', 0), ('notably', 0), ('high', 0), ('proportions', 0), ('of', 0), ('respondents', 0), ('who', 0), ('supported', 0), ('returning', 0), ('amyloid', 0), ('imaging', 0), ('results', 0), ('and', 0), ('who', 0), ('considered', 0), ('that', 0), ('these', 0), ('results', 0), ('as', 0), ('well', 0), ('as', 0), ('results', 0), ('from', 0), ('most', 0), ('other', 0), ('biomarker', 0), ('and', 0), ('related', 0), ('research', 0), ('measures', 0), ('typically', 0), ('provide', 0), ('clinically', 0), ('meaningful', 0), ('information', 0), ('suggests', 0), ('that', 0), ('ADNI', 2), ('researchers', 0), ('are', 0), ('ready', 0), ('with', 0), ('guidance', 0), ('and', 0), ('ongoing', 0), ('research', 0), ('to', 0), ('return', 0), ('amyloid', 0), ('imaging', 0), ('research', 0), ('results', 0), ('to', 0), ('ADNI', 2), ('participants', 0), ('and', 0)]\n"
     ]
    }
   ],
   "source": [
    "df = load_train_meta('/kaggle/input/coleridgeinitiative-show-us-the-data/train.csv', group_id=True).iloc[230:240]\n",
    "papers = load_papers('/kaggle/input/coleridgeinitiative-show-us-the-data/train/', df.Id)\n",
    "classlabel = get_ner_classlabel()\n",
    "\n",
    "idx = 8\n",
    "paper = papers[df.Id.iloc[idx]]\n",
    "labels = df.dataset_label.iloc[idx].split('|')\n",
    "cnt_pos, cnt_neg, ner_data = get_paper_ner_data(paper, labels, classlabel=classlabel,\n",
    "                                                sentence_definition='section', max_length=512, overlap=20)\n",
    "print(cnt_pos, cnt_neg)\n",
    "print([len(sec) for sec in ner_data])\n",
    "print(ner_data[-2])"
   ]
  },
  {
   "cell_type": "code",
   "execution_count": null,
   "id": "injured-forty",
   "metadata": {
    "tags": []
   },
   "outputs": [],
   "source": [
    "#export\n",
    "def get_ner_data(papers, df=None, classlabel=None, shuffle=True, \n",
    "                 sentence_definition='sentence', max_length=64, overlap=20):\n",
    "    '''\n",
    "    Get NER data for a list of papers.\n",
    "    \n",
    "    Args:\n",
    "        papers (dict): Like that returned by `load_papers`.\n",
    "        df (pd.DataFrame): Competition's train.csv or a subset of it.\n",
    "    Returns:\n",
    "        cnt_pos (int): Number of samples (or 'sentences') that are tagged or partly\n",
    "            tagged as datasets.\n",
    "        cnt_neg (int): Number of samples (or 'sentences') that are not tagged\n",
    "            or partly tagged as datasets.\n",
    "        ner_data (list): List of samples, or 'sentences'. Each element is of the form:\n",
    "            [('There', 0), ('has', 0), ('been', 0), ...]\n",
    "    '''\n",
    "    cnt_pos, cnt_neg = 0, 0 \n",
    "    ner_data = []\n",
    "\n",
    "    tqdm._instances.clear()\n",
    "    pbar = tqdm(total=len(df))\n",
    "    for i, id, dataset_label in df[['Id', 'dataset_label']].itertuples():\n",
    "        paper = papers[id]\n",
    "        labels = dataset_label.split('|')\n",
    "                \n",
    "        cnt_pos_, cnt_neg_, ner_data_ = get_paper_ner_data(\n",
    "            paper, labels, classlabel=classlabel, \n",
    "            sentence_definition=sentence_definition, max_length=max_length, overlap=overlap)\n",
    "        cnt_pos += cnt_pos_\n",
    "        cnt_neg += cnt_neg_\n",
    "        ner_data.extend(ner_data_)\n",
    "\n",
    "        pbar.update(1)\n",
    "        pbar.set_description(f\"Training data size: {cnt_pos} positives + {cnt_neg} negatives\")\n",
    "\n",
    "    if shuffle:\n",
    "        random.shuffle(ner_data)\n",
    "    return cnt_pos, cnt_neg, ner_data"
   ]
  },
  {
   "cell_type": "code",
   "execution_count": null,
   "id": "considered-columbia",
   "metadata": {
    "tags": []
   },
   "outputs": [
    {
     "name": "stderr",
     "output_type": "stream",
     "text": [
      "Training data size: 29 positives + 223 negatives: 100%|██████████| 10/10 [00:00<00:00, 142.52it/s]"
     ]
    },
    {
     "name": "stdout",
     "output_type": "stream",
     "text": [
      "Postive count: 29.   Negative count: 223\n",
      "[('Likewise', 0), ('there', 0), ('is', 0), ('a', 0), ('familiarity', 0), ('with', 0), ('a', 0), ('variety', 0), ('of', 0), ('studies', 0), ('that', 0), ('provide', 0), ('specific', 0), ('data', 0), ('on', 0), ('the', 0), ('academic', 0), ('achievement', 0), ('of', 0), ('Catholic', 0), ('school', 0), ('students', 0)]\n",
      "CPU times: user 145 ms, sys: 11.6 ms, total: 156 ms\n",
      "Wall time: 187 ms\n"
     ]
    }
   ],
   "source": [
    "%%time\n",
    "df = pd.read_csv('/kaggle/input/coleridgeinitiative-show-us-the-data/train.csv').iloc[:10]\n",
    "papers = load_papers('/kaggle/input/coleridgeinitiative-show-us-the-data/train/', df.Id)\n",
    "classlabel = get_ner_classlabel()\n",
    "cnt_pos, cnt_neg, ner_data = get_ner_data(papers, df, classlabel=classlabel, shuffle=False,\n",
    "                                          sentence_definition='sentence', max_length=64, overlap=20)\n",
    "print(f'Postive count: {cnt_pos}.   Negative count: {cnt_neg}')\n",
    "print(ner_data[250])"
   ]
  },
  {
   "cell_type": "code",
   "execution_count": null,
   "id": "entertaining-timing",
   "metadata": {
    "tags": []
   },
   "outputs": [
    {
     "name": "stderr",
     "output_type": "stream",
     "text": [
      "Training data size: 27 positives + 70 negatives: 100%|██████████| 10/10 [00:00<00:00, 174.54it/s]"
     ]
    },
    {
     "name": "stdout",
     "output_type": "stream",
     "text": [
      "Postive count: 27.   Negative count: 70\n",
      "[('Glossary', 0), ('of', 0), ('Terms', 0), ('Attrition', 0), ('Attrition', 0), ('occurs', 0), ('when', 0), ('an', 0), ('outcome', 0), ('variable', 0), ('is', 0), ('not', 0), ('available', 0), ('for', 0), ('all', 0), ('participants', 0), ('initially', 0), ('assigned', 0), ('to', 0), ('the', 0), ('intervention', 0), ('and', 0), ('comparison', 0), ('groups', 0), ('The', 0), ('WWC', 0), ('considers', 0), ('the', 0), ('total', 0), ('attrition', 0), ('rate', 0), ('and', 0), ('the', 0), ('difference', 0), ('in', 0), ('attrition', 0), ('rates', 0), ('across', 0), ('groups', 0), ('within', 0), ('a', 0), ('study', 0), ('Clustering', 0), ('adjustment', 0), ('If', 0), ('intervention', 0), ('assignment', 0), ('is', 0), ('made', 0), ('at', 0), ('a', 0), ('cluster', 0), ('level', 0), ('and', 0), ('the', 0), ('analysis', 0), ('is', 0), ('conducted', 0), ('at', 0), ('the', 0), ('student', 0), ('level', 0), ('the', 0), ('WWC', 0), ('will', 0), ('adjust', 0), ('the', 0), ('statistical', 0), ('significance', 0), ('to', 0), ('account', 0), ('for', 0), ('this', 0), ('mismatch', 0), ('if', 0), ('necessary', 0), ('Confounding', 0), ('factor', 0), ('A', 0), ('confounding', 0), ('factor', 0), ('is', 0), ('a', 0), ('component', 0), ('of', 0), ('a', 0), ('study', 0), ('that', 0), ('is', 0), ('completely', 0), ('aligned', 0), ('with', 0), ('one', 0), ('of', 0), ('the', 0), ('study', 0), ('conditions', 0), ('making', 0), ('it', 0), ('impossible', 0), ('to', 0), ('separate', 0), ('how', 0), ('much', 0), ('of', 0), ('the', 0), ('observed', 0), ('effect', 0), ('was', 0), ('due', 0), ('to', 0), ('the', 0), ('intervention', 0), ('and', 0), ('how', 0), ('much', 0), ('was', 0), ('due', 0), ('to', 0), ('the', 0), ('factor', 0), ('Design', 0), ('The', 0), ('design', 0), ('of', 0), ('a', 0), ('study', 0), ('is', 0), ('the', 0), ('method', 0), ('by', 0), ('which', 0), ('intervention', 0), ('and', 0), ('comparison', 0), ('groups', 0), ('were', 0), ('assigned', 0), ('Domain', 0), ('A', 0), ('domain', 0), ('is', 0), ('a', 0), ('group', 0), ('of', 0), ('closely', 0), ('related', 0), ('outcomes', 0), ('Effect', 0), ('size', 0), ('The', 0), ('effect', 0), ('size', 0), ('is', 0), ('a', 0), ('measure', 0), ('of', 0), ('the', 0), ('magnitude', 0), ('of', 0), ('an', 0), ('effect', 0), ('The', 0), ('WWC', 0), ('uses', 0), ('a', 0), ('standardized', 0), ('measure', 0), ('to', 0), ('facilitate', 0), ('comparisons', 0), ('across', 0), ('studies', 0), ('and', 0), ('outcomes', 0), ('Eligibility', 0), ('A', 0), ('study', 0), ('is', 0), ('eligible', 0), ('for', 0), ('review', 0), ('if', 0), ('it', 0), ('falls', 0), ('within', 0), ('the', 0), ('scope', 0), ('of', 0), ('the', 0), ('review', 0), ('protocol', 0), ('and', 0), ('uses', 0), ('either', 0), ('an', 0), ('experimental', 0), ('or', 0), ('matched', 0), ('comparison', 0), ('group', 0), ('design', 0), ('Equivalence', 0), ('A', 0), ('demonstration', 0), ('that', 0), ('the', 0), ('analysis', 0), ('sample', 0), ('groups', 0), ('are', 0), ('similar', 0), ('on', 0), ('observed', 0), ('characteristics', 0), ('defined', 0), ('in', 0), ('the', 0), ('review', 0), ('area', 0), ('protocol', 0), ('Improvement', 0), ('index', 0), ('Along', 0), ('a', 0), ('percentile', 0), ('distribution', 0), ('of', 0), ('students', 0), ('the', 0), ('improvement', 0), ('index', 0), ('represents', 0), ('the', 0), ('gain', 0), ('or', 0), ('loss', 0), ('of', 0), ('the', 0), ('average', 0), ('student', 0), ('due', 0), ('to', 0), ('the', 0), ('intervention', 0), ('As', 0), ('the', 0), ('average', 0), ('student', 0), ('starts', 0), ('at', 0), ('the', 0), ('50th', 0), ('percentile', 0), ('the', 0), ('measure', 0), ('ranges', 0), ('from', 0), ('50', 0), ('to', 0), ('50', 0)]\n",
      "CPU times: user 131 ms, sys: 11.3 ms, total: 142 ms\n",
      "Wall time: 145 ms\n"
     ]
    }
   ],
   "source": [
    "%%time\n",
    "df = pd.read_csv('/kaggle/input/coleridgeinitiative-show-us-the-data/train.csv').iloc[:10]\n",
    "papers = load_papers('/kaggle/input/coleridgeinitiative-show-us-the-data/train/', df.Id)\n",
    "classlabel = get_ner_classlabel()\n",
    "cnt_pos, cnt_neg, ner_data = get_ner_data(papers, df, classlabel=classlabel, shuffle=False, \n",
    "                                          sentence_definition='section', max_length=512, overlap=20)\n",
    "print(f'Postive count: {cnt_pos}.   Negative count: {cnt_neg}')\n",
    "print(ner_data[3])"
   ]
  },
  {
   "cell_type": "code",
   "execution_count": null,
   "id": "obvious-bicycle",
   "metadata": {
    "tags": []
   },
   "outputs": [],
   "source": [
    "#export\n",
    "def write_ner_json(ner_data, pth=Path('train_ner.json')):\n",
    "    '''\n",
    "    Save NER data to json file.\n",
    "    '''\n",
    "    with open(pth, 'w') as f:\n",
    "        for row in ner_data:\n",
    "            words, nes = list(zip(*row))\n",
    "            row_json = {'tokens' : words, 'ner_tags' : nes}\n",
    "            json.dump(row_json, f)\n",
    "            f.write('\\n')    "
   ]
  },
  {
   "cell_type": "code",
   "execution_count": null,
   "id": "cleared-colombia",
   "metadata": {
    "tags": []
   },
   "outputs": [
    {
     "name": "stdout",
     "output_type": "stream",
     "text": [
      "{\"tokens\": [\"There\", \"is\", \"no\", \"dataset\", \"here\"], \"ner_tags\": [0, 0, 0, 0, 0]}\r\n",
      "{\"tokens\": [\"Load\", \"the\", \"UN\", \"Trade\", \"Development\", \"into\", \"view\"], \"ner_tags\": [0, 0, 2, 1, 1, 0, 0]}\r\n"
     ]
    }
   ],
   "source": [
    "ner_data = [\n",
    "    [('There', 0), ('is', 0), ('no', 0), ('dataset', 0), ('here', 0)], \n",
    "    [('Load', 0), ('the', 0), ('UN', 2), ('Trade', 1), ('Development', 1), ('into', 0), ('view', 0)]\n",
    "]\n",
    "write_ner_json(ner_data, pth=Path('/kaggle/tmp_ner.json'))\n",
    "! cat /kaggle/tmp_ner.json"
   ]
  },
  {
   "cell_type": "code",
   "execution_count": null,
   "id": "forward-scholar",
   "metadata": {
    "tags": []
   },
   "outputs": [],
   "source": [
    "#export\n",
    "def load_ner_datasets(data_files=None):\n",
    "    '''\n",
    "    Load NER data in json files to a `datasets` object.  In addition,\n",
    "    Append the NER ClassLabel for the `ner_tags` feature.\n",
    "    '''\n",
    "    datasets = load_dataset('json', data_files=data_files)\n",
    "    classlabel = get_ner_classlabel()\n",
    "    for split, dataset in datasets.items():\n",
    "        dataset.features['ner_tags'].feature = classlabel\n",
    "    return datasets"
   ]
  },
  {
   "cell_type": "code",
   "execution_count": null,
   "id": "prescribed-former",
   "metadata": {
    "tags": []
   },
   "outputs": [
    {
     "name": "stdout",
     "output_type": "stream",
     "text": [
      "Downloading and preparing dataset json/default (download: Unknown size, generated: Unknown size, post-processed: Unknown size, total: Unknown size) to /root/.cache/huggingface/datasets/json/default-42da4ff6c570386d/0.0.0/83d5b3a2f62630efc6b5315f00f20209b4ad91a00ac586597caee3a4da0bef02...\n"
     ]
    },
    {
     "data": {
      "application/vnd.jupyter.widget-view+json": {
       "model_id": "600b9e52e7e2461fbf524644a30e719b",
       "version_major": 2,
       "version_minor": 0
      },
      "text/plain": [
       "HBox(children=(FloatProgress(value=1.0, bar_style='info', layout=Layout(width='20px'), max=1.0), HTML(value=''…"
      ]
     },
     "metadata": {},
     "output_type": "display_data"
    },
    {
     "data": {
      "application/vnd.jupyter.widget-view+json": {
       "model_id": "d0b0b6602ccb4296b7c26058bdbbcf4c",
       "version_major": 2,
       "version_minor": 0
      },
      "text/plain": [
       "HBox(children=(FloatProgress(value=1.0, bar_style='info', layout=Layout(width='20px'), max=1.0), HTML(value=''…"
      ]
     },
     "metadata": {},
     "output_type": "display_data"
    },
    {
     "name": "stdout",
     "output_type": "stream",
     "text": [
      "Dataset json downloaded and prepared to /root/.cache/huggingface/datasets/json/default-42da4ff6c570386d/0.0.0/83d5b3a2f62630efc6b5315f00f20209b4ad91a00ac586597caee3a4da0bef02. Subsequent calls will reuse this data.\n",
      "\n",
      "{'tokens': Sequence(feature=Value(dtype='string', id=None), length=-1, id=None), 'ner_tags': Sequence(feature=ClassLabel(num_classes=3, names=['O', 'I', 'B'], names_file=None, id=None), length=-1, id=None)}\n",
      "{'tokens': ['Load', 'the', 'UN', 'Trade', 'Development', 'into', 'view'], 'ner_tags': [0, 0, 2, 1, 1, 0, 0]}\n"
     ]
    }
   ],
   "source": [
    "datasets = load_ner_datasets(data_files={'train':'/kaggle/tmp_ner.json', 'valid':'/kaggle/tmp_ner.json'})\n",
    "print()\n",
    "print(datasets['valid'].features)\n",
    "print(datasets['train'][1])"
   ]
  },
  {
   "cell_type": "code",
   "execution_count": null,
   "id": "boolean-attraction",
   "metadata": {
    "tags": []
   },
   "outputs": [],
   "source": [
    "#export\n",
    "def create_tokenizer(model_checkpoint='distilbert-base-cased'):\n",
    "    tokenizer = AutoTokenizer.from_pretrained(model_checkpoint)\n",
    "    assert isinstance(tokenizer, transformers.PreTrainedTokenizerFast)\n",
    "    return tokenizer"
   ]
  },
  {
   "cell_type": "code",
   "execution_count": null,
   "id": "bizarre-ecology",
   "metadata": {
    "tags": []
   },
   "outputs": [
    {
     "data": {
      "application/vnd.jupyter.widget-view+json": {
       "model_id": "2f1bf5592ae64bcfaa04e5cefdcc23cb",
       "version_major": 2,
       "version_minor": 0
      },
      "text/plain": [
       "HBox(children=(FloatProgress(value=0.0, description='Downloading', max=411.0, style=ProgressStyle(description_…"
      ]
     },
     "metadata": {},
     "output_type": "display_data"
    },
    {
     "name": "stdout",
     "output_type": "stream",
     "text": [
      "\n"
     ]
    },
    {
     "data": {
      "application/vnd.jupyter.widget-view+json": {
       "model_id": "48e2f3c3d8e94fea88c514cf4f0d0e74",
       "version_major": 2,
       "version_minor": 0
      },
      "text/plain": [
       "HBox(children=(FloatProgress(value=0.0, description='Downloading', max=213450.0, style=ProgressStyle(descripti…"
      ]
     },
     "metadata": {},
     "output_type": "display_data"
    },
    {
     "name": "stdout",
     "output_type": "stream",
     "text": [
      "\n"
     ]
    },
    {
     "data": {
      "application/vnd.jupyter.widget-view+json": {
       "model_id": "7dfea6fd075e4c13ab4402ad85477479",
       "version_major": 2,
       "version_minor": 0
      },
      "text/plain": [
       "HBox(children=(FloatProgress(value=0.0, description='Downloading', max=435797.0, style=ProgressStyle(descripti…"
      ]
     },
     "metadata": {},
     "output_type": "display_data"
    },
    {
     "name": "stdout",
     "output_type": "stream",
     "text": [
      "\n"
     ]
    },
    {
     "data": {
      "application/vnd.jupyter.widget-view+json": {
       "model_id": "fb09afc925654d108cac29936608245d",
       "version_major": 2,
       "version_minor": 0
      },
      "text/plain": [
       "HBox(children=(FloatProgress(value=0.0, description='Downloading', max=29.0, style=ProgressStyle(description_w…"
      ]
     },
     "metadata": {},
     "output_type": "display_data"
    },
    {
     "name": "stdout",
     "output_type": "stream",
     "text": [
      "\n",
      "{'input_ids': [101, 138, 188, 21943, 9930, 1104, 1234, 9026, 1121, 1103, 2286, 6194, 3499, 1113, 6356, 119, 102], 'attention_mask': [1, 1, 1, 1, 1, 1, 1, 1, 1, 1, 1, 1, 1, 1, 1, 1, 1]}\n",
      "\n",
      "{'input_ids': [101, 144, 6512, 9436, 24372, 1317, 185, 12937, 2042, 15520, 1114, 8626, 2330, 1447, 102], 'attention_mask': [1, 1, 1, 1, 1, 1, 1, 1, 1, 1, 1, 1, 1, 1, 1]}\n"
     ]
    }
   ],
   "source": [
    "tokenizer = create_tokenizer(model_checkpoint='distilbert-base-cased')\n",
    "print(\n",
    "    tokenizer(\"A smattering of people descended from the midday boat on Monday.\"))\n",
    "print()\n",
    "print(\n",
    "    tokenizer(\"Giglio boasts several pristine bays with crystal clear water\".split(), is_split_into_words=True)\n",
    ")"
   ]
  },
  {
   "cell_type": "code",
   "execution_count": null,
   "id": "architectural-heath",
   "metadata": {
    "tags": []
   },
   "outputs": [
    {
     "name": "stdout",
     "output_type": "stream",
     "text": [
      "['A', 'smattering', 'of', 'people', 'descended', 'from', 'the', 'midday', 'boat', 'on', 'Monday.']\n",
      "[None, 0, 1, 1, 1, 2, 3, 4, 5, 6, 7, 7, 8, 9, 10, 10, None]\n",
      "['[CLS]', 'A', 's', '##mat', '##tering', 'of', 'people', 'descended', 'from', 'the', 'mid', '##day', 'boat', 'on', 'Monday', '.', '[SEP]']\n"
     ]
    }
   ],
   "source": [
    "sentence = \"A smattering of people descended from the midday boat on Monday.\".split()\n",
    "tokenized_sentence = tokenizer(sentence, is_split_into_words=True)\n",
    "\n",
    "print(sentence)\n",
    "print(tokenized_sentence.word_ids())\n",
    "print(tokenizer.convert_ids_to_tokens(tokenized_sentence['input_ids']))"
   ]
  },
  {
   "cell_type": "code",
   "execution_count": null,
   "id": "noted-biography",
   "metadata": {
    "tags": []
   },
   "outputs": [
    {
     "name": "stderr",
     "output_type": "stream",
     "text": [
      "Training data size: 205 positives + 1042 negatives: 100%|██████████| 100/100 [00:00<00:00, 118.81it/s]"
     ]
    },
    {
     "name": "stdout",
     "output_type": "stream",
     "text": [
      "Downloading and preparing dataset json/default (download: Unknown size, generated: Unknown size, post-processed: Unknown size, total: Unknown size) to /root/.cache/huggingface/datasets/json/default-66d161d45008330c/0.0.0/83d5b3a2f62630efc6b5315f00f20209b4ad91a00ac586597caee3a4da0bef02...\n"
     ]
    },
    {
     "data": {
      "application/vnd.jupyter.widget-view+json": {
       "model_id": "cdb2f0e392084ed0937fef2f76c8555f",
       "version_major": 2,
       "version_minor": 0
      },
      "text/plain": [
       "HBox(children=(FloatProgress(value=1.0, bar_style='info', layout=Layout(width='20px'), max=1.0), HTML(value=''…"
      ]
     },
     "metadata": {},
     "output_type": "display_data"
    },
    {
     "name": "stdout",
     "output_type": "stream",
     "text": [
      "Dataset json downloaded and prepared to /root/.cache/huggingface/datasets/json/default-66d161d45008330c/0.0.0/83d5b3a2f62630efc6b5315f00f20209b4ad91a00ac586597caee3a4da0bef02. Subsequent calls will reuse this data.\n"
     ]
    },
    {
     "name": "stderr",
     "output_type": "stream",
     "text": [
      "Token indices sequence length is longer than the specified maximum sequence length for this model (738 > 512). Running this sequence through the model will result in indexing errors\n"
     ]
    },
    {
     "data": {
      "text/plain": [
       "<matplotlib.legend.Legend at 0x7ff815dcda50>"
      ]
     },
     "execution_count": null,
     "metadata": {},
     "output_type": "execute_result"
    },
    {
     "data": {
      "image/png": "[encoded data removed]",
      "text/plain": [
       "<Figure size 720x432 with 1 Axes>"
      ]
     },
     "metadata": {
      "needs_background": "light"
     },
     "output_type": "display_data"
    }
   ],
   "source": [
    "# Find a suitable original sample length, given a max model input length of 512\n",
    "\n",
    "max_input_length = 512\n",
    "max_length, overlap = 360, 20\n",
    "\n",
    "df = load_train_meta('/kaggle/input/coleridgeinitiative-show-us-the-data/train.csv', group_id=True)\n",
    "df = df.sample(100).reset_index(drop=True)\n",
    "papers = load_papers('/kaggle/input/coleridgeinitiative-show-us-the-data/train', df.Id)\n",
    "classlabel = get_ner_classlabel()\n",
    "cnt_pos, cnt_neg, ner_data = get_ner_data(papers, df, classlabel=classlabel, \n",
    "                                          sentence_definition='section', max_length=max_length, overlap=overlap)\n",
    "write_ner_json(ner_data, pth='train_ner.json')\n",
    "\n",
    "datasets = load_ner_datasets(data_files={'train':'train_ner.json'})\n",
    "\n",
    "tokenizer = create_tokenizer(model_checkpoint='distilbert-base-cased')\n",
    "\n",
    "tokenized_input = tokenizer(datasets['train']['tokens'], truncation=False, is_split_into_words=True)\n",
    "\n",
    "original_sample_lengths = np.array([len(tokens) for tokens in datasets['train']['tokens']])\n",
    "tokenized_sample_lengths = np.array([len(input_ids) for input_ids in tokenized_input['input_ids']])\n",
    "\n",
    "fig, ax = plt.subplots(figsize=(10, 6))\n",
    "ax.plot(original_sample_lengths, label='original lengths', linestyle='none', marker='o')\n",
    "ax.plot(tokenized_sample_lengths, label='tokenized lengths', linestyle='none', marker='x')\n",
    "ax.hlines(y=max_input_length, xmin=0, xmax=len(original_sample_lengths), color='red')\n",
    "ax.set_ylabel('length')\n",
    "ax.set_xlabel('sample index')\n",
    "ax.set_title('section lengths')\n",
    "ax.legend()"
   ]
  },
  {
   "cell_type": "code",
   "execution_count": null,
   "id": "indoor-anxiety",
   "metadata": {
    "tags": []
   },
   "outputs": [],
   "source": [
    "#export\n",
    "def tokenize_and_align_labels(examples, tokenizer=None, label_all_tokens=True):\n",
    "    '''\n",
    "    Adds a new field called 'labels' that are the NER tags to the tokenized input.\n",
    "    \n",
    "    Args:\n",
    "        tokenizer (transformers.AutoTokenizer): Tokenizer.\n",
    "        examples (datasets.arrow_dataset.Dataset): Dataset.\n",
    "        label_all_tokens (bool): If True, all sub-tokens are given the same tag as the \n",
    "            first sub-token, otherwise all but the first sub-token are given the tag\n",
    "            -100.\n",
    "    '''\n",
    "    tokenized_inputs = tokenizer(examples[\"tokens\"], truncation=True, is_split_into_words=True)\n",
    "    labels = []\n",
    "    word_ids_all = []\n",
    "    for i, label in enumerate(examples[\"ner_tags\"]):\n",
    "        word_ids = tokenized_inputs.word_ids(batch_index=i)\n",
    "        previous_word_idx = None\n",
    "        label_ids = []\n",
    "        for word_idx in word_ids:\n",
    "            if word_idx is None:\n",
    "                label_ids.append(-100)\n",
    "            elif word_idx != previous_word_idx:\n",
    "                label_ids.append(label[word_idx])\n",
    "            else:\n",
    "                label_ids.append(label[word_idx] if label_all_tokens else -100)\n",
    "            previous_word_idx = word_idx\n",
    "\n",
    "        labels.append(label_ids)\n",
    "        word_ids_all.append(word_ids)\n",
    "\n",
    "    tokenized_inputs[\"labels\"] = labels\n",
    "    tokenized_inputs['word_ids'] = word_ids_all\n",
    "    return tokenized_inputs"
   ]
  },
  {
   "cell_type": "code",
   "execution_count": null,
   "id": "narrative-volleyball",
   "metadata": {
    "tags": []
   },
   "outputs": [
    {
     "data": {
      "application/vnd.jupyter.widget-view+json": {
       "model_id": "0fbb5062ae8f4f0f942341c2f56bd1ad",
       "version_major": 2,
       "version_minor": 0
      },
      "text/plain": [
       "HBox(children=(FloatProgress(value=0.0, description='Downloading', max=570.0, style=ProgressStyle(description_…"
      ]
     },
     "metadata": {},
     "output_type": "display_data"
    },
    {
     "name": "stdout",
     "output_type": "stream",
     "text": [
      "\n"
     ]
    },
    {
     "data": {
      "application/vnd.jupyter.widget-view+json": {
       "model_id": "9edbacece42944c6a82a16ad8890d25f",
       "version_major": 2,
       "version_minor": 0
      },
      "text/plain": [
       "HBox(children=(FloatProgress(value=0.0, description='Downloading', max=213450.0, style=ProgressStyle(descripti…"
      ]
     },
     "metadata": {},
     "output_type": "display_data"
    },
    {
     "name": "stdout",
     "output_type": "stream",
     "text": [
      "\n"
     ]
    },
    {
     "data": {
      "application/vnd.jupyter.widget-view+json": {
       "model_id": "39c617d1877b48fa8d277bafdcbc8afc",
       "version_major": 2,
       "version_minor": 0
      },
      "text/plain": [
       "HBox(children=(FloatProgress(value=0.0, description='Downloading', max=435797.0, style=ProgressStyle(descripti…"
      ]
     },
     "metadata": {},
     "output_type": "display_data"
    },
    {
     "name": "stdout",
     "output_type": "stream",
     "text": [
      "\n"
     ]
    },
    {
     "data": {
      "application/vnd.jupyter.widget-view+json": {
       "model_id": "e75c4b536640448b9dee558ce84f4de6",
       "version_major": 2,
       "version_minor": 0
      },
      "text/plain": [
       "HBox(children=(FloatProgress(value=0.0, description='Downloading', max=29.0, style=ProgressStyle(description_w…"
      ]
     },
     "metadata": {},
     "output_type": "display_data"
    },
    {
     "name": "stdout",
     "output_type": "stream",
     "text": [
      "\n",
      "{\"tokens\": [\"There\", \"is\", \"no\", \"dataset\", \"here\"], \"ner_tags\": [0, 0, 0, 0, 0]}\r\n",
      "{\"tokens\": [\"Load\", \"the\", \"UN\", \"Trade\", \"Development\", \"into\", \"view\"], \"ner_tags\": [0, 0, 2, 1, 1, 0, 0]}\r\n",
      "\n",
      "{'input_ids': [[101, 1247, 1110, 1185, 2233, 9388, 1303, 102], [101, 10605, 3556, 1103, 7414, 5820, 3273, 1154, 2458, 102]], 'token_type_ids': [[0, 0, 0, 0, 0, 0, 0, 0], [0, 0, 0, 0, 0, 0, 0, 0, 0, 0]], 'attention_mask': [[1, 1, 1, 1, 1, 1, 1, 1], [1, 1, 1, 1, 1, 1, 1, 1, 1, 1]], 'labels': [[-100, 0, 0, 0, 0, 0, 0, -100], [-100, 0, 0, 0, 2, 1, 1, 0, 0, -100]], 'word_ids': [[None, 0, 1, 2, 3, 3, 4, None], [None, 0, 0, 1, 2, 3, 4, 5, 6, None]]}\n",
      "\n"
     ]
    },
    {
     "data": {
      "application/vnd.jupyter.widget-view+json": {
       "model_id": "93fe05f5eafc447baf965b4fe6958842",
       "version_major": 2,
       "version_minor": 0
      },
      "text/plain": [
       "HBox(children=(FloatProgress(value=0.0, max=1.0), HTML(value='')))"
      ]
     },
     "metadata": {},
     "output_type": "display_data"
    },
    {
     "name": "stdout",
     "output_type": "stream",
     "text": [
      "\n"
     ]
    },
    {
     "data": {
      "application/vnd.jupyter.widget-view+json": {
       "model_id": "5aa01ee5012a419f9865d106c506d645",
       "version_major": 2,
       "version_minor": 0
      },
      "text/plain": [
       "HBox(children=(FloatProgress(value=0.0, max=1.0), HTML(value='')))"
      ]
     },
     "metadata": {},
     "output_type": "display_data"
    },
    {
     "name": "stdout",
     "output_type": "stream",
     "text": [
      "\n",
      "{'attention_mask': [[1, 1, 1, 1, 1, 1, 1, 1], [1, 1, 1, 1, 1, 1, 1, 1, 1, 1]], 'input_ids': [[101, 1247, 1110, 1185, 2233, 9388, 1303, 102], [101, 10605, 3556, 1103, 7414, 5820, 3273, 1154, 2458, 102]], 'labels': [[-100, 0, 0, 0, 0, 0, 0, -100], [-100, 0, 0, 0, 2, 1, 1, 0, 0, -100]], 'ner_tags': [[0, 0, 0, 0, 0], [0, 0, 2, 1, 1, 0, 0]], 'token_type_ids': [[0, 0, 0, 0, 0, 0, 0, 0], [0, 0, 0, 0, 0, 0, 0, 0, 0, 0]], 'tokens': [['There', 'is', 'no', 'dataset', 'here'], ['Load', 'the', 'UN', 'Trade', 'Development', 'into', 'view']], 'word_ids': [[None, 0, 1, 2, 3, 3, 4, None], [None, 0, 0, 1, 2, 3, 4, 5, 6, None]]}\n",
      "{'attention_mask': Sequence(feature=Value(dtype='int8', id=None), length=-1, id=None), 'input_ids': Sequence(feature=Value(dtype='int32', id=None), length=-1, id=None), 'labels': Sequence(feature=Value(dtype='int64', id=None), length=-1, id=None), 'ner_tags': Sequence(feature=ClassLabel(num_classes=3, names=['O', 'I', 'B'], names_file=None, id=None), length=-1, id=None), 'token_type_ids': Sequence(feature=Value(dtype='int8', id=None), length=-1, id=None), 'tokens': Sequence(feature=Value(dtype='string', id=None), length=-1, id=None), 'word_ids': Sequence(feature=Value(dtype='int64', id=None), length=-1, id=None)}\n"
     ]
    }
   ],
   "source": [
    "datasets = load_ner_datasets(data_files={'train':'/kaggle/tmp_ner.json', 'valid':'/kaggle/tmp_ner.json'})\n",
    "tokenizer = create_tokenizer(model_checkpoint='bert-base-cased')\n",
    "\n",
    "! cat /kaggle/tmp_ner.json\n",
    "\n",
    "print()\n",
    "print(tokenize_and_align_labels(datasets['train'][:], tokenizer, label_all_tokens=True), end='\\n\\n')\n",
    "\n",
    "tokenized_datasets = datasets.map(\n",
    "    partial(tokenize_and_align_labels, tokenizer=tokenizer, label_all_tokens=True), batched=True)\n",
    "print(tokenized_datasets['valid'][:])\n",
    "print(tokenized_datasets['train'].features)"
   ]
  },
  {
   "cell_type": "code",
   "execution_count": null,
   "id": "returning-surfing",
   "metadata": {
    "tags": []
   },
   "outputs": [],
   "source": [
    "# Save and load `datasets.dataset_dict.DatasetDict`\n",
    "tokenized_datasets.save_to_disk('testsave_datasets')"
   ]
  },
  {
   "cell_type": "code",
   "execution_count": null,
   "id": "proof-robin",
   "metadata": {
    "tags": []
   },
   "outputs": [
    {
     "name": "stdout",
     "output_type": "stream",
     "text": [
      "[[101, 1247, 1110, 1185, 2233, 9388, 1303, 102], [101, 10605, 3556, 1103, 7414, 5820, 3273, 1154, 2458, 102]]\n",
      "[[101, 1247, 1110, 1185, 2233, 9388, 1303, 102], [101, 10605, 3556, 1103, 7414, 5820, 3273, 1154, 2458, 102]]\n"
     ]
    }
   ],
   "source": [
    "print(datasets.load_from_disk('testsave_datasets')['train']['input_ids'])\n",
    "print(tokenized_datasets['train']['input_ids'])"
   ]
  },
  {
   "cell_type": "code",
   "execution_count": null,
   "id": "exterior-windows",
   "metadata": {
    "tags": []
   },
   "outputs": [
    {
     "data": {
      "application/vnd.jupyter.widget-view+json": {
       "model_id": "54d220990dac4944b48d3440850285bb",
       "version_major": 2,
       "version_minor": 0
      },
      "text/plain": [
       "HBox(children=(FloatProgress(value=0.0, description='Downloading', max=1961.0, style=ProgressStyle(description…"
      ]
     },
     "metadata": {},
     "output_type": "display_data"
    },
    {
     "name": "stdout",
     "output_type": "stream",
     "text": [
      "\n",
      "{'_': {'precision': 1.0, 'recall': 1.0, 'f1': 1.0, 'number': 1}, 'overall_precision': 1.0, 'overall_recall': 1.0, 'overall_f1': 1.0, 'overall_accuracy': 1.0}\n",
      "{'_': {'precision': 0.0, 'recall': 0.0, 'f1': 0.0, 'number': 1}, 'overall_precision': 0.0, 'overall_recall': 0.0, 'overall_f1': 0.0, 'overall_accuracy': 0.16666666666666666}\n"
     ]
    }
   ],
   "source": [
    "metric = load_metric('seqeval')\n",
    "\n",
    "predictions = np.array([['O', 'O', 'B', 'I', 'I', 'O']])\n",
    "references = [['O', 'O', 'B', 'I', 'I', 'O']]\n",
    "print(metric.compute(predictions=predictions, references=references))\n",
    "\n",
    "predictions = [['O', 'O', 'B', 'I', 'I', 'O']]\n",
    "references = [['B', 'I', 'I', 'O', 'O', 'O']]\n",
    "print(metric.compute(predictions=predictions, references=references))"
   ]
  },
  {
   "cell_type": "code",
   "execution_count": null,
   "id": "aggregate-natural",
   "metadata": {
    "tags": []
   },
   "outputs": [],
   "source": [
    "#export\n",
    "def jaccard_similarity(s1, s2):\n",
    "    l1 = set(s1.split(\" \"))\n",
    "    l2 = set(s2.split(\" \"))\n",
    "    intersection = len(list(l1.intersection(l2)))\n",
    "    union = (len(l1) + len(l2)) - intersection\n",
    "    return float(intersection) / union"
   ]
  },
  {
   "cell_type": "code",
   "execution_count": null,
   "id": "bacterial-revolution",
   "metadata": {
    "tags": []
   },
   "outputs": [
    {
     "data": {
      "text/plain": [
       "True"
      ]
     },
     "execution_count": null,
     "metadata": {},
     "output_type": "execute_result"
    }
   ],
   "source": [
    "jaccard_similarity('USGS Frog Counts Data', 'USGA Croc Counts Data') == 1 / 3"
   ]
  },
  {
   "cell_type": "code",
   "execution_count": null,
   "id": "institutional-olympus",
   "metadata": {
    "tags": []
   },
   "outputs": [],
   "source": [
    "#export\n",
    "def remove_nonoriginal_outputs(outputs, word_ids):\n",
    "    '''\n",
    "    Remove elements that correspond to special tokens or subtokens,\n",
    "    retaining only those elements that correspond to a word in original\n",
    "    text.\n",
    "    \n",
    "    Args:\n",
    "        outputs (np.array): \n",
    "        \n",
    "    Returns:\n",
    "        outputs (list)\n",
    "    '''\n",
    "    assert len(outputs) == len(word_ids)\n",
    "    idxs = [[word_id.index(i) for i in set(word_id) if i is not None] \n",
    "            for word_id in word_ids]\n",
    "    outputs = [output[idx].tolist() for output, idx in zip(outputs, idxs)]\n",
    "    for output in outputs:\n",
    "        assert -100 not in output\n",
    "    return outputs"
   ]
  },
  {
   "cell_type": "code",
   "execution_count": null,
   "id": "stone-rider",
   "metadata": {
    "tags": []
   },
   "outputs": [
    {
     "name": "stdout",
     "output_type": "stream",
     "text": [
      "predictions\n",
      "BEFORE:\n",
      "[[2 1 0 2 1 0 0 0]\n",
      " [2 0 1 1 0 2 1 1]]\n",
      "AFTER:\n",
      "[[1, 2, 1], [0, 1, 0]]\n",
      "============================================================\n",
      "label_ids\n",
      "BEFORE:\n",
      "[[-100    0    0    2    1    2    1 -100]\n",
      " [-100    2    1 -100    0 -100 -100 -100]]\n",
      "AFTER:\n",
      "[[0, 2, 1], [2, 1, 0]]\n"
     ]
    }
   ],
   "source": [
    "classlabel = get_ner_classlabel()\n",
    "\n",
    "predictions = np.random.randn(2, 8, classlabel.num_classes)\n",
    "predictions = np.argmax(predictions, axis=2)\n",
    "\n",
    "label_ids = np.array([[-100, 0, 0,    2, 1,    2,    1, -100],\n",
    "                      [-100, 2, 1, -100, 0, -100, -100, -100]])\n",
    "\n",
    "word_ids = [[None, 0, 0, 1, 2, None],\n",
    "            [None, 0, 1, 1, 2, 2, None]]\n",
    "\n",
    "true_predictions = remove_nonoriginal_outputs(predictions, word_ids)\n",
    "true_label_ids   = remove_nonoriginal_outputs(label_ids,   word_ids)\n",
    "\n",
    "print('predictions')\n",
    "print('BEFORE:')\n",
    "print(predictions)\n",
    "print('AFTER:')\n",
    "print(true_predictions)\n",
    "print(60 * '=')\n",
    "print('label_ids')\n",
    "print('BEFORE:')\n",
    "print(label_ids)\n",
    "print('AFTER:')\n",
    "print(true_label_ids)"
   ]
  },
  {
   "cell_type": "code",
   "execution_count": null,
   "id": "satisfied-founder",
   "metadata": {
    "tags": []
   },
   "outputs": [],
   "source": [
    "#export\n",
    "def compute_metrics(p, metric=None, word_ids=None, label_list=None):\n",
    "    '''\n",
    "    1. Remove predicted and ground-truth class ids of special and sub tokens.\n",
    "    2. Convert class ids to class labels. (int ---> str)\n",
    "    3. Compute metric.\n",
    "    \n",
    "    Args:\n",
    "        p (tuple): 2-tuple consisting of model prediction and ground-truth\n",
    "            labels.  These will contain elements corresponding to special \n",
    "            tokens and sub-tokens.\n",
    "        word_ids (list): Word IDs from the tokenizer's output, indicating\n",
    "            which original word each sub-token belongs to.\n",
    "    '''\n",
    "    predictions, label_ids = p\n",
    "    predictions = predictions.argmax(axis=2)\n",
    "\n",
    "    true_predictions = remove_nonoriginal_outputs(predictions, word_ids)\n",
    "    true_label_ids = remove_nonoriginal_outputs(label_ids, word_ids)\n",
    "#     true_predictions = [[p for p, l, in zip(pred, label) if l != -100] \n",
    "#                         for pred, label in zip(predictions, label_ids)]\n",
    "#     true_label_ids   = [[l for l in label if l != -100] for label in label_ids]\n",
    "    \n",
    "    true_predictions = [[label_list[p] for p in pred] for pred in true_predictions]\n",
    "    true_labels = [[label_list[i] for i in label_id] for label_id in true_label_ids]\n",
    "\n",
    "    results = metric.compute(predictions=true_predictions, references=true_labels)\n",
    "    return {\n",
    "        \"precision\": results[\"overall_precision\"],\n",
    "        \"recall\": results[\"overall_recall\"],\n",
    "        \"f1\": results[\"overall_f1\"],\n",
    "        \"accuracy\": results[\"overall_accuracy\"],\n",
    "    }"
   ]
  },
  {
   "cell_type": "code",
   "execution_count": null,
   "id": "another-volleyball",
   "metadata": {
    "tags": []
   },
   "outputs": [
    {
     "name": "stdout",
     "output_type": "stream",
     "text": [
      "[[0 1 2 2 1 0]\n",
      " [1 0 0 2 1 1]]\n",
      "[[0 2 2 0 2 2]\n",
      " [1 2 1 1 0 1]]\n"
     ]
    },
    {
     "data": {
      "text/plain": [
       "{'precision': 0.5, 'recall': 0.3333333333333333, 'f1': 0.4, 'accuracy': 0.0}"
      ]
     },
     "execution_count": null,
     "metadata": {},
     "output_type": "execute_result"
    }
   ],
   "source": [
    "batch_size = 2\n",
    "max_example_length = 6\n",
    "\n",
    "predictions = np.random.randn(batch_size, max_example_length, classlabel.num_classes)\n",
    "label_ids = np.random.randint(low=0, high=classlabel.num_classes, \n",
    "                              size=(batch_size, max_example_length), dtype=np.int16)\n",
    "word_ids = [[None, 0, 0, 1, 2, None], \n",
    "            [None, 0, 1, None]]\n",
    "\n",
    "print(predictions.argmax(axis=2))\n",
    "print(label_ids)\n",
    "p = (predictions, label_ids)\n",
    "metric = load_metric('seqeval')\n",
    "compute_metrics(p, metric=metric, label_list=classlabel.names, word_ids=word_ids)"
   ]
  },
  {
   "cell_type": "markdown",
   "id": "legitimate-decrease",
   "metadata": {
    "tags": []
   },
   "source": [
    "## NER training"
   ]
  },
  {
   "cell_type": "code",
   "execution_count": null,
   "id": "serious-substitute",
   "metadata": {
    "tags": []
   },
   "outputs": [
    {
     "name": "stderr",
     "output_type": "stream",
     "text": [
      "Training data size: 1 positives + 12 negatives: 100%|██████████| 1/1 [00:00<00:00, 37.11it/s] "
     ]
    },
    {
     "name": "stdout",
     "output_type": "stream",
     "text": [
      "Train.  Positive count: 3.  Negative count: 29.\n",
      "Valid.  Positive count: 1.  Negative count: 12.\n",
      "Downloading and preparing dataset json/default (download: Unknown size, generated: Unknown size, post-processed: Unknown size, total: Unknown size) to /root/.cache/huggingface/datasets/json/default-4a33c34b1b52fc3c/0.0.0/83d5b3a2f62630efc6b5315f00f20209b4ad91a00ac586597caee3a4da0bef02...\n"
     ]
    },
    {
     "name": "stderr",
     "output_type": "stream",
     "text": [
      "\n"
     ]
    },
    {
     "data": {
      "application/vnd.jupyter.widget-view+json": {
       "model_id": "664bc22ceb5b46c58f79a9dc826d9a25",
       "version_major": 2,
       "version_minor": 0
      },
      "text/plain": [
       "HBox(children=(FloatProgress(value=1.0, bar_style='info', layout=Layout(width='20px'), max=1.0), HTML(value=''…"
      ]
     },
     "metadata": {},
     "output_type": "display_data"
    },
    {
     "data": {
      "application/vnd.jupyter.widget-view+json": {
       "model_id": "0b971cc946b145d98ac73a36bcf8c616",
       "version_major": 2,
       "version_minor": 0
      },
      "text/plain": [
       "HBox(children=(FloatProgress(value=1.0, bar_style='info', layout=Layout(width='20px'), max=1.0), HTML(value=''…"
      ]
     },
     "metadata": {},
     "output_type": "display_data"
    },
    {
     "name": "stdout",
     "output_type": "stream",
     "text": [
      "Dataset json downloaded and prepared to /root/.cache/huggingface/datasets/json/default-4a33c34b1b52fc3c/0.0.0/83d5b3a2f62630efc6b5315f00f20209b4ad91a00ac586597caee3a4da0bef02. Subsequent calls will reuse this data.\n"
     ]
    },
    {
     "data": {
      "application/vnd.jupyter.widget-view+json": {
       "model_id": "fd4166eaa75a48058dfcbc987375e344",
       "version_major": 2,
       "version_minor": 0
      },
      "text/plain": [
       "HBox(children=(FloatProgress(value=0.0, max=1.0), HTML(value='')))"
      ]
     },
     "metadata": {},
     "output_type": "display_data"
    },
    {
     "name": "stdout",
     "output_type": "stream",
     "text": [
      "\n"
     ]
    },
    {
     "data": {
      "application/vnd.jupyter.widget-view+json": {
       "model_id": "df6c4e5e7c5643b5836d8316d8706099",
       "version_major": 2,
       "version_minor": 0
      },
      "text/plain": [
       "HBox(children=(FloatProgress(value=0.0, max=1.0), HTML(value='')))"
      ]
     },
     "metadata": {},
     "output_type": "display_data"
    },
    {
     "name": "stdout",
     "output_type": "stream",
     "text": [
      "\n"
     ]
    }
   ],
   "source": [
    "train_meta = load_train_meta('/kaggle/input/coleridgeinitiative-show-us-the-data/train.csv').iloc[:3]\n",
    "papers = load_papers('/kaggle/input/coleridgeinitiative-show-us-the-data/train', train_meta.Id)\n",
    "\n",
    "valid_cutoff = int(.50 * len(train_meta))\n",
    "valid_meta = train_meta.iloc[:valid_cutoff].reset_index(drop=True)\n",
    "train_meta = train_meta.iloc[valid_cutoff:].reset_index(drop=True)\n",
    "\n",
    "classlabel = get_ner_classlabel()\n",
    "train_cnt_pos, train_cnt_neg, train_ner_data = get_ner_data(\n",
    "    papers, df=train_meta, classlabel=classlabel, sentence_definition='section', max_length=360, overlap=20)\n",
    "valid_cnt_pos, valid_cnt_neg, valid_ner_data = get_ner_data(\n",
    "    papers, df=valid_meta, classlabel=classlabel, sentence_definition='section', max_length=360, overlap=20)\n",
    "print(f'Train.  Positive count: {train_cnt_pos}.  Negative count: {train_cnt_neg}.')\n",
    "print(f'Valid.  Positive count: {valid_cnt_pos}.  Negative count: {valid_cnt_neg}.')\n",
    "\n",
    "write_ner_json(train_ner_data, pth='train_ner.json')\n",
    "write_ner_json(valid_ner_data, pth='valid_ner.json')\n",
    "datasets = load_ner_datasets(data_files={'train':'train_ner.json', 'valid':'valid_ner.json'})\n",
    "\n",
    "model_checkpoint = 'distilbert-base-cased'\n",
    "tokenizer = create_tokenizer(model_checkpoint)\n",
    "tokenized_datasets = datasets.map(\n",
    "    partial(tokenize_and_align_labels, tokenizer=tokenizer, label_all_tokens=True), batched=True)\n",
    "\n",
    "tokenized_datasets.save_to_disk(f'datasetdict_{model_checkpoint}')"
   ]
  },
  {
   "cell_type": "code",
   "execution_count": null,
   "id": "described-sailing",
   "metadata": {
    "tags": []
   },
   "outputs": [
    {
     "data": {
      "application/vnd.jupyter.widget-view+json": {
       "model_id": "d85cea8fa1714c1fbd0e8bd6c49352c9",
       "version_major": 2,
       "version_minor": 0
      },
      "text/plain": [
       "HBox(children=(FloatProgress(value=0.0, description='Downloading', max=263273408.0, style=ProgressStyle(descri…"
      ]
     },
     "metadata": {},
     "output_type": "display_data"
    },
    {
     "name": "stdout",
     "output_type": "stream",
     "text": [
      "\n"
     ]
    },
    {
     "name": "stderr",
     "output_type": "stream",
     "text": [
      "Some weights of the model checkpoint at distilbert-base-cased were not used when initializing DistilBertForTokenClassification: ['vocab_transform.weight', 'vocab_transform.bias', 'vocab_layer_norm.weight', 'vocab_layer_norm.bias', 'vocab_projector.weight', 'vocab_projector.bias']\n",
      "- This IS expected if you are initializing DistilBertForTokenClassification from the checkpoint of a model trained on another task or with another architecture (e.g. initializing a BertForSequenceClassification model from a BertForPreTraining model).\n",
      "- This IS NOT expected if you are initializing DistilBertForTokenClassification from the checkpoint of a model that you expect to be exactly identical (initializing a BertForSequenceClassification model from a BertForSequenceClassification model).\n",
      "Some weights of DistilBertForTokenClassification were not initialized from the model checkpoint at distilbert-base-cased and are newly initialized: ['classifier.weight', 'classifier.bias']\n",
      "You should probably TRAIN this model on a down-stream task to be able to use it for predictions and inference.\n",
      "Training data size: 29 positives + 223 negatives: 100%|██████████| 10/10 [00:30<00:00,  3.07s/it] \n",
      "Training data size: 27 positives + 70 negatives: 100%|██████████| 10/10 [00:30<00:00,  3.04s/it] \n",
      "Training data size: 205 positives + 1042 negatives: 100%|██████████| 100/100 [00:25<00:00,  3.91it/s] \n",
      "Training data size: 3 positives + 29 negatives: 100%|██████████| 2/2 [00:13<00:00,  6.70s/it]\n"
     ]
    }
   ],
   "source": [
    "model_checkpoint = 'distilbert-base-cased'\n",
    "tokenizer = create_tokenizer(model_checkpoint)\n",
    "tokenized_datasets = datasets.load_from_disk(f'datasetdict_{model_checkpoint}')\n",
    "data_collator = DataCollatorForTokenClassification(tokenizer)\n",
    "\n",
    "model = AutoModelForTokenClassification.from_pretrained(model_checkpoint, num_labels=classlabel.num_classes)\n",
    "\n",
    "metric = load_metric('seqeval')\n",
    "word_ids = tokenized_datasets['valid']['word_ids']\n",
    "compute_metrics_ = partial(compute_metrics, metric=metric, label_list=classlabel.names, word_ids=word_ids)\n",
    "\n",
    "args = TrainingArguments(output_dir='test_training', num_train_epochs=2, \n",
    "                         learning_rate=2e-5, weight_decay=0.01,\n",
    "                         per_device_train_batch_size=16, per_device_eval_batch_size=16,\n",
    "                         evaluation_strategy='epoch', logging_steps=4, report_to='none', \n",
    "                         save_strategy='epoch', save_total_limit=6)\n",
    "\n",
    "trainer = Trainer(model=model, args=args, \n",
    "                  train_dataset=tokenized_datasets['train'], eval_dataset=tokenized_datasets['valid'], \n",
    "                  data_collator=data_collator, tokenizer=tokenizer, compute_metrics=compute_metrics_)"
   ]
  },
  {
   "cell_type": "code",
   "execution_count": null,
   "id": "hindu-butler",
   "metadata": {
    "tags": []
   },
   "outputs": [
    {
     "data": {
      "text/html": [
       "\n",
       "    <div>\n",
       "        <style>\n",
       "            /* Turns off some styling */\n",
       "            progress {\n",
       "                /* gets rid of default border in Firefox and Opera. */\n",
       "                border: none;\n",
       "                /* Needs to be in here for Safari polyfill so background images work as expected. */\n",
       "                background-size: auto;\n",
       "            }\n",
       "        </style>\n",
       "      \n",
       "      <progress value='4' max='4' style='width:300px; height:20px; vertical-align: middle;'></progress>\n",
       "      [4/4 02:16, Epoch 2/2]\n",
       "    </div>\n",
       "    <table border=\"1\" class=\"dataframe\">\n",
       "  <thead>\n",
       "    <tr style=\"text-align: left;\">\n",
       "      <th>Epoch</th>\n",
       "      <th>Training Loss</th>\n",
       "      <th>Validation Loss</th>\n",
       "      <th>Precision</th>\n",
       "      <th>Recall</th>\n",
       "      <th>F1</th>\n",
       "      <th>Accuracy</th>\n",
       "      <th>Runtime</th>\n",
       "      <th>Samples Per Second</th>\n",
       "    </tr>\n",
       "  </thead>\n",
       "  <tbody>\n",
       "    <tr>\n",
       "      <td>1</td>\n",
       "      <td>No log</td>\n",
       "      <td>0.723432</td>\n",
       "      <td>0.000000</td>\n",
       "      <td>0.000000</td>\n",
       "      <td>0.000000</td>\n",
       "      <td>0.968668</td>\n",
       "      <td>8.796300</td>\n",
       "      <td>1.478000</td>\n",
       "    </tr>\n",
       "    <tr>\n",
       "      <td>2</td>\n",
       "      <td>0.830200</td>\n",
       "      <td>0.576701</td>\n",
       "      <td>0.000000</td>\n",
       "      <td>0.000000</td>\n",
       "      <td>0.000000</td>\n",
       "      <td>0.991048</td>\n",
       "      <td>8.479000</td>\n",
       "      <td>1.533000</td>\n",
       "    </tr>\n",
       "  </tbody>\n",
       "</table><p>"
      ],
      "text/plain": [
       "<IPython.core.display.HTML object>"
      ]
     },
     "metadata": {},
     "output_type": "display_data"
    },
    {
     "data": {
      "text/plain": [
       "TrainOutput(global_step=4, training_loss=0.830184817314148, metrics={'train_runtime': 178.5876, 'train_samples_per_second': 0.022, 'total_flos': 10601982046656.0, 'epoch': 2.0, 'init_mem_cpu_alloc_delta': 110592, 'init_mem_cpu_peaked_delta': 0, 'train_mem_cpu_alloc_delta': 3285700608, 'train_mem_cpu_peaked_delta': 4381589504})"
      ]
     },
     "execution_count": null,
     "metadata": {},
     "output_type": "execute_result"
    }
   ],
   "source": [
    "trainer.train()"
   ]
  },
  {
   "cell_type": "code",
   "execution_count": null,
   "id": "mineral-newman",
   "metadata": {
    "tags": []
   },
   "outputs": [
    {
     "name": "stdout",
     "output_type": "stream",
     "text": [
      "total 8\r\n",
      "drwxr-xr-x 2 root root 4096 Jun  8 06:32 checkpoint-2\r\n",
      "drwxr-xr-x 2 root root 4096 Jun  8 06:34 checkpoint-4\r\n"
     ]
    }
   ],
   "source": [
    "! ls -lrt test_training"
   ]
  },
  {
   "cell_type": "code",
   "execution_count": null,
   "id": "constitutional-keyboard",
   "metadata": {
    "tags": []
   },
   "outputs": [
    {
     "data": {
      "text/html": [
       "\n",
       "    <div>\n",
       "        <style>\n",
       "            /* Turns off some styling */\n",
       "            progress {\n",
       "                /* gets rid of default border in Firefox and Opera. */\n",
       "                border: none;\n",
       "                /* Needs to be in here for Safari polyfill so background images work as expected. */\n",
       "                background-size: auto;\n",
       "            }\n",
       "        </style>\n",
       "      \n",
       "      <progress value='8' max='8' style='width:300px; height:20px; vertical-align: middle;'></progress>\n",
       "      [8/8 02:12, Epoch 4/4]\n",
       "    </div>\n",
       "    <table border=\"1\" class=\"dataframe\">\n",
       "  <thead>\n",
       "    <tr style=\"text-align: left;\">\n",
       "      <th>Epoch</th>\n",
       "      <th>Training Loss</th>\n",
       "      <th>Validation Loss</th>\n",
       "      <th>Precision</th>\n",
       "      <th>Recall</th>\n",
       "      <th>F1</th>\n",
       "      <th>Accuracy</th>\n",
       "      <th>Runtime</th>\n",
       "      <th>Samples Per Second</th>\n",
       "    </tr>\n",
       "  </thead>\n",
       "  <tbody>\n",
       "    <tr>\n",
       "      <td>3</td>\n",
       "      <td>0.830200</td>\n",
       "      <td>0.504748</td>\n",
       "      <td>0.000000</td>\n",
       "      <td>0.000000</td>\n",
       "      <td>0.000000</td>\n",
       "      <td>0.994405</td>\n",
       "      <td>9.234400</td>\n",
       "      <td>1.408000</td>\n",
       "    </tr>\n",
       "    <tr>\n",
       "      <td>4</td>\n",
       "      <td>0.477600</td>\n",
       "      <td>0.435235</td>\n",
       "      <td>0.000000</td>\n",
       "      <td>0.000000</td>\n",
       "      <td>0.000000</td>\n",
       "      <td>0.996270</td>\n",
       "      <td>8.577200</td>\n",
       "      <td>1.516000</td>\n",
       "    </tr>\n",
       "  </tbody>\n",
       "</table><p>"
      ],
      "text/plain": [
       "<IPython.core.display.HTML object>"
      ]
     },
     "metadata": {},
     "output_type": "display_data"
    },
    {
     "data": {
      "text/plain": [
       "TrainOutput(global_step=8, training_loss=0.23880064487457275, metrics={'train_runtime': 172.6216, 'train_samples_per_second': 0.046, 'total_flos': 21203964093312.0, 'epoch': 4.0, 'init_mem_cpu_alloc_delta': 0, 'init_mem_cpu_peaked_delta': 0, 'train_mem_cpu_alloc_delta': 3619442688, 'train_mem_cpu_peaked_delta': 1847767040})"
      ]
     },
     "execution_count": null,
     "metadata": {},
     "output_type": "execute_result"
    }
   ],
   "source": [
    "args = TrainingArguments(output_dir='test_training', num_train_epochs=4, \n",
    "                         learning_rate=2e-5, weight_decay=0.01,\n",
    "                         per_device_train_batch_size=16, per_device_eval_batch_size=16,\n",
    "                         evaluation_strategy='epoch', logging_steps=4, report_to='none', \n",
    "                         save_strategy='epoch', save_total_limit=6)\n",
    "\n",
    "trainer = Trainer(model=model, args=args, \n",
    "                  train_dataset=tokenized_datasets['train'], eval_dataset=tokenized_datasets['valid'], \n",
    "                  data_collator=data_collator, tokenizer=tokenizer, \n",
    "                  compute_metrics=compute_metrics_)\n",
    "trainer.train(resume_from_checkpoint='/kaggle/working/test_training/checkpoint-4/')"
   ]
  },
  {
   "cell_type": "code",
   "execution_count": null,
   "id": "chemical-quilt",
   "metadata": {
    "tags": []
   },
   "outputs": [
    {
     "data": {
      "text/html": [
       "\n",
       "    <div>\n",
       "        <style>\n",
       "            /* Turns off some styling */\n",
       "            progress {\n",
       "                /* gets rid of default border in Firefox and Opera. */\n",
       "                border: none;\n",
       "                /* Needs to be in here for Safari polyfill so background images work as expected. */\n",
       "                background-size: auto;\n",
       "            }\n",
       "        </style>\n",
       "      \n",
       "      <progress value='1' max='1' style='width:300px; height:20px; vertical-align: middle;'></progress>\n",
       "      [1/1 : < :]\n",
       "    </div>\n",
       "    "
      ],
      "text/plain": [
       "<IPython.core.display.HTML object>"
      ]
     },
     "metadata": {},
     "output_type": "display_data"
    },
    {
     "data": {
      "text/plain": [
       "{'eval_loss': 0.43523481488227844,\n",
       " 'eval_precision': 0.0,\n",
       " 'eval_recall': 0.0,\n",
       " 'eval_f1': 0.0,\n",
       " 'eval_accuracy': 0.9962700484893696,\n",
       " 'eval_runtime': 8.7868,\n",
       " 'eval_samples_per_second': 1.479,\n",
       " 'epoch': 4.0,\n",
       " 'eval_mem_cpu_alloc_delta': -2249011200,\n",
       " 'eval_mem_cpu_peaked_delta': 2249011200}"
      ]
     },
     "execution_count": null,
     "metadata": {},
     "output_type": "execute_result"
    }
   ],
   "source": [
    "trainer.evaluate()"
   ]
  },
  {
   "cell_type": "markdown",
   "id": "incoming-format",
   "metadata": {
    "tags": []
   },
   "source": [
    "## NER inference\n",
    "\n",
    "**Turn off the Internet here**"
   ]
  },
  {
   "cell_type": "code",
   "execution_count": null,
   "id": "tropical-employment",
   "metadata": {
    "tags": []
   },
   "outputs": [],
   "source": [
    "#export\n",
    "def get_ner_inference_data(papers, sample_submission, classlabel=None, \n",
    "                           sentence_definition='sentence', max_length=64, overlap=20, \n",
    "                           min_length=10, contains_keywords=['data', 'study']):\n",
    "    '''\n",
    "    Args:\n",
    "        papers (dict): Each list in this dictionary consists of the section of a paper.\n",
    "        sample_submission (pd.DataFrame): Competition 'sample_submission.csv'.\n",
    "    Returns:\n",
    "        test_rows (list): Each list in this list is of the form: \n",
    "             [('goat', 0), ('win', 0), ...] and represents a sentence.  \n",
    "        paper_length (list): Number of sentences in each paper.\n",
    "    '''\n",
    "    test_rows = [] \n",
    "    paper_length = [] \n",
    "\n",
    "    for paper_id in sample_submission['Id']:\n",
    "        paper = papers[paper_id]\n",
    "\n",
    "        sentences = extract_sentences(paper, sentence_definition=sentence_definition)\n",
    "        sentences = shorten_sentences(sentences, max_length=max_length, overlap=overlap)\n",
    "        \n",
    "        if min_length > 0:\n",
    "            sentences = [sentence for sentence in sentences if len(sentence) > min_length] \n",
    "            \n",
    "        if contains_keywords is not None:\n",
    "            sentences = [sentence for sentence in sentences \n",
    "                         if any(word in sentence.lower() for word in contains_keywords)]\n",
    "\n",
    "        for sentence in sentences:\n",
    "            sentence_words = sentence.split()\n",
    "            dummy_tags = [classlabel.str2int('O')]*len(sentence_words)\n",
    "            test_rows.append(list(zip(sentence_words, dummy_tags)))\n",
    "\n",
    "        paper_length.append(len(sentences))\n",
    "\n",
    "    print(f'total number of \"sentences\": {len(test_rows)}')\n",
    "    return test_rows, paper_length"
   ]
  },
  {
   "cell_type": "code",
   "execution_count": null,
   "id": "restricted-domestic",
   "metadata": {
    "tags": []
   },
   "outputs": [
    {
     "name": "stdout",
     "output_type": "stream",
     "text": [
      "total number of \"sentences\": 218\n",
      "[('3', 0), ('a', 0), ('linear', 0), ('increase', 0), ('in', 0), ('general', 0), ('cognitive', 0), ('ability', 0), ('was', 0), ('related', 0), ('positively', 0), ('to', 0), ('minor', 0), ('A', 0), ('allele', 0), ('load', 0), ('We', 0), ('tested', 0), ('the', 0), ('robustness', 0), ('of', 0), ('the', 0), ('association', 0), ('between', 0), ('rs1906252', 0), ('and', 0), ('g', 0), ('in', 0), ('a', 0), ('series', 0), ('of', 0), ('sensitivity', 0), ('analyses', 0), ('First', 0), ('a', 0), ('potential', 0), ('confound', 0), ('worthy', 0), ('of', 0), ('consideration', 0), ('was', 0), ('the', 0), ('fact', 0), ('that', 0), ('two', 0), ('COGENT1', 0), ('studies', 0), ('Helsinki', 0), ('Birth', 0), ('Cohort', 0), ('Study', 0), ('HBCS', 0), ('n', 0), ('332', 0), ('and', 0), ('the', 0), ('1936', 0), ('Lothian', 0), ('Birth', 0), ('Cohort', 0), ('Study', 0), ('LBC1936', 0), ('n', 0), ('1', 0), ('005', 0), ('Lencz', 0), ('et', 0), ('al', 0), ('2013', 0), ('were', 0), ('also', 0), ('included', 0), ('in', 0), ('SSGAC', 0), ('Rietveld', 0), ('et', 0), ('al', 0), ('2014b', 0), ('Rietveld', 0), ('et', 0), ('al', 0), ('2013', 0), ('The', 0), ('non', 0), ('independence', 0), ('of', 0), ('our', 0), ('collective', 0), ('studies', 0), ('and', 0), ('the', 0), ('high', 0), ('correlation', 0), ('between', 0), ('educational', 0), ('attainment', 0), ('and', 0), ('cognition', 0), ('necessitated', 0), ('a', 0), ('sensitivity', 0), ('analysis', 0), ('requiring', 0), ('HBCS', 0), ('and', 0), ('LBC1936', 0), ('be', 0), ('excluded', 0), ('and', 0), ('the', 0), ('remaining', 0), ('COGENT', 0), ('studies', 0), ('reanalyzed', 0), ('This', 0), ('analysis', 0), ('also', 0), ('yielded', 0), ('a', 0), ('significant', 0), ('result', 0), ('between', 0), ('variation', 0), ('in', 0), ('rs1906252', 0), ('and', 0), ('g', 0), ('026', 0), ('P', 0), ('1', 0), ('60', 0), ('10', 0), ('3', 0), ('two', 0), ('tailed', 0), ('P', 0), ('Q', 0), ('889', 0), ('see', 0), ('Table', 0), ('2', 0), ('Next', 0), ('age', 0), ('had', 0), ('a', 0), ('bimodal', 0), ('distribution', 0), ('across', 0), ('the', 0), ('21', 0), ('COGENT', 0), ('studies', 0), ('The', 0), ('first', 0), ('peak', 0), ('was', 0), ('at', 0), ('approximately', 0), ('18', 0), ('years', 0), ('of', 0), ('age', 0), ('and', 0), ('the', 0), ('second', 0), ('peak', 0), ('at', 0), ('approximately', 0), ('70', 0), ('years', 0), ('supplemental', 0), ('figure', 0), ('S1', 0), ('To', 0), ('explore', 0), ('the', 0), ('effect', 0), ('of', 0), ('age', 0), ('on', 0), ('the', 0), ('association', 0), ('between', 0), ('rs1906252', 0), ('and', 0), ('g', 0), ('across', 0), ('the', 0), ('lifespan', 0), ('we', 0), ('examined', 0), ('the', 0), ('interaction', 0), ('between', 0), ('rs1906252', 0), ('and', 0), ('age', 0), ('on', 0), ('g', 0), ('which', 0), ('was', 0), ('not', 0), ('significant', 0), ('0004', 0), ('P', 0), ('302', 0), ('We', 0), ('then', 0), ('split', 0), ('the', 0), ('sample', 0), ('at', 0), ('the', 0), ('valley', 0), ('of', 0), ('the', 0), ('distribution', 0), ('at', 0), ('age', 0), ('40', 0), ('This', 0), ('resulted', 0), ('in', 0), ('a', 0), ('group', 0), ('of', 0), ('7', 0), ('208', 0), ('individuals', 0), ('under', 0), ('40', 0), ('years', 0), ('of', 0), ('age', 0), ('and', 0), ('a', 0), ('group', 0), ('of', 0), ('13', 0), ('287', 0), ('individuals', 0), ('40', 0), ('years', 0), ('of', 0), ('age', 0), ('or', 0), ('older', 0), ('The', 0), ('interaction', 0), ('between', 0), ('rs1906252', 0), ('and', 0), ('this', 0), ('dichotomous', 0), ('age', 0), ('split', 0), ('was', 0), ('not', 0), ('significant', 0), ('007', 0), ('P', 0), ('728', 0), ('Thus', 0), ('age', 0), ('did', 0), ('not', 0), ('moderate', 0), ('the', 0), ('association', 0), ('between', 0), ('rs1906252', 0), ('and', 0), ('general', 0), ('cognitive', 0), ('function', 0), ('across', 0), ('the', 0), ('lifespan', 0), ('in', 0), ('COGENT', 0)]\n",
      "[16, 125, 45, 32]\n"
     ]
    }
   ],
   "source": [
    "sample_submission = pd.read_csv('/kaggle/input/coleridgeinitiative-show-us-the-data/sample_submission.csv')\n",
    "papers = load_papers('/kaggle/input/coleridgeinitiative-show-us-the-data/test', sample_submission.Id)\n",
    "classlabel = get_ner_classlabel()\n",
    "test_rows, paper_length = get_ner_inference_data(papers, sample_submission, classlabel=classlabel, \n",
    "                                                 sentence_definition='section', max_length=360, overlap=20,\n",
    "                                                 min_length=0, contains_keywords=None)\n",
    "print(test_rows[1])\n",
    "print(paper_length)"
   ]
  },
  {
   "cell_type": "code",
   "execution_count": null,
   "id": "temporal-andrew",
   "metadata": {
    "tags": []
   },
   "outputs": [],
   "source": [
    "#export\n",
    "def ner_predict(pth=None, tokenizer=None, model=None, metric=None):\n",
    "    classlabel = get_ner_classlabel()\n",
    "    datasets = load_ner_datasets(data_files={'test':pth})\n",
    "\n",
    "    print('Tokenizing testset...', end='')\n",
    "    t0 = time.time()\n",
    "    tokenized_datasets = datasets.map(\n",
    "        partial(tokenize_and_align_labels,tokenizer=tokenizer, label_all_tokens=True), \n",
    "        batched=True)\n",
    "    print(f'completed in {(time.time() - t0) / 60:.2f} mins.')\n",
    "    \n",
    "    print('Creating data collator...')\n",
    "    data_collator = DataCollatorForTokenClassification(tokenizer)\n",
    "    \n",
    "    print('Creating (dummy) training arguments...')\n",
    "    args = TrainingArguments(output_dir='test_ner', num_train_epochs=3, \n",
    "                             learning_rate=2e-5, weight_decay=0.01,\n",
    "                             per_device_train_batch_size=16, per_device_eval_batch_size=16,\n",
    "                             evaluation_strategy='epoch', logging_steps=4, report_to='none', \n",
    "                             save_strategy='epoch', save_total_limit=6)\n",
    "\n",
    "    print('Creating trainer...')\n",
    "    word_ids = tokenized_datasets['test']['word_ids']\n",
    "    compute_metrics_ = partial(compute_metrics, metric=metric, label_list=classlabel.names, word_ids=word_ids)\n",
    "    trainer = Trainer(model=model, args=args, \n",
    "                      train_dataset=tokenized_datasets['test'], eval_dataset=tokenized_datasets['test'], \n",
    "                      data_collator=data_collator, tokenizer=tokenizer, compute_metrics=compute_metrics_)\n",
    "\n",
    "    print('Predicting on test samples...')\n",
    "    t0 = time.time()\n",
    "    predictions, label_ids, _ = trainer.predict(tokenized_datasets['test'])\n",
    "    print(f'completed in {(time.time() - t0) / 60:.2f} mins.')\n",
    "    print('Argmaxing...')\n",
    "    t0 = time.time()\n",
    "    predictions = predictions.argmax(axis=2)\n",
    "    print(f'completed in {(time.time() - t0) / 60:.2f} mins.')\n",
    "    \n",
    "    print('Removing non-original outputs...', end='')\n",
    "    t0 = time.time()\n",
    "    predictions = remove_nonoriginal_outputs(predictions, word_ids)\n",
    "    label_ids   = remove_nonoriginal_outputs(label_ids, word_ids)\n",
    "    print(f'completed in {(time.time() - t0) / 60:.2f} mins.')\n",
    "    \n",
    "    return predictions, label_ids"
   ]
  },
  {
   "cell_type": "code",
   "execution_count": null,
   "id": "flying-house",
   "metadata": {
    "tags": []
   },
   "outputs": [],
   "source": [
    "# This shows where to look for the cached metric `seqeval`.\n",
    "# metric = load_metric('/root/.cache/huggingface/modules/datasets_modules/metrics/seqeval/ec5b7242a8c40468d189ca0b2b10612578dbcad311b2a134c99e3ded58a0d6e3/seqeval.py')\n",
    "\n",
    "# Exporting the cached metric \n",
    "\n",
    "# %cd /root/.cache\n",
    "# ! zip -r huggingface_cache.zip huggingface/modules/datasets_modules/metrics/seqeval/ec5b7242a8c40468d189ca0b2b10612578dbcad311b2a134c99e3ded58a0d6e3/\n",
    "# %cd "
   ]
  },
  {
   "cell_type": "code",
   "execution_count": null,
   "id": "chubby-regard",
   "metadata": {
    "tags": []
   },
   "outputs": [],
   "source": [
    "model_checkpoint = 'test_training/checkpoint-4/'\n",
    "\n",
    "tokenizer = create_tokenizer(model_checkpoint=model_checkpoint)\n",
    "model = AutoModelForTokenClassification.from_pretrained(model_checkpoint)\n",
    "# metric = load_metric('seqeval')\n",
    "metric = load_metric('/root/.cache/huggingface/modules/datasets_modules/metrics/seqeval/ec5b7242a8c40468d189ca0b2b10612578dbcad311b2a134c99e3ded58a0d6e3/seqeval.py')"
   ]
  },
  {
   "cell_type": "code",
   "execution_count": null,
   "id": "lightweight-month",
   "metadata": {
    "tags": []
   },
   "outputs": [
    {
     "name": "stdout",
     "output_type": "stream",
     "text": [
      "Downloading and preparing dataset json/default (download: Unknown size, generated: Unknown size, post-processed: Unknown size, total: Unknown size) to /root/.cache/huggingface/datasets/json/default-4523ac3454b4ef14/0.0.0/83d5b3a2f62630efc6b5315f00f20209b4ad91a00ac586597caee3a4da0bef02...\n"
     ]
    },
    {
     "data": {
      "application/vnd.jupyter.widget-view+json": {
       "model_id": "4e95bedbf14f4c5cbb064c808e27289a",
       "version_major": 2,
       "version_minor": 0
      },
      "text/plain": [
       "HBox(children=(FloatProgress(value=1.0, bar_style='info', layout=Layout(width='20px'), max=1.0), HTML(value=''…"
      ]
     },
     "metadata": {},
     "output_type": "display_data"
    },
    {
     "name": "stdout",
     "output_type": "stream",
     "text": [
      "Dataset json downloaded and prepared to /root/.cache/huggingface/datasets/json/default-4523ac3454b4ef14/0.0.0/83d5b3a2f62630efc6b5315f00f20209b4ad91a00ac586597caee3a4da0bef02. Subsequent calls will reuse this data.\n",
      "Tokenizing testset..."
     ]
    },
    {
     "data": {
      "application/vnd.jupyter.widget-view+json": {
       "model_id": "f9f1698d977c4de6b2b994335f5a70b4",
       "version_major": 2,
       "version_minor": 0
      },
      "text/plain": [
       "HBox(children=(FloatProgress(value=0.0, max=1.0), HTML(value='')))"
      ]
     },
     "metadata": {},
     "output_type": "display_data"
    },
    {
     "name": "stdout",
     "output_type": "stream",
     "text": [
      "\n",
      "completed in 0.00 mins.\n",
      "Creating data collator...\n",
      "Creating (dummy) training arguments...\n",
      "Creating trainer...\n",
      "Predicting on test samples...\n"
     ]
    },
    {
     "data": {
      "text/html": [
       "\n",
       "    <div>\n",
       "        <style>\n",
       "            /* Turns off some styling */\n",
       "            progress {\n",
       "                /* gets rid of default border in Firefox and Opera. */\n",
       "                border: none;\n",
       "                /* Needs to be in here for Safari polyfill so background images work as expected. */\n",
       "                background-size: auto;\n",
       "            }\n",
       "        </style>\n",
       "      \n",
       "      <progress value='1' max='1' style='width:300px; height:20px; vertical-align: middle;'></progress>\n",
       "      [1/1 : < :]\n",
       "    </div>\n",
       "    "
      ],
      "text/plain": [
       "<IPython.core.display.HTML object>"
      ]
     },
     "metadata": {},
     "output_type": "display_data"
    },
    {
     "name": "stderr",
     "output_type": "stream",
     "text": [
      "/opt/conda/lib/python3.7/site-packages/seqeval/metrics/v1.py:57: UndefinedMetricWarning: Recall and F-score are ill-defined and being set to 0.0 due to no true samples. Use `zero_division` parameter to control this behavior.\n",
      "  _warn_prf(average, modifier, msg_start, len(result))\n"
     ]
    },
    {
     "name": "stdout",
     "output_type": "stream",
     "text": [
      "completed in 0.01 mins.\n",
      "Argmaxing...\n",
      "completed in 0.00 mins.\n",
      "Removing non-original outputs...completed in 0.00 mins.\n",
      "Sample 0: 11 11 11\n",
      "Sample 1: 27 27 27\n"
     ]
    }
   ],
   "source": [
    "samples = ['''Archaeologists estimate the carvings are between 4,000 and 5,000 years old''', \n",
    "           ('''I could see that I was looking at a deer stag upside down, '''\n",
    "            '''and as I continued looking around, more animals appeared on the rock,” he said.''')]\n",
    "test_rows = [list(zip(sample.split(), len(sample.split()) * [0])) for sample in samples]\n",
    "write_ner_json(test_rows, pth='test_ner.json')\n",
    "\n",
    "predictions, label_ids = ner_predict(pth='test_ner.json', tokenizer=tokenizer, model=model, metric=metric)\n",
    "for i in range(len(predictions)):\n",
    "    print(f'Sample {i}:', len(predictions[i]), len(label_ids[i]), len(samples[i].split()))"
   ]
  },
  {
   "cell_type": "code",
   "execution_count": null,
   "id": "grand-illness",
   "metadata": {
    "tags": []
   },
   "outputs": [],
   "source": [
    "#export\n",
    "\n",
    "def batched_ner_predict(pth, tokenizer=None, model=None, metric=None, \n",
    "                        batch_size=16):\n",
    "    '''\n",
    "    Do inference on dataset in batches.\n",
    "    '''\n",
    "    lines = open(pth, mode='r').readlines()\n",
    "    \n",
    "    pth_tmp = 'ner_predict_tmp.json'\n",
    "    predictions, label_ids = [], []\n",
    "    for ib in range(0, len(lines), batch_size):\n",
    "        with open(pth_tmp, mode='w') as f:\n",
    "            f.writelines(lines[ ib: ib + batch_size ])\n",
    "\n",
    "        predictions_, label_ids_ = ner_predict(\n",
    "            pth_tmp, tokenizer=tokenizer, model=model, metric=metric)\n",
    "        predictions.extend(predictions_)\n",
    "        label_ids.extend(label_ids_)\n",
    "    return predictions, label_ids"
   ]
  },
  {
   "cell_type": "code",
   "execution_count": null,
   "id": "seven-inventory",
   "metadata": {
    "tags": []
   },
   "outputs": [
    {
     "name": "stdout",
     "output_type": "stream",
     "text": [
      "Downloading and preparing dataset json/default (download: Unknown size, generated: Unknown size, post-processed: Unknown size, total: Unknown size) to /root/.cache/huggingface/datasets/json/default-59c95edc666f04c8/0.0.0/83d5b3a2f62630efc6b5315f00f20209b4ad91a00ac586597caee3a4da0bef02...\n"
     ]
    },
    {
     "data": {
      "application/vnd.jupyter.widget-view+json": {
       "model_id": "09c08810299445aa9075d60177616714",
       "version_major": 2,
       "version_minor": 0
      },
      "text/plain": [
       "HBox(children=(FloatProgress(value=1.0, bar_style='info', layout=Layout(width='20px'), max=1.0), HTML(value=''…"
      ]
     },
     "metadata": {},
     "output_type": "display_data"
    },
    {
     "name": "stdout",
     "output_type": "stream",
     "text": [
      "Dataset json downloaded and prepared to /root/.cache/huggingface/datasets/json/default-59c95edc666f04c8/0.0.0/83d5b3a2f62630efc6b5315f00f20209b4ad91a00ac586597caee3a4da0bef02. Subsequent calls will reuse this data.\n",
      "Tokenizing testset..."
     ]
    },
    {
     "data": {
      "application/vnd.jupyter.widget-view+json": {
       "model_id": "7bc6036d7774458fa96cf4572fffd73c",
       "version_major": 2,
       "version_minor": 0
      },
      "text/plain": [
       "HBox(children=(FloatProgress(value=0.0, max=1.0), HTML(value='')))"
      ]
     },
     "metadata": {},
     "output_type": "display_data"
    },
    {
     "name": "stdout",
     "output_type": "stream",
     "text": [
      "\n",
      "completed in 0.00 mins.\n",
      "Creating data collator...\n",
      "Creating (dummy) training arguments...\n",
      "Creating trainer...\n",
      "Predicting on test samples...\n"
     ]
    },
    {
     "data": {
      "text/html": [
       "\n",
       "    <div>\n",
       "        <style>\n",
       "            /* Turns off some styling */\n",
       "            progress {\n",
       "                /* gets rid of default border in Firefox and Opera. */\n",
       "                border: none;\n",
       "                /* Needs to be in here for Safari polyfill so background images work as expected. */\n",
       "                background-size: auto;\n",
       "            }\n",
       "        </style>\n",
       "      \n",
       "      <progress value='1' max='1' style='width:300px; height:20px; vertical-align: middle;'></progress>\n",
       "      [1/1 : < :]\n",
       "    </div>\n",
       "    "
      ],
      "text/plain": [
       "<IPython.core.display.HTML object>"
      ]
     },
     "metadata": {},
     "output_type": "display_data"
    },
    {
     "name": "stdout",
     "output_type": "stream",
     "text": [
      "completed in 0.01 mins.\n",
      "Argmaxing...\n",
      "completed in 0.00 mins.\n",
      "Removing non-original outputs...completed in 0.00 mins.\n",
      "Downloading and preparing dataset json/default (download: Unknown size, generated: Unknown size, post-processed: Unknown size, total: Unknown size) to /root/.cache/huggingface/datasets/json/default-e86a2e26b64576b6/0.0.0/83d5b3a2f62630efc6b5315f00f20209b4ad91a00ac586597caee3a4da0bef02...\n"
     ]
    },
    {
     "data": {
      "application/vnd.jupyter.widget-view+json": {
       "model_id": "4656b333b1964c5f932a5d18dcc49656",
       "version_major": 2,
       "version_minor": 0
      },
      "text/plain": [
       "HBox(children=(FloatProgress(value=1.0, bar_style='info', layout=Layout(width='20px'), max=1.0), HTML(value=''…"
      ]
     },
     "metadata": {},
     "output_type": "display_data"
    },
    {
     "name": "stdout",
     "output_type": "stream",
     "text": [
      "Dataset json downloaded and prepared to /root/.cache/huggingface/datasets/json/default-e86a2e26b64576b6/0.0.0/83d5b3a2f62630efc6b5315f00f20209b4ad91a00ac586597caee3a4da0bef02. Subsequent calls will reuse this data.\n",
      "Tokenizing testset..."
     ]
    },
    {
     "data": {
      "application/vnd.jupyter.widget-view+json": {
       "model_id": "dba38f241c0e4a7bbe7505ed5b08f666",
       "version_major": 2,
       "version_minor": 0
      },
      "text/plain": [
       "HBox(children=(FloatProgress(value=0.0, max=1.0), HTML(value='')))"
      ]
     },
     "metadata": {},
     "output_type": "display_data"
    },
    {
     "name": "stdout",
     "output_type": "stream",
     "text": [
      "\n",
      "completed in 0.00 mins.\n",
      "Creating data collator...\n",
      "Creating (dummy) training arguments...\n",
      "Creating trainer...\n",
      "Predicting on test samples...\n"
     ]
    },
    {
     "data": {
      "text/html": [
       "\n",
       "    <div>\n",
       "        <style>\n",
       "            /* Turns off some styling */\n",
       "            progress {\n",
       "                /* gets rid of default border in Firefox and Opera. */\n",
       "                border: none;\n",
       "                /* Needs to be in here for Safari polyfill so background images work as expected. */\n",
       "                background-size: auto;\n",
       "            }\n",
       "        </style>\n",
       "      \n",
       "      <progress value='1' max='1' style='width:300px; height:20px; vertical-align: middle;'></progress>\n",
       "      [1/1 : < :]\n",
       "    </div>\n",
       "    "
      ],
      "text/plain": [
       "<IPython.core.display.HTML object>"
      ]
     },
     "metadata": {},
     "output_type": "display_data"
    },
    {
     "name": "stdout",
     "output_type": "stream",
     "text": [
      "completed in 0.01 mins.\n",
      "Argmaxing...\n",
      "completed in 0.00 mins.\n",
      "Removing non-original outputs...completed in 0.00 mins.\n",
      "Sample 0: 11 11 11\n",
      "Sample 1: 27 27 27\n",
      "Sample 2: 15 15 15\n",
      "Sample 3: 16 16 16\n"
     ]
    }
   ],
   "source": [
    "samples = ['''Archaeologists estimate the carvings are between 4,000 and 5,000 years old''', \n",
    "           ('''I could see that I was looking at a deer stag upside down, '''\n",
    "            '''and as I continued looking around, more animals appeared on the rock,” he said.'''),\n",
    "           '''The RNN model we are about to build has LSTM cells as basic hidden units.''', \n",
    "           '''YouTube series, the Crooner Sessions. Now he gets his musical pals together in real life for ''']\n",
    "test_rows = [list(zip(sample.split(), len(sample.split()) * [0])) for sample in samples]\n",
    "write_ner_json(test_rows, pth='test_ner.json')\n",
    "\n",
    "predictions, label_ids = batched_ner_predict(\n",
    "    'test_ner.json', tokenizer=tokenizer, model=model, metric=metric, batch_size=2)\n",
    "    \n",
    "for i in range(len(predictions)):\n",
    "    print(f'Sample {i}:', len(predictions[i]), len(label_ids[i]), len(samples[i].split()))"
   ]
  },
  {
   "cell_type": "code",
   "execution_count": null,
   "id": "alien-mailing",
   "metadata": {
    "tags": []
   },
   "outputs": [],
   "source": [
    "#export\n",
    "def get_paper_dataset_labels(pth, paper_length, predictions):\n",
    "    '''\n",
    "    Args:\n",
    "        pth (Path, str): Path to json file containing NER data.  Each row is \n",
    "            of form: {'tokens': ['Studying', 'human'], 'ner_tags': [0, 0, ...]}.\n",
    "    \n",
    "    Returns:\n",
    "        paper_dataset_labels (list): Each element is a set consisting of labels predicted\n",
    "            by the model.\n",
    "    '''\n",
    "    test_sentences = [json.loads(sample)['tokens'] for sample in open(pth).readlines()]\n",
    "    \n",
    "    paper_dataset_labels = [] # store all dataset labels for each publication\n",
    "    for ipaper in range(len(paper_length)):\n",
    "        istart = sum(paper_length[:ipaper])\n",
    "        iend = istart + paper_length[ipaper]\n",
    "        \n",
    "        labels = set()\n",
    "        for sentence, pred in zip(test_sentences[istart:iend], predictions[istart:iend]):\n",
    "            curr_phrase = ''\n",
    "            for word, tag in zip(sentence, pred):\n",
    "                if tag == 'B': # start a new phrase\n",
    "                    if curr_phrase:\n",
    "                        labels.add(curr_phrase)\n",
    "                        curr_phrase = ''\n",
    "                    curr_phrase = word\n",
    "                elif tag == 'I' and curr_phrase: # continue the phrase\n",
    "                    curr_phrase += ' ' + word\n",
    "                else: # end last phrase (if any)\n",
    "                    if curr_phrase:\n",
    "                        labels.add(curr_phrase)\n",
    "                        curr_phrase = ''\n",
    "            # check if the label is the suffix of the sentence\n",
    "            if curr_phrase:\n",
    "                labels.add(curr_phrase)\n",
    "                curr_phrase = ''\n",
    "\n",
    "        # record dataset labels for this publication\n",
    "        paper_dataset_labels.append(labels)\n",
    "\n",
    "    return paper_dataset_labels"
   ]
  },
  {
   "cell_type": "code",
   "execution_count": null,
   "id": "metallic-horse",
   "metadata": {
    "tags": []
   },
   "outputs": [
    {
     "name": "stdout",
     "output_type": "stream",
     "text": [
      "[{'present all the', 'Tigers EcoNAX dataset'}, {'WGS Equality Definitiveness Dataset'}]\n"
     ]
    }
   ],
   "source": [
    "sentences = ['They do not present all the features', \n",
    "             'Despite the pretraining on the Tigers EcoNAX dataset',\n",
    "             'Weirdly there has been lots of studies based on WGS Equality Definitiveness Dataset']\n",
    "paper_length = [2, 1]\n",
    "test_rows = [[(word, 0) for word in sentence.split()] for sentence in sentences]\n",
    "predictions = [['O', 'O', 'O', 'B', 'I', 'I', 'O'],\n",
    "               ['O', 'O', 'O', 'O', 'O', 'B', 'I', 'I'],\n",
    "               ['O', 'O', 'O', 'O', 'O', 'O', 'O', 'O', 'O', 'B', 'I', 'I', 'I']]\n",
    "for i, row in enumerate(test_rows):\n",
    "    assert len(row) == len(predictions[i])\n",
    "\n",
    "write_ner_json(test_rows, pth='test_ner.json')\n",
    "\n",
    "paper_dataset_labels = get_paper_dataset_labels('test_ner.json', paper_length, predictions)\n",
    "print(paper_dataset_labels)"
   ]
  },
  {
   "cell_type": "markdown",
   "id": "assumed-output",
   "metadata": {
    "tags": []
   },
   "source": [
    "# Literal matching"
   ]
  },
  {
   "cell_type": "code",
   "execution_count": null,
   "id": "serial-advisory",
   "metadata": {
    "tags": []
   },
   "outputs": [],
   "source": [
    "#export\n",
    "def create_knowledge_bank(pth):\n",
    "    '''\n",
    "    Args:\n",
    "        pth (str): Path to meta data like 'train.csv', which\n",
    "        needs to have columns: 'dataset_title', 'dataset_label', and 'cleaned_label'.\n",
    "        \n",
    "    Returns:\n",
    "        all_labels (set): All possible strings associated with a dataset from the meta data.\n",
    "    '''\n",
    "    df = load_train_meta(pth, group_id=False)\n",
    "    all_labels = set()\n",
    "    for label_1, label_2, label_3 in df[['dataset_title', 'dataset_label', 'cleaned_label']].itertuples(index=False):\n",
    "        all_labels.add(str(label_1).lower())\n",
    "        all_labels.add(str(label_2).lower())\n",
    "        all_labels.add(str(label_3).lower())\n",
    "    return all_labels"
   ]
  },
  {
   "cell_type": "code",
   "execution_count": null,
   "id": "female-begin",
   "metadata": {
    "tags": []
   },
   "outputs": [
    {
     "name": "stdout",
     "output_type": "stream",
     "text": [
      "Creating knowledge bank...completed in 0.1212 s.\n",
      "180\n",
      "['2019 ncov complete genome sequences', '2019 ncov genome sequence', '2019 ncov genome sequences', '2019-ncov complete genome sequences', '2019-ncov genome sequence', '2019-ncov genome sequences', 'adni', 'advanced national seismic system (anss) comprehensive catalog (comcat)', 'advanced national seismic system anss comprehensive catalog comcat ', 'advanced national seismic system comprehensive catalog']\n"
     ]
    }
   ],
   "source": [
    "pth = Path('/kaggle/input/coleridgeinitiative-show-us-the-data/train.csv')\n",
    "\n",
    "print('Creating knowledge bank...', end='')\n",
    "t0 = time.time()\n",
    "knowledge_bank = create_knowledge_bank(pth)\n",
    "print(f'completed in {time.time() - t0:.4f} s.')\n",
    "\n",
    "print(len(knowledge_bank))\n",
    "print(sorted(knowledge_bank)[:10])"
   ]
  },
  {
   "cell_type": "code",
   "execution_count": null,
   "id": "hollywood-newman",
   "metadata": {
    "tags": []
   },
   "outputs": [],
   "source": [
    "#export\n",
    "def literal_match(paper, all_labels):\n",
    "    '''\n",
    "    Args:\n",
    "        paper ()\n",
    "    '''\n",
    "    text_1 = '. '.join(section['text'] for section in paper).lower()\n",
    "    text_2 = clean_training_text(text_1, lower=True, total_clean=True)\n",
    "    \n",
    "    labels = set()\n",
    "    for label in all_labels:\n",
    "        if label in text_1 or label in text_2:\n",
    "            labels.add(clean_training_text(label, lower=True, total_clean=True))\n",
    "    return labels"
   ]
  },
  {
   "cell_type": "code",
   "execution_count": null,
   "id": "pressed-cookbook",
   "metadata": {
    "tags": []
   },
   "outputs": [
    {
     "name": "stdout",
     "output_type": "stream",
     "text": [
      "[{'alzheimer s disease neuroimaging initiative adni', 'adni'}, {'common core of data', 'nces common core of data', 'trends in international mathematics and science study'}, {'slosh model', 'sea lake and overland surges from hurricanes', 'noaa storm surge inundation'}, {'rural urban continuum codes'}]\n"
     ]
    }
   ],
   "source": [
    "pth = Path('/kaggle/input/coleridgeinitiative-show-us-the-data/train.csv')\n",
    "knowledge_bank = create_knowledge_bank(pth)\n",
    "\n",
    "sample_submission = pd.read_csv('/kaggle/input/coleridgeinitiative-show-us-the-data/sample_submission.csv')\n",
    "papers = load_papers('/kaggle/input/coleridgeinitiative-show-us-the-data/test/', sample_submission.Id)\n",
    "\n",
    "literal_preds = [literal_match(papers[paper_id], knowledge_bank) for paper_id in sample_submission.Id]\n",
    "print(literal_preds)"
   ]
  },
  {
   "cell_type": "markdown",
   "id": "amended-mills",
   "metadata": {
    "tags": []
   },
   "source": [
    "# Overall prediction for submission"
   ]
  },
  {
   "cell_type": "code",
   "execution_count": null,
   "id": "bound-carpet",
   "metadata": {
    "tags": []
   },
   "outputs": [],
   "source": [
    "#export\n",
    "def combine_matching_and_model(literal_preds, paper_dataset_labels):\n",
    "    '''\n",
    "    Args:\n",
    "        literal_preds (list): Each element is a set, containing predicted labels for a paper\n",
    "            using literal matching.\n",
    "        paper_dataset_labels (list): Each element is a set, containing predicted labels for \n",
    "            a paper using trained model.\n",
    "    Returns:\n",
    "        filtered_dataset_labels (list): Each element is a string, containing \n",
    "            labels seperated by '|'.  \n",
    "            \n",
    "    Notes:\n",
    "        Combine literal matching predictions and model predictions. \n",
    "        Literal match predictions are appended IN FRONT of the model predictions,\n",
    "        because literal matches will be kept when removing labels that are too\n",
    "        similar to each other.\n",
    "    '''\n",
    "    all_labels = [list(literal_match) + list(model_pred) \n",
    "                  for literal_match, model_pred in zip(literal_preds, paper_dataset_labels)]\n",
    "    return all_labels"
   ]
  },
  {
   "cell_type": "code",
   "execution_count": null,
   "id": "political-mongolia",
   "metadata": {
    "tags": []
   },
   "outputs": [
    {
     "data": {
      "text/plain": [
       "[['reallife headphones', 'mongolian racing cars', 'dataset', 'data'],\n",
       " ['headphones collection data', 'hifi dataset'],\n",
       " ['rhs flowers fertiliser index',\n",
       "  'deep sea rock salts',\n",
       "  'rhs fertiliser index'],\n",
       " ['moma artists catalogue', 'housing market', 'moma artists']]"
      ]
     },
     "execution_count": null,
     "metadata": {},
     "output_type": "execute_result"
    }
   ],
   "source": [
    "literal_preds = [\n",
    "    {'mongolian racing cars', 'reallife headphones'}, \n",
    "    {},\n",
    "    {'rhs flowers fertiliser index'}, \n",
    "    {'moma artists catalogue'}]\n",
    "\n",
    "paper_dataset_labels = [\n",
    "    {'data', 'dataset'}, \n",
    "    {'hifi dataset', 'headphones collection data'}, \n",
    "    {'deep sea rock salts', 'rhs fertiliser index'}, \n",
    "    {'moma artists', 'housing market'}]\n",
    "\n",
    "combine_matching_and_model(literal_preds, paper_dataset_labels)"
   ]
  },
  {
   "cell_type": "code",
   "execution_count": null,
   "id": "coral-spice",
   "metadata": {
    "tags": []
   },
   "outputs": [],
   "source": [
    "#export\n",
    "def filter_dataset_labels(all_labels):\n",
    "    '''\n",
    "    When several labels for a paper are too similar, keep just one of them,\n",
    "    the one that appears FIRST.\n",
    "    \n",
    "    Args:\n",
    "        all_labels (list, set): Each element is a list of labels (str).\n",
    "        \n",
    "    Returns:\n",
    "        filtered_dataset_labels (list): Each element is a string, containing \n",
    "            labels seperated by '|'.\n",
    "    '''\n",
    "    filtered_dataset_labels = []\n",
    "\n",
    "    for labels in all_labels:\n",
    "        filtered = []\n",
    "\n",
    "        for label in labels:\n",
    "            label = clean_training_text(label, lower=True)\n",
    "            if len(filtered) == 0 or all(jaccard_similarity(label, got_label) < 0.75 for got_label in filtered):\n",
    "                filtered.append(label)\n",
    "\n",
    "        filtered_dataset_labels.append('|'.join(filtered))\n",
    "    return filtered_dataset_labels"
   ]
  },
  {
   "cell_type": "code",
   "execution_count": null,
   "id": "acoustic-feeling",
   "metadata": {
    "tags": []
   },
   "outputs": [
    {
     "name": "stdout",
     "output_type": "stream",
     "text": [
      "['moma artists catalogue|moma artists|housing market', 'rhs flowers fertiliser index|deep sea rock salts']\n",
      "\n",
      "['moma artists catalogue|housing market|moma artists', 'rhs flowers fertiliser index|deep sea rock salts']\n"
     ]
    }
   ],
   "source": [
    "all_labels = [\n",
    "    ['moma artists catalogue', 'moma artists', 'housing market'],\n",
    "    ['rhs flowers fertiliser index', 'deep sea rock salts', 'rhs fertiliser index']]\n",
    "print(filter_dataset_labels(all_labels))\n",
    "\n",
    "print()\n",
    "\n",
    "all_labels = [\n",
    "    {'moma artists catalogue', 'moma artists', 'housing market'},\n",
    "    {'rhs flowers fertiliser index', 'deep sea rock salts', 'rhs fertiliser index'}]\n",
    "print(filter_dataset_labels(all_labels))"
   ]
  },
  {
   "cell_type": "markdown",
   "id": "certain-tuition",
   "metadata": {
    "tags": []
   },
   "source": [
    "Inference script"
   ]
  },
  {
   "cell_type": "code",
   "execution_count": null,
   "id": "partial-library",
   "metadata": {
    "tags": []
   },
   "outputs": [
    {
     "name": "stdout",
     "output_type": "stream",
     "text": [
      "Preparing NER inference data...\n",
      "total number of \"sentences\": 218\n",
      "Loading model, tokenizer, and metric...\n",
      "Predicting on each sentence...\n",
      "Downloading and preparing dataset json/default (download: Unknown size, generated: Unknown size, post-processed: Unknown size, total: Unknown size) to /root/.cache/huggingface/datasets/json/default-5be52d301bb2d577/0.0.0/83d5b3a2f62630efc6b5315f00f20209b4ad91a00ac586597caee3a4da0bef02...\n"
     ]
    },
    {
     "data": {
      "application/vnd.jupyter.widget-view+json": {
       "model_id": "e9c376386bfc48a48e66ffe68eadb392",
       "version_major": 2,
       "version_minor": 0
      },
      "text/plain": [
       "HBox(children=(FloatProgress(value=1.0, bar_style='info', layout=Layout(width='20px'), max=1.0), HTML(value=''…"
      ]
     },
     "metadata": {},
     "output_type": "display_data"
    },
    {
     "name": "stdout",
     "output_type": "stream",
     "text": [
      "Dataset json downloaded and prepared to /root/.cache/huggingface/datasets/json/default-5be52d301bb2d577/0.0.0/83d5b3a2f62630efc6b5315f00f20209b4ad91a00ac586597caee3a4da0bef02. Subsequent calls will reuse this data.\n",
      "Tokenizing testset..."
     ]
    },
    {
     "data": {
      "application/vnd.jupyter.widget-view+json": {
       "model_id": "01efdbc62596453982aab21f70089cfd",
       "version_major": 2,
       "version_minor": 0
      },
      "text/plain": [
       "HBox(children=(FloatProgress(value=0.0, max=1.0), HTML(value='')))"
      ]
     },
     "metadata": {},
     "output_type": "display_data"
    },
    {
     "name": "stdout",
     "output_type": "stream",
     "text": [
      "\n",
      "completed in 0.01 mins.\n",
      "Creating data collator...\n",
      "Creating (dummy) training arguments...\n",
      "Creating trainer...\n",
      "Predicting on test samples...\n"
     ]
    },
    {
     "data": {
      "text/html": [
       "\n",
       "    <div>\n",
       "        <style>\n",
       "            /* Turns off some styling */\n",
       "            progress {\n",
       "                /* gets rid of default border in Firefox and Opera. */\n",
       "                border: none;\n",
       "                /* Needs to be in here for Safari polyfill so background images work as expected. */\n",
       "                background-size: auto;\n",
       "            }\n",
       "        </style>\n",
       "      \n",
       "      <progress value='14' max='14' style='width:300px; height:20px; vertical-align: middle;'></progress>\n",
       "      [14/14 02:03]\n",
       "    </div>\n",
       "    "
      ],
      "text/plain": [
       "<IPython.core.display.HTML object>"
      ]
     },
     "metadata": {},
     "output_type": "display_data"
    },
    {
     "name": "stdout",
     "output_type": "stream",
     "text": [
      "completed in 2.29 mins.\n",
      "Argmaxing...\n",
      "completed in 0.00 mins.\n",
      "Removing non-original outputs...completed in 0.00 mins.\n",
      "Getting predicted labels for each article...\n",
      "String matching...\n",
      "Combining literal matches and model predictions...\n",
      "Keeping just one of labels that are too similar to each other...\n"
     ]
    }
   ],
   "source": [
    "! cp ../input/huggingface-cache/huggingface/modules/datasets_modules/metrics/seqeval/ec5b7242a8c40468d189ca0b2b10612578dbcad311b2a134c99e3ded58a0d6e3/seqeval.py .\n",
    "\n",
    "model_checkpoint = '/kaggle/input/showusdata-distilbert-base-cased-ner/test_training/checkpoint-45080'\n",
    "\n",
    "print('Preparing NER inference data...')\n",
    "sample_submission = pd.read_csv('/kaggle/input/coleridgeinitiative-show-us-the-data/sample_submission.csv')\n",
    "papers = load_papers('/kaggle/input/coleridgeinitiative-show-us-the-data/test/', sample_submission.Id)\n",
    "classlabel = get_ner_classlabel()\n",
    "test_rows, paper_length = get_ner_inference_data(papers, sample_submission, classlabel=classlabel,\n",
    "                                                 sentence_definition='section', max_length=360, overlap=20,\n",
    "                                                 min_length=0, contains_keywords=None)\n",
    "write_ner_json(test_rows, pth='test_ner.json')\n",
    "\n",
    "print('Loading model, tokenizer, and metric...')\n",
    "tokenizer = create_tokenizer(model_checkpoint=model_checkpoint)\n",
    "model = AutoModelForTokenClassification.from_pretrained(model_checkpoint)\n",
    "metric = load_metric('seqeval.py')\n",
    "\n",
    "print('Predicting on each sentence...')\n",
    "predictions, label_ids = batched_ner_predict(\n",
    "    'test_ner.json', tokenizer=tokenizer, model=model, metric=metric, batch_size=64_000)\n",
    "predictions = [[classlabel.int2str(p) for p in pred] for pred in predictions]\n",
    "label_ids   = [[classlabel.int2str(l) for l in label] for label in label_ids]\n",
    "\n",
    "print('Getting predicted labels for each article...')\n",
    "paper_dataset_labels = get_paper_dataset_labels('test_ner.json', paper_length, predictions)\n",
    "\n",
    "print('String matching...')\n",
    "knowledge_bank = create_knowledge_bank('/kaggle/input/coleridgeinitiative-show-us-the-data/train.csv')\n",
    "literal_preds = []\n",
    "for paper_id in sample_submission.Id:\n",
    "    literal_preds.append(literal_match(papers[paper_id], knowledge_bank))\n",
    "\n",
    "print('Combining literal matches and model predictions...')\n",
    "all_labels = combine_matching_and_model(literal_preds, paper_dataset_labels)\n",
    "\n",
    "print('Keeping just one of labels that are too similar to each other...')\n",
    "filtered_dataset_labels = filter_dataset_labels(all_labels)\n",
    "\n",
    "sample_submission['PredictionString'] = filtered_dataset_labels\n",
    "\n",
    "sample_submission.to_csv('submission.csv', index=False)"
   ]
  },
  {
   "cell_type": "code",
   "execution_count": null,
   "id": "controversial-appointment",
   "metadata": {
    "tags": []
   },
   "outputs": [
    {
     "name": "stdout",
     "output_type": "stream",
     "text": [
      "Id,PredictionString\r\n",
      "2100032a-7c33-4bff-97ef-690822c43466,alzheimer s disease neuroimaging initiative adni|adni\r\n",
      "2f392438-e215-4169-bebf-21ac4ff253e1,common core of data|trends in international mathematics and science study\r\n",
      "3f316b38-1a24-45a9-8d8c-4e05a42257c6,slosh model|sea lake and overland surges from hurricanes|noaa storm surge inundation\r\n",
      "8e6996b4-ca08-4c0b-bed2-aaf07a4c6a60,rural urban continuum codes\r\n"
     ]
    }
   ],
   "source": [
    "! cat submission.csv"
   ]
  },
  {
   "cell_type": "markdown",
   "id": "nasty-focus",
   "metadata": {
    "tags": []
   },
   "source": [
    "# Error analysis"
   ]
  },
  {
   "cell_type": "code",
   "execution_count": null,
   "id": "pursuant-adaptation",
   "metadata": {
    "tags": []
   },
   "outputs": [
    {
     "name": "stdout",
     "output_type": "stream",
     "text": [
      "Downloading and preparing dataset json/default (download: Unknown size, generated: Unknown size, post-processed: Unknown size, total: Unknown size) to /root/.cache/huggingface/datasets/json/default-edf377c99e25a62d/0.0.0/83d5b3a2f62630efc6b5315f00f20209b4ad91a00ac586597caee3a4da0bef02...\n"
     ]
    },
    {
     "data": {
      "application/vnd.jupyter.widget-view+json": {
       "model_id": "8d5aa98ab98b4cc9b10efdcd287a0884",
       "version_major": 2,
       "version_minor": 0
      },
      "text/plain": [
       "HBox(children=(FloatProgress(value=1.0, bar_style='info', layout=Layout(width='20px'), max=1.0), HTML(value=''…"
      ]
     },
     "metadata": {},
     "output_type": "display_data"
    },
    {
     "name": "stdout",
     "output_type": "stream",
     "text": [
      "Dataset json downloaded and prepared to /root/.cache/huggingface/datasets/json/default-edf377c99e25a62d/0.0.0/83d5b3a2f62630efc6b5315f00f20209b4ad91a00ac586597caee3a4da0bef02. Subsequent calls will reuse this data.\n",
      "Tokenizing testset..."
     ]
    },
    {
     "data": {
      "application/vnd.jupyter.widget-view+json": {
       "model_id": "e9460f1d2d084691bc960fe70488c7c1",
       "version_major": 2,
       "version_minor": 0
      },
      "text/plain": [
       "HBox(children=(FloatProgress(value=0.0, max=1.0), HTML(value='')))"
      ]
     },
     "metadata": {},
     "output_type": "display_data"
    },
    {
     "name": "stdout",
     "output_type": "stream",
     "text": [
      "\n",
      "completed in 0.00 mins.\n",
      "Creating data collator...\n",
      "Creating (dummy) training arguments...\n",
      "Creating trainer...\n",
      "Predicting on test samples...\n"
     ]
    },
    {
     "data": {
      "text/html": [
       "\n",
       "    <div>\n",
       "        <style>\n",
       "            /* Turns off some styling */\n",
       "            progress {\n",
       "                /* gets rid of default border in Firefox and Opera. */\n",
       "                border: none;\n",
       "                /* Needs to be in here for Safari polyfill so background images work as expected. */\n",
       "                background-size: auto;\n",
       "            }\n",
       "        </style>\n",
       "      \n",
       "      <progress value='2' max='2' style='width:300px; height:20px; vertical-align: middle;'></progress>\n",
       "      [2/2 00:03]\n",
       "    </div>\n",
       "    "
      ],
      "text/plain": [
       "<IPython.core.display.HTML object>"
      ]
     },
     "metadata": {},
     "output_type": "display_data"
    },
    {
     "name": "stdout",
     "output_type": "stream",
     "text": [
      "completed in 0.27 mins.\n",
      "Argmaxing...\n",
      "completed in 0.00 mins.\n",
      "Removing non-original outputs...completed in 0.00 mins.\n"
     ]
    }
   ],
   "source": [
    "model_checkpoint = '../input/showusdata-distilbert-base-cased-ner/test_training/checkpoint-45080'\n",
    "pth_valid_json = '/kaggle/input/showus-data-ner-jsons/valid_ner.json'\n",
    "\n",
    "ner_data_valid = random.sample(open(pth_valid_json).readlines(), 20)\n",
    "ner_data_valid = [json.loads(sample) for sample in ner_data_valid]\n",
    "ner_data_valid = [list(zip(sample['tokens'], sample['ner_tags'])) for sample in ner_data_valid]\n",
    "write_ner_json(ner_data_valid, pth='valid_ner.json')\n",
    "\n",
    "tokenizer = create_tokenizer(model_checkpoint=model_checkpoint)\n",
    "classlabel = get_ner_classlabel()\n",
    "model = AutoModelForTokenClassification.from_pretrained(model_checkpoint, num_labels=classlabel.num_classes)\n",
    "metric = load_metric('seqeval')\n",
    "\n",
    "predictions, label_ids = ner_predict(pth='valid_ner.json', tokenizer=tokenizer, model=model, metric=metric)\n",
    "predictions = [[classlabel.int2str(p) for p in pred] for pred in predictions]\n",
    "label_ids   = [[classlabel.int2str(l) for l in label] for label in label_ids]\n",
    "\n",
    "paper_dataset_labels = get_paper_dataset_labels('valid_ner.json', len(predictions) * [1], predictions)\n",
    "gt_paper_dataset_labels = get_paper_dataset_labels('valid_ner.json', len(label_ids) * [1], label_ids)"
   ]
  },
  {
   "cell_type": "code",
   "execution_count": null,
   "id": "narrative-median",
   "metadata": {
    "tags": []
   },
   "outputs": [
    {
     "name": "stdout",
     "output_type": "stream",
     "text": [
      "{'ADNI'} {'ADNI'}\n",
      "{'Alzheimer s Disease Neuroimaging Initiative ADNI'} {'ADNI'}\n",
      "{'ADNI'} {'ADNI'}\n",
      "{'ADNI'} {'ADNI'}\n",
      "{'ADNI'} {'ADNI'}\n"
     ]
    }
   ],
   "source": [
    "for predicted_labels, gt_labels in zip(paper_dataset_labels, gt_paper_dataset_labels):\n",
    "    if gt_labels:\n",
    "        print(predicted_labels, gt_labels)"
   ]
  },
  {
   "cell_type": "code",
   "execution_count": null,
   "id": "least-modification",
   "metadata": {
    "tags": []
   },
   "outputs": [
    {
     "data": {
      "text/plain": [
       "{'_': {'precision': 0.8, 'recall': 0.8, 'f1': 0.8000000000000002, 'number': 5},\n",
       " 'overall_precision': 0.8,\n",
       " 'overall_recall': 0.8,\n",
       " 'overall_f1': 0.8000000000000002,\n",
       " 'overall_accuracy': 0.9988636363636364}"
      ]
     },
     "execution_count": null,
     "metadata": {},
     "output_type": "execute_result"
    }
   ],
   "source": [
    "metric.compute(predictions=predictions, references=label_ids)"
   ]
  },
  {
   "cell_type": "markdown",
   "id": "fourth-multimedia",
   "metadata": {
    "tags": []
   },
   "source": [
    "# Reference\n",
    "- https://www.kaggle.com/tungmphung/pytorch-bert-for-named-entity-recognition/notebook\n",
    "- https://www.kaggle.com/tungmphung/coleridge-matching-bert-ner/notebook\n",
    "- https://github.com/huggingface/notebooks/blob/master/examples/token_classification.ipynb\n",
    "- https://datascience.stackexchange.com/questions/15989/micro-average-vs-macro-average-performance-in-a-multiclass-classification-settin\n",
    "- https://huggingface.co/docs/datasets/loading_metrics.html\n",
    "- [Python strings and memory](https://rushter.com/blog/python-strings-and-memory/)"
   ]
  },
  {
   "cell_type": "code",
   "execution_count": null,
   "id": "therapeutic-convertible",
   "metadata": {
    "tags": []
   },
   "outputs": [],
   "source": []
  }
 ],
 "metadata": {
  "kernelspec": {
   "display_name": "Python 3",
   "language": "python",
   "name": "python3"
  }
 },
 "nbformat": 4,
 "nbformat_minor": 5
}
