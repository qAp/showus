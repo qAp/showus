{
 "cells": [
  {
   "cell_type": "markdown",
   "metadata": {},
   "source": "# showus"
  },
  {
   "cell_type": "code",
   "execution_count": null,
   "metadata": {},
   "outputs": [],
   "source": "#default_exp showus"
  },
  {
   "cell_type": "code",
   "execution_count": null,
   "metadata": {},
   "outputs": [],
   "source": "! pip install /kaggle/input/nlp-packages/datasets/datasets/fsspec-2021.4.0-py3-none-any.whl\n! pip install datasets --no-index --find-links=file:///kaggle/input/coleridge-packages/packages/datasets\n! pip install ../input/coleridge-packages/seqeval-1.2.2-py3-none-any.whl\n! pip install ../input/coleridge-packages/tokenizers-0.10.1-cp37-cp37m-manylinux1_x86_64.whl\n! pip install ../input/coleridge-packages/transformers-4.5.0.dev0-py3-none-any.whl"
  },
  {
   "cell_type": "code",
   "execution_count": null,
   "metadata": {},
   "outputs": [],
   "source": "#export\nimport os, shutil, time\nfrom tqdm import tqdm\nfrom pathlib import Path\nimport itertools\nfrom functools import partial\nimport re\nimport json\nimport random\nimport numpy as np\nimport pandas as pd\nimport torch\nfrom tokenizers.pre_tokenizers import BertPreTokenizer\nimport transformers, seqeval\nfrom transformers import AutoTokenizer, DataCollatorForTokenClassification\nfrom transformers import AutoModelForTokenClassification\nfrom transformers import TrainingArguments, Trainer\nfrom datasets import load_dataset, ClassLabel, load_metric\n\nimport matplotlib.pyplot as plt"
  },
  {
   "cell_type": "markdown",
   "metadata": {},
   "source": "# Utilities"
  },
  {
   "cell_type": "code",
   "execution_count": null,
   "metadata": {},
   "outputs": [],
   "source": "#export\nPath.ls = lambda pth: list(pth.iterdir())"
  },
  {
   "cell_type": "markdown",
   "metadata": {},
   "source": "# Data I/O"
  },
  {
   "cell_type": "code",
   "execution_count": null,
   "metadata": {},
   "outputs": [],
   "source": "#export\ndef load_train_meta(pth, group_id=True):\n    df = pd.read_csv(pth)\n    if group_id:\n        df = df.groupby('Id').agg({'pub_title': 'first', \n                                   'dataset_title': '|'.join, \n                                   'dataset_label': '|'.join, \n                                   'cleaned_label': '|'.join}).reset_index()\n    return df"
  },
  {
   "cell_type": "code",
   "execution_count": null,
   "metadata": {},
   "outputs": [],
   "source": "pth = Path('/kaggle/input/coleridgeinitiative-show-us-the-data/train.csv')\ndf = load_train_meta(pth, group_id=True)\ndf_nogroup = load_train_meta(pth, group_id=False)\nprint(len(df), len(df_nogroup))\ndup_ids = df_nogroup[df_nogroup.Id.duplicated()].Id.unique()\nprint(df[df.Id.isin(dup_ids)].dataset_label.values[-10:])"
  },
  {
   "cell_type": "code",
   "execution_count": null,
   "metadata": {},
   "outputs": [],
   "source": "#export\ndef load_papers(dir_json, paper_ids):\n    '''\n    Load papers into a dictionary.\n    \n    `papers`: \n        {''}\n    '''\n    \n    papers = {}\n    for paper_id in paper_ids:\n        with open(f'{dir_json}/{paper_id}.json', 'r') as f:\n            paper = json.load(f)\n            papers[paper_id] = paper\n    return papers"
  },
  {
   "cell_type": "code",
   "execution_count": null,
   "metadata": {},
   "outputs": [],
   "source": "df = load_train_meta('/kaggle/input/coleridgeinitiative-show-us-the-data/train.csv', group_id=True).iloc[-10:]\npapers = load_papers('/kaggle/input/coleridgeinitiative-show-us-the-data/train/', df.Id)\nprint(type(papers))\nprint(\n    papers[ np.random.choice(df.Id.values) ][2]\n)"
  },
  {
   "cell_type": "markdown",
   "metadata": {},
   "source": "# Data processing"
  },
  {
   "cell_type": "code",
   "execution_count": null,
   "metadata": {},
   "outputs": [],
   "source": "#export\n\n# Special tokens\nAAAsTITLE = 'AAAsTITLE'  # Start of section title\nZZZsTITLE = 'ZZZsTITLE'  # End of section title\nAAAsTEXT = 'AAAsTEXT'    # Start of section text\nZZZsTEXT = 'ZZZsTEXT'    # End of section text"
  },
  {
   "cell_type": "code",
   "execution_count": null,
   "metadata": {},
   "outputs": [],
   "source": "#export\n\ndef load_section(section, mark_title=False, mark_text=False):\n    '''\n    '''\n    title, text  = section['section_title'], section['text']\n    \n    out = ''\n    \n    if title:\n        if mark_title:\n            out = f\"{AAAsTITLE} {title} {ZZZsTITLE}\"\n        else:\n            out = title\n    \n    if text:\n        if mark_text:\n            out += f\"\\n\\n{AAAsTEXT} {text} {ZZZsTEXT}\"\n        else:\n            out += f\"\\n\\n{text}\"\n            \n    return out\n\n\ndef load_paper(paper, mark_title=False, mark_text=False):\n    sections = (load_section(section, mark_title, mark_text) for section in paper)\n    return '\\n\\n'.join(sections)"
  },
  {
   "cell_type": "code",
   "execution_count": null,
   "metadata": {},
   "outputs": [],
   "source": "df = load_train_meta('/kaggle/input/coleridgeinitiative-show-us-the-data/train.csv', group_id=True).iloc[:10]\npapers = load_papers('/kaggle/input/coleridgeinitiative-show-us-the-data/train', df.Id)\n\nidx_paper, idx_section = 0, 11\npaper   = papers[df.Id.iloc[idx_paper]]\nsection = paper[idx_section]\n\nprint(load_section(section, mark_title=True, mark_text=False), end='\\n\\n')\nprint(50 * '=')\nprint(load_paper(paper, mark_title=False, mark_text=True)[:2_000])"
  },
  {
   "cell_type": "code",
   "execution_count": null,
   "metadata": {},
   "outputs": [],
   "source": "#export\n\ndef text2words(text, pretokenizer=BertPreTokenizer()):\n    '''\n    Pre-tokenizes a piece of text.  BertPreTokenizer tokenizes by space and \n    punctuation.\n    '''\n    tokenized_text = pretokenizer.pre_tokenize_str(text)\n    if tokenized_text:\n        tokenized_text, _ = zip(*tokenized_text)\n    return list(tokenized_text)"
  },
  {
   "cell_type": "code",
   "execution_count": null,
   "metadata": {},
   "outputs": [],
   "source": "text = '''A long diag is caught on chest and burst by Kuzaev, but the ball runs away from him before he can cross. \nThat was good football though, and I really like the way Russia are approaching this game.\n'''\nprint(text)\n\npretokenizer = BertPreTokenizer()\nprint(text2words(text, pretokenizer=pretokenizer))\n\nprint(text2words(''))"
  },
  {
   "cell_type": "code",
   "execution_count": null,
   "metadata": {},
   "outputs": [],
   "source": "#export\ndef clean_training_text(txt, lower=False, total_clean=False):\n    \"\"\"\n    Competition's evaluation: `lower=True` and `total_clean=False`.\n    \"\"\"\n    txt = str(txt).lower() if lower else str(txt)\n    txt = re.sub('[^A-Za-z0-9]+', ' ', txt).strip()\n    if total_clean:\n        txt = re.sub(' +', ' ', txt)\n    return txt"
  },
  {
   "cell_type": "code",
   "execution_count": null,
   "metadata": {},
   "outputs": [],
   "source": "print(clean_training_text('@kaggle This competition awards $90,000!!!!.'))\nprint(clean_training_text('''AASECTIONTITLE Abstract ZZSECTIONTITLE \\n AASECTIONTEXT This paper is about datasets. ZZSECTIONTEXT'''))\nprint(clean_training_text('HoPKLd + 7 !  11,002', total_clean=True, lower=True))"
  },
  {
   "cell_type": "code",
   "execution_count": null,
   "metadata": {},
   "outputs": [],
   "source": "#export\n\ndef extract_sentences(paper, sentence_definition='sentence', \n                      mark_title=False, mark_text=False):\n    '''\n    Returns:\n        sentences (list): List of sentences.  Each sentence is a string.\n    '''\n    if sentence_definition == 'sentence':\n        sentences = [sentence for s in paper \n                     for sentence in s['text'].split('.') if s['text']]\n        \n    elif sentence_definition == 'section':\n        sentences = [load_section(s, mark_title=mark_title, mark_text=mark_text) \n                     for s in paper if s['section_title'] or s['text']]\n        \n    elif sentence_definition == 'paper':\n        sentences = [load_paper(paper, mark_title=mark_title, mark_text=mark_text)]\n        \n    return sentences"
  },
  {
   "cell_type": "code",
   "execution_count": null,
   "metadata": {},
   "outputs": [],
   "source": "df = load_train_meta('/kaggle/input/coleridgeinitiative-show-us-the-data/train.csv', group_id=True).iloc[100:110]\npapers = load_papers('/kaggle/input/coleridgeinitiative-show-us-the-data/train', df.Id)\n\nidx = 6\n\npaper = papers[df.Id.iloc[idx]]\nsentences = extract_sentences(paper, sentence_definition='section', mark_title=True, mark_text=False)\n\nprint(sentences[0])"
  },
  {
   "cell_type": "code",
   "execution_count": null,
   "metadata": {},
   "outputs": [],
   "source": "#export\n\ndef shorten_sentences(sentences, max_length=64, overlap=20):\n    '''\n    Args:\n        sentences (list): List of sentences. Each sentence is list of words.\n        max_length (int): Maximum number of words allowed for each sentence.\n        overlap (int): If a sentence exceeds `max_length`, we split it to multiple sentences with \n            this amount of overlapping.\n    '''\n    \n    short_sentences = []\n    for sentence in sentences:\n        if len(sentence) > max_length:\n            for p in range(0, len(sentence), max_length - overlap):\n                short_sentences.append(sentence[p:p+max_length])\n        else:\n            short_sentences.append(sentence)\n    return short_sentences"
  },
  {
   "cell_type": "code",
   "execution_count": null,
   "metadata": {},
   "outputs": [],
   "source": "%%time\n\nsentences = [\n    f'''\n    {AAAsTITLE} EURO2020 {ZZZsTITLE}\n\n    {AAAsTEXT} When Patrik Schick planted his header beyond David Marshall, the place fell silent for the first time.\n    When Schick's utterly majestic second soared over the goalkeeper, \n    frustration turned to exasperation and, eventually, resignation. {ZZZsTEXT}\n    ''',\n    '''\n    The day began with a feverish excitement. \n    Cans of lager were consumed at breakfast; establishments rammed by noon. \n    Schoolchildren were given a break to watch the game. Glasgow hummed and buzzed in a way it has not done for years.\n    ''', \n    \"\"]\n\npretokenizer = BertPreTokenizer()\nsentences = [text2words(s, pretokenizer=pretokenizer) for s in sentences]\n\nprint(sentences)\nprint()\nprint(shorten_sentences(sentences, max_length=10, overlap=2))"
  },
  {
   "cell_type": "code",
   "execution_count": null,
   "metadata": {},
   "outputs": [],
   "source": "#export\ndef find_sublist(big_list, small_list):\n    all_positions = []\n    for i in range(len(big_list) - len(small_list) + 1):\n        if small_list == big_list[i:i+len(small_list)]:\n            all_positions.append(i)\n    \n    return all_positions"
  },
  {
   "cell_type": "code",
   "execution_count": null,
   "metadata": {},
   "outputs": [],
   "source": "big_list = ['If', 'the', 'thing', 'above', 'is', 'below', 'that', 'thing', 'which', 'is',\n            'not', 'as', 'high', 'up', 'on', 'the', 'thing', 'above', 'when', 'it', 'is', \n            'underneath', 'them.']\nsmall_list = ['the', 'thing', 'above']\n\nfind_sublist(big_list, small_list)"
  },
  {
   "cell_type": "markdown",
   "metadata": {},
   "source": "# Named Entity Recognition Data\nOr, Token Classification."
  },
  {
   "cell_type": "code",
   "execution_count": null,
   "metadata": {},
   "outputs": [],
   "source": "#export\ndef get_ner_classlabel():\n    '''\n    Labels for named entity recognition.\n        'O': Token not part of a phrase that mentions a dataset.\n        'I': Intermediate token of a phrase mentioning a dataset.\n        'B': First token of a phrase mentioning a dataset.\n    '''\n    return ClassLabel(names=['O', 'I', 'B'])"
  },
  {
   "cell_type": "code",
   "execution_count": null,
   "metadata": {},
   "outputs": [],
   "source": "classlabel = get_ner_classlabel()\nprint(classlabel)\nprint(classlabel.str2int(['I', 'O', 'B']), classlabel.str2int('I'))\nprint(classlabel.int2str(2), classlabel.int2str([2, 1, 0]))"
  },
  {
   "cell_type": "code",
   "execution_count": null,
   "metadata": {},
   "outputs": [],
   "source": "#export    \n\ndef tag_sentence(sentence, labels, classlabel=None): \n    '''\n    Args:\n        sentence (list): List of words.\n        labels (list): List of dataset labels.\n    '''\n    if (labels is not None and\n        any(' '.join(label) in ' '.join(sentence) for label in labels)):\n        \n        nes = [classlabel.str2int('O')] * len(sentence)\n        for label in labels:\n            all_pos = find_sublist(sentence, label)\n            for pos in all_pos:\n                nes[pos] = classlabel.str2int('B')\n                for i in range(pos+1, pos+len(label)):\n                    nes[i] = classlabel.str2int('I')\n\n        return True, list(zip(sentence, nes))\n        \n    else: \n        nes = [classlabel.str2int('O')] * len(sentence)\n        return False, list(zip(sentence, nes))"
  },
  {
   "cell_type": "code",
   "execution_count": null,
   "metadata": {},
   "outputs": [],
   "source": "sentence = f'''\n    {AAAsTEXT} The International Standard Classification of Education, known by its acronym ISCED, \n    was developed by the United Nations Educational, Scientific, \n    and Cultural Organization during the late 1960s and 1970s {ZZZsTEXT}\n    '''\nlabels = ['The International', 'Cultural Organization', 'United Nations Educational']\n\npretokenizer = BertPreTokenizer()\nsentence = text2words(sentence, pretokenizer)\nlabels = [text2words(label, pretokenizer) for label in labels]\n\nclasslabel = get_ner_classlabel()\nfound_any, token_tags = tag_sentence(sentence, labels, classlabel=classlabel)\n\nprint('A label is found in the sentence:', found_any)\nprint('(token, tag) pairs:')\nprint(token_tags)"
  },
  {
   "cell_type": "code",
   "execution_count": null,
   "metadata": {},
   "outputs": [],
   "source": "sentence = \"\"\nlabels = ['The International', 'Cultural Organization', 'United Nations Educational']\n\npretokenizer = BertPreTokenizer()\nsentence = text2words(sentence, pretokenizer)\nlabels = [text2words(label, pretokenizer) for label in labels]\n\nclasslabel = get_ner_classlabel()\nfound_any, token_tags = tag_sentence(sentence, labels, classlabel=classlabel)\n\nprint('A label is found in the sentence:', found_any)\nprint('(token, tag) pairs:')\nprint(token_tags)\n"
  },
  {
   "cell_type": "code",
   "execution_count": null,
   "metadata": {},
   "outputs": [],
   "source": "#export\n\ndef get_paper_ner_data(paper, labels, mark_title=False, mark_text=False,\n                       pretokenizer=BertPreTokenizer(), classlabel=None,\n                       sentence_definition='sentence', max_length=64, overlap=20, \n                       neg_keywords=['data', 'study']):\n    '''\n    Get NER data for a single paper.\n    \n    Args:\n        paper (list): Each element is a dict of form {'section_title': \"...\", 'text': \"...\"}.\n        labels (list): Each element is a string that is a dataset label.\n        \n    Returns:\n        ner_data (list): Each element is a list of tuples of the form:\n            [('It', 0), ('is', 0), ..., ('ADNI', 2), ('Dataset', 1), ...]\n    '''\n    labels = [text2words(label, pretokenizer) for label in labels]\n\n    sentences = extract_sentences(paper, sentence_definition=sentence_definition, \n                                  mark_title=mark_title, mark_text=mark_text)\n    sentences = [text2words(s, pretokenizer) for s in sentences]\n    sentences = shorten_sentences(sentences, max_length=max_length, overlap=overlap) \n    sentences = [sentence for sentence in sentences if len(' '.join(sentence)) > 10] # only accept sentences with length > 10 chars\n\n    cnt_pos, cnt_neg, ner_data = 0, 0, []\n    for sentence in sentences:\n        is_positive, tags = tag_sentence(sentence, labels, classlabel=classlabel)\n        if is_positive:\n            cnt_pos += 1\n            ner_data.append(tags)\n        elif neg_keywords:\n            if any(keyword in ' '.join(word.lower() for word in sentence) for keyword in neg_keywords): \n                ner_data.append(tags)\n                cnt_neg += 1\n        else:\n            ner_data.append(tags)\n            cnt_neg += 1\n            \n    return cnt_pos, cnt_neg, ner_data"
  },
  {
   "cell_type": "code",
   "execution_count": null,
   "metadata": {},
   "outputs": [],
   "source": "df = load_train_meta('/kaggle/input/coleridgeinitiative-show-us-the-data/train.csv', group_id=True).iloc[230:330]\npapers = load_papers('/kaggle/input/coleridgeinitiative-show-us-the-data/train/', df.Id)\npretokenizer = BertPreTokenizer()\nclasslabel = get_ner_classlabel()\n\nidx = 29\npaper = papers[df.Id.iloc[idx]]\nlabels = df.dataset_label.iloc[idx].split('|')\ncnt_pos, cnt_neg, ner_data = get_paper_ner_data(paper, labels, mark_title=True, mark_text=True,\n                                                pretokenizer=pretokenizer, classlabel=classlabel,\n                                                sentence_definition='paper', max_length=360, overlap=20,\n                                                neg_keywords=None)\nprint(labels)\nprint(cnt_pos, cnt_neg)\nprint([len(sample) for sample in ner_data])\nprint(ner_data[0])"
  },
  {
   "cell_type": "code",
   "execution_count": null,
   "metadata": {},
   "outputs": [],
   "source": "#export\ndef get_ner_data(papers, df=None, mark_title=False, mark_text=False,\n                 classlabel=None, pretokenizer=BertPreTokenizer(), \n                 sentence_definition='sentence', max_length=64, overlap=20, \n                 neg_keywords=['study', 'data'], shuffle=True):\n    '''\n    Get NER data for a list of papers.\n    \n    Args:\n        papers (dict): Like that returned by `load_papers`.\n        df (pd.DataFrame): Competition's train.csv or a subset of it.\n    Returns:\n        cnt_pos (int): Number of samples (or 'sentences') that are tagged or partly\n            tagged as datasets.\n        cnt_neg (int): Number of samples (or 'sentences') that are not tagged\n            or partly tagged as datasets.\n        ner_data (list): List of samples, or 'sentences'. Each element is of the form:\n            [('There', 0), ('has', 0), ('been', 0), ...]\n    '''\n    cnt_pos, cnt_neg = 0, 0 \n    ner_data = []\n\n    tqdm._instances.clear()\n    pbar = tqdm(total=len(df))\n    for i, id, dataset_label in df[['Id', 'dataset_label']].itertuples():\n        paper = papers[id]\n        labels = dataset_label.split('|')\n                \n        cnt_pos_, cnt_neg_, ner_data_ = get_paper_ner_data(\n            paper, labels, mark_title=mark_title, mark_text=mark_text,\n            classlabel=classlabel, pretokenizer=pretokenizer,\n            sentence_definition=sentence_definition, max_length=max_length, overlap=overlap, \n            neg_keywords=neg_keywords)\n        cnt_pos += cnt_pos_\n        cnt_neg += cnt_neg_\n        ner_data.extend(ner_data_)\n\n        pbar.update(1)\n        pbar.set_description(f\"Training data size: {cnt_pos} positives + {cnt_neg} negatives\")\n\n    if shuffle:\n        random.shuffle(ner_data)\n    return cnt_pos, cnt_neg, ner_data"
  },
  {
   "cell_type": "code",
   "execution_count": null,
   "metadata": {},
   "outputs": [],
   "source": "%%time\ndf = pd.read_csv('/kaggle/input/coleridgeinitiative-show-us-the-data/train.csv').iloc[:10]\npapers = load_papers('/kaggle/input/coleridgeinitiative-show-us-the-data/train/', df.Id)\n\ncnt_pos, cnt_neg, ner_data = get_ner_data(papers, df, mark_title=True, mark_text=True,\n                                          classlabel=get_ner_classlabel(), pretokenizer=BertPreTokenizer(),\n                                          sentence_definition='paper', max_length=310, overlap=20, \n                                          neg_keywords=None, shuffle=False)\n\nprint(f'Postive count: {cnt_pos}.   Negative count: {cnt_neg}')\nprint(ner_data[6])"
  },
  {
   "cell_type": "code",
   "execution_count": null,
   "metadata": {},
   "outputs": [],
   "source": "#export\ndef write_ner_json(ner_data, pth=Path('train_ner.json'), mode='w'):\n    '''\n    Save NER data to json file.\n    '''\n    with open(pth, mode=mode) as f:\n        for row in ner_data:\n            words, nes = list(zip(*row))\n            row_json = {'tokens' : words, 'ner_tags' : nes}\n            json.dump(row_json, f)\n            f.write('\\n')    "
  },
  {
   "cell_type": "code",
   "execution_count": null,
   "metadata": {},
   "outputs": [],
   "source": "ner_data = [\n    [('There', 0), ('is', 0), ('no', 0), ('dataset', 0), ('here', 0)], \n    [('Load', 0), ('the', 0), ('UN', 2), ('Trade', 1), ('Development', 1), ('into', 0), ('view', 0)]\n]\nwrite_ner_json(ner_data, pth=Path('/kaggle/tmp_ner.json'))\n! cat /kaggle/tmp_ner.json"
  },
  {
   "cell_type": "code",
   "execution_count": null,
   "metadata": {},
   "outputs": [],
   "source": "#export\ndef load_ner_datasets(data_files=None):\n    '''\n    Load NER data in json files to a `datasets` object.  In addition,\n    Append the NER ClassLabel for the `ner_tags` feature.\n    '''\n    datasets = load_dataset('json', data_files=data_files)\n    classlabel = get_ner_classlabel()\n    for split, dataset in datasets.items():\n        dataset.features['ner_tags'].feature = classlabel\n    return datasets"
  },
  {
   "cell_type": "code",
   "execution_count": null,
   "metadata": {},
   "outputs": [],
   "source": "datasets = load_ner_datasets(data_files={'train':'/kaggle/tmp_ner.json', 'valid':'/kaggle/tmp_ner.json'})\nprint()\nprint(datasets['valid'].features)\nprint(datasets['train'][1])"
  },
  {
   "cell_type": "code",
   "execution_count": null,
   "metadata": {},
   "outputs": [],
   "source": "#export\n\ndef batched_write_ner_json(papers, df, pth=Path('train_ner.json'), batch_size=4_000, \n                           mark_title=False, mark_text=False,\n                           classlabel=get_ner_classlabel(), pretokenizer=BertPreTokenizer(),\n                           sentence_definition='sentence', max_length=64, overlap=20, \n                           neg_keywords=['study', 'data']):\n\n    for i in range(0, len(df), batch_size):\n        print(f'Batch {i // batch_size}...', end='')\n        t0 = time.time()\n        cnt_pos, cnt_neg, ner_data = get_ner_data(papers, df.iloc[i:i+batch_size], \n                                                  mark_title=mark_title, mark_text=mark_text,\n                                                  classlabel=classlabel, pretokenizer=pretokenizer,\n                                                  sentence_definition=sentence_definition, \n                                                  max_length=max_length, overlap=overlap, \n                                                  neg_keywords=neg_keywords)\n        write_ner_json(ner_data, pth=pth, mode='w' if i == 0 else 'a')\n        print(f'done in {(time.time() - t0) / 60} mins.')"
  },
  {
   "cell_type": "code",
   "execution_count": null,
   "metadata": {},
   "outputs": [],
   "source": "batch_size = 4_000\ndf = load_train_meta('/kaggle/input/coleridgeinitiative-show-us-the-data/train.csv', group_id=True).iloc[:100]\npapers = load_papers('/kaggle/input/coleridgeinitiative-show-us-the-data/train/', df.Id)\n\nbatched_write_ner_json(papers, df, pth=Path('train_ner.json'), batch_size=batch_size, \n                       mark_title=True, mark_text=True,\n                       classlabel=get_ner_classlabel(), pretokenizer=BertPreTokenizer(),\n                       sentence_definition='section', max_length=360, overlap=20, neg_keywords=None)"
  },
  {
   "cell_type": "code",
   "execution_count": null,
   "metadata": {},
   "outputs": [],
   "source": "! du -hs train_ner.json"
  },
  {
   "cell_type": "code",
   "execution_count": null,
   "metadata": {},
   "outputs": [],
   "source": "datasets = load_ner_datasets(data_files={'train':'train_ner.json'})\nprint(datasets['train'][44])"
  },
  {
   "cell_type": "markdown",
   "metadata": {},
   "source": "# Tokenization"
  },
  {
   "cell_type": "code",
   "execution_count": null,
   "metadata": {},
   "outputs": [],
   "source": "#export\ndef create_tokenizer(model_checkpoint='distilbert-base-cased'):\n    tokenizer = AutoTokenizer.from_pretrained(\n        model_checkpoint, \n        additional_special_tokens=[AAAsTITLE, ZZZsTITLE, AAAsTEXT, ZZZsTEXT])\n    \n    assert isinstance(tokenizer, transformers.PreTrainedTokenizerFast)\n    \n    return tokenizer"
  },
  {
   "cell_type": "code",
   "execution_count": null,
   "metadata": {},
   "outputs": [],
   "source": "text = '''\nAAAsTITLE Abstract ZZZsTITLE\n\nAAAsTEXT Both of these teams suffered sartorial \nheadaches in the buildup to the tournament. ZZZsTEXT\n'''\n\ntokenizer = create_tokenizer(model_checkpoint='distilbert-base-cased')\n\nprint(tokenizer(text))\nprint(tokenizer(text.split(), is_split_into_words=True))\nprint(tokenizer.convert_ids_to_tokens(tokenizer(text)['input_ids']))"
  },
  {
   "cell_type": "code",
   "execution_count": null,
   "metadata": {},
   "outputs": [],
   "source": "# Find a suitable original sample length, given a max model input length of 512\n\nmax_input_length = 512\nmax_length, overlap = 360, 20\n\ndf = load_train_meta('/kaggle/input/coleridgeinitiative-show-us-the-data/train.csv', group_id=True)\ndf = df.sample(100).reset_index(drop=True)\npapers = load_papers('/kaggle/input/coleridgeinitiative-show-us-the-data/train', df.Id)\n\ncnt_pos, cnt_neg, ner_data = get_ner_data(papers, df, mark_title=True, mark_text=True,\n                                          classlabel=get_ner_classlabel(), pretokenizer=BertPreTokenizer(), \n                                          sentence_definition='paper', max_length=max_length, overlap=overlap, \n                                          neg_keywords=['study', 'data'])\nwrite_ner_json(ner_data, pth='train_ner.json')\n\ndatasets = load_ner_datasets(data_files={'train':'train_ner.json'})\n\ntokenizer = create_tokenizer(model_checkpoint='distilbert-base-cased')\ntokenized_input = tokenizer(datasets['train']['tokens'], truncation=False, is_split_into_words=True)\n\noriginal_sample_lengths = np.array([len(tokens) for tokens in datasets['train']['tokens']])\ntokenized_sample_lengths = np.array([len(input_ids) for input_ids in tokenized_input['input_ids']])\n\nfig, ax = plt.subplots(figsize=(10, 6))\nax.plot(original_sample_lengths, label='original lengths', linestyle='none', marker='o')\nax.plot(tokenized_sample_lengths, label='tokenized lengths', linestyle='none', marker='x')\nax.hlines(y=max_input_length, xmin=0, xmax=len(original_sample_lengths), color='red')\nax.set_ylabel('length')\nax.set_xlabel('sample index')\nax.set_title('section lengths')\nax.legend()"
  },
  {
   "cell_type": "code",
   "execution_count": null,
   "metadata": {},
   "outputs": [],
   "source": "#export\ndef tokenize_and_align_labels(examples, tokenizer=None, label_all_tokens=True):\n    '''\n    Adds a new field called 'labels' that are the NER tags to the tokenized input.\n    \n    Args:\n        tokenizer (transformers.AutoTokenizer): Tokenizer.\n        examples (datasets.arrow_dataset.Dataset): Dataset.\n        label_all_tokens (bool): If True, all sub-tokens are given the same tag as the \n            first sub-token, otherwise all but the first sub-token are given the tag\n            -100.\n    '''\n    tokenized_inputs = tokenizer(examples[\"tokens\"], truncation=True, is_split_into_words=True)\n    labels = []\n    word_ids_all = []\n    for i, label in enumerate(examples[\"ner_tags\"]):\n        word_ids = tokenized_inputs.word_ids(batch_index=i)\n        previous_word_idx = None\n        label_ids = []\n        for word_idx in word_ids:\n            if word_idx is None:\n                label_ids.append(-100)\n            elif word_idx != previous_word_idx:\n                label_ids.append(label[word_idx])\n            else:\n                label_ids.append(label[word_idx] if label_all_tokens else -100)\n            previous_word_idx = word_idx\n\n        labels.append(label_ids)\n        word_ids_all.append(word_ids)\n\n    tokenized_inputs[\"labels\"] = labels\n    tokenized_inputs['word_ids'] = word_ids_all\n    return tokenized_inputs"
  },
  {
   "cell_type": "code",
   "execution_count": null,
   "metadata": {},
   "outputs": [],
   "source": "ner_data = [\n    [('There', 0), ('is', 0), ('no', 0), ('dataset', 0), ('here', 0)], \n    [('Load', 0), ('the', 0), ('UN', 2), ('Trade', 1), ('Development', 1), ('into', 0), ('view', 0)]\n]\n\nwrite_ner_json(ner_data, pth=Path('/kaggle/tmp_ner.json'))\n! cat /kaggle/tmp_ner.json\n\ndatasets = load_ner_datasets(data_files={'train':'/kaggle/tmp_ner.json', 'valid':'/kaggle/tmp_ner.json'})\ntokenizer = create_tokenizer(model_checkpoint='bert-base-cased')\n\nprint()\nprint(tokenize_and_align_labels(datasets['train'][:], tokenizer, label_all_tokens=True), end='\\n\\n')\n\ntokenized_datasets = datasets.map(\n    partial(tokenize_and_align_labels, tokenizer=tokenizer, label_all_tokens=True), batched=True)\nprint(tokenized_datasets['valid'][:])\nprint(tokenized_datasets['train'].features)"
  },
  {
   "cell_type": "code",
   "execution_count": null,
   "metadata": {},
   "outputs": [],
   "source": "# Save and load `datasets.dataset_dict.DatasetDict`\ntokenized_datasets.save_to_disk('testsave_datasets')"
  },
  {
   "cell_type": "code",
   "execution_count": null,
   "metadata": {},
   "outputs": [],
   "source": "print(datasets.load_from_disk('testsave_datasets')['train']['input_ids'])\nprint(tokenized_datasets['train']['input_ids'])"
  },
  {
   "cell_type": "code",
   "execution_count": null,
   "metadata": {},
   "outputs": [],
   "source": "#export\ndef remove_nonoriginal_outputs(outputs, word_ids):\n    '''\n    Remove elements that correspond to special tokens or subtokens,\n    retaining only those elements that correspond to a word in original\n    text.\n    \n    Args:\n        outputs (np.array): Each row are the label ids for the subtokens of\n            a sample, with -100 indicating ignored subtokens, special tokens,\n            or padding. \n        word_ids (list): Each element is a list of word ids which indicate the word\n            that each subtoken belongs to. Each element corresponds to each row in `outputs`,\n            though it could be shorter, since it's not padded like in `outputs`.\n        \n    Returns:\n        outputs (list): Each element is a list of label ids for the \n            words in an sample. \n    '''\n    assert len(outputs) == len(word_ids)\n    idxs = [[word_id.index(i) for i in set(word_id) if i is not None] \n            for word_id in word_ids]\n    outputs = [output[idx].tolist() for output, idx in zip(outputs, idxs)]\n    for output in outputs:\n        assert -100 not in output\n    return outputs"
  },
  {
   "cell_type": "code",
   "execution_count": null,
   "metadata": {},
   "outputs": [],
   "source": "classlabel = get_ner_classlabel()\n\npredictions = np.random.randn(2, 8, classlabel.num_classes)\npredictions = np.argmax(predictions, axis=2)\n\nlabel_ids = np.array([[-100, 0, 0,    2, 1,    2,    1, -100],\n                      [-100, 2, 1, -100, 0, -100, -100, -100]])\n\nword_ids = [[None, 0, 0, 1, 2, None],\n            [None, 0, 1, 1, 2, 2, None]]\n\ntrue_predictions = remove_nonoriginal_outputs(predictions, word_ids)\ntrue_label_ids   = remove_nonoriginal_outputs(label_ids,   word_ids)\n\nprint('predictions')\nprint('BEFORE:')\nprint(predictions)\nprint('AFTER:')\nprint(true_predictions)\nprint(60 * '=')\nprint('label_ids')\nprint('BEFORE:')\nprint(label_ids)\nprint('AFTER:')\nprint(true_label_ids)"
  },
  {
   "cell_type": "markdown",
   "metadata": {},
   "source": "## Evaluation"
  },
  {
   "cell_type": "code",
   "execution_count": null,
   "metadata": {},
   "outputs": [],
   "source": "#export\ndef jaccard_similarity(s1, s2):\n    l1 = set(s1.split(\" \"))\n    l2 = set(s2.split(\" \"))\n    intersection = len(list(l1.intersection(l2)))\n    union = (len(l1) + len(l2)) - intersection\n    return float(intersection) / union"
  },
  {
   "cell_type": "code",
   "execution_count": null,
   "metadata": {},
   "outputs": [],
   "source": "jaccard_similarity('USGS Frog Counts Data', 'USGA Croc Counts Data') == 1 / 3"
  },
  {
   "cell_type": "code",
   "execution_count": null,
   "metadata": {},
   "outputs": [],
   "source": "metric = load_metric('seqeval')\n\npredictions = np.array([['O', 'O', 'B', 'I', 'I', 'O']])\nreferences = [['O', 'O', 'B', 'I', 'I', 'O']]\nprint(metric.compute(predictions=predictions, references=references))\n\npredictions = [['O', 'O', 'B', 'I', 'I', 'O']]\nreferences = [['B', 'I', 'I', 'O', 'O', 'O']]\nprint(metric.compute(predictions=predictions, references=references))"
  },
  {
   "cell_type": "code",
   "execution_count": null,
   "metadata": {},
   "outputs": [],
   "source": "#export\ndef compute_metrics(p, metric=None, word_ids=None, label_list=None):\n    '''\n    1. Remove predicted and ground-truth class ids of special and sub tokens.\n    2. Convert class ids to class labels. (int ---> str)\n    3. Compute metric.\n    \n    Args:\n        p (tuple): 2-tuple consisting of model prediction and ground-truth\n            labels.  These will contain elements corresponding to special \n            tokens and sub-tokens.\n        word_ids (list): Word IDs from the tokenizer's output, indicating\n            which original word each sub-token belongs to.\n    '''\n    predictions, label_ids = p\n    predictions = predictions.argmax(axis=2)\n\n    true_predictions = remove_nonoriginal_outputs(predictions, word_ids)\n    true_label_ids = remove_nonoriginal_outputs(label_ids, word_ids)\n    \n    true_predictions = [[label_list[p] for p in pred] for pred in true_predictions]\n    true_labels = [[label_list[i] for i in label_id] for label_id in true_label_ids]\n\n    results = metric.compute(predictions=true_predictions, references=true_labels)\n    return {\n        \"precision\": results[\"overall_precision\"],\n        \"recall\": results[\"overall_recall\"],\n        \"f1\": results[\"overall_f1\"],\n        \"accuracy\": results[\"overall_accuracy\"],\n    }"
  },
  {
   "cell_type": "code",
   "execution_count": null,
   "metadata": {},
   "outputs": [],
   "source": "batch_size = 2\nmax_example_length = 6\n\npredictions = np.random.randn(batch_size, max_example_length, classlabel.num_classes)\nlabel_ids = np.random.randint(low=0, high=classlabel.num_classes, \n                              size=(batch_size, max_example_length), dtype=np.int16)\nword_ids = [[None, 0, 0, 1, 2, None], \n            [None, 0, 1, None]]\n\nprint(predictions.argmax(axis=2))\nprint(label_ids)\np = (predictions, label_ids)\nmetric = load_metric('seqeval')\ncompute_metrics(p, metric=metric, label_list=classlabel.names, word_ids=word_ids)"
  },
  {
   "cell_type": "markdown",
   "metadata": {},
   "source": "# NER training"
  },
  {
   "cell_type": "code",
   "execution_count": null,
   "metadata": {},
   "outputs": [],
   "source": "train_meta = load_train_meta('/kaggle/input/coleridgeinitiative-show-us-the-data/train.csv').iloc[:3]\npapers = load_papers('/kaggle/input/coleridgeinitiative-show-us-the-data/train', train_meta.Id)\n\nvalid_cutoff = int(.50 * len(train_meta))\nvalid_meta = train_meta.iloc[:valid_cutoff].reset_index(drop=True)\ntrain_meta = train_meta.iloc[valid_cutoff:].reset_index(drop=True)\n\nclasslabel = get_ner_classlabel()\npretokenizer = BertPreTokenizer()\n\ntrain_cnt_pos, train_cnt_neg, train_ner_data = get_ner_data(\n    papers, df=train_meta, mark_title=True, mark_text=True,\n    classlabel=classlabel, pretokenizer=pretokenizer,\n    sentence_definition='section', max_length=360, overlap=20, neg_keywords=None)\n\nvalid_cnt_pos, valid_cnt_neg, valid_ner_data = get_ner_data(\n    papers, df=valid_meta, mark_title=True, mark_text=True,\n    classlabel=classlabel, pretokenizer=pretokenizer, \n    sentence_definition='section', max_length=360, overlap=20, neg_keywords=None)\n\nprint(f'Train.  Positive count: {train_cnt_pos}.  Negative count: {train_cnt_neg}.')\nprint(f'Valid.  Positive count: {valid_cnt_pos}.  Negative count: {valid_cnt_neg}.')\n\nwrite_ner_json(train_ner_data, pth='train_ner.json')\nwrite_ner_json(valid_ner_data, pth='valid_ner.json')\ndatasets = load_ner_datasets(data_files={'train':'train_ner.json', 'valid':'valid_ner.json'})\n\nmodel_checkpoint = 'distilbert-base-cased' # 'xlm-roberta-base' #'distilbert-base-cased'\ntokenizer = create_tokenizer(model_checkpoint)\ntokenized_datasets = datasets.map(\n    partial(tokenize_and_align_labels, tokenizer=tokenizer, label_all_tokens=True), batched=True)\n\ntokenized_datasets.save_to_disk(f'datasetdict_{model_checkpoint}')"
  },
  {
   "cell_type": "code",
   "execution_count": null,
   "metadata": {},
   "outputs": [],
   "source": "model_checkpoint, bs = 'distilbert-base-cased', 20\n# model_checkpoint, bs = 'xlm-roberta-base', 8\n\ntokenizer = create_tokenizer(model_checkpoint)\ndata_collator = DataCollatorForTokenClassification(tokenizer)\nmodel = AutoModelForTokenClassification.from_pretrained(model_checkpoint, num_labels=classlabel.num_classes)\nmodel.resize_token_embeddings(len(tokenizer))\nmetric = load_metric('seqeval')\n\ntokenized_datasets = datasets.load_from_disk(f'datasetdict_{model_checkpoint}')\nword_ids = tokenized_datasets['valid']['word_ids']\ncompute_metrics_ = partial(compute_metrics, metric=metric, label_list=classlabel.names, word_ids=word_ids)\n\nargs = TrainingArguments(output_dir='test_training', num_train_epochs=2, \n                         learning_rate=2e-5, weight_decay=0.01,\n                         per_device_train_batch_size=bs, per_device_eval_batch_size=bs,\n                         evaluation_strategy='epoch', logging_steps=4, report_to='none', \n                         save_strategy='epoch', save_total_limit=6)\n\ntrainer = Trainer(model=model, args=args, \n                  train_dataset=tokenized_datasets['train'], eval_dataset=tokenized_datasets['valid'], \n                  data_collator=data_collator, tokenizer=tokenizer, compute_metrics=compute_metrics_)"
  },
  {
   "cell_type": "code",
   "execution_count": null,
   "metadata": {},
   "outputs": [],
   "source": "trainer.train()"
  },
  {
   "cell_type": "code",
   "execution_count": null,
   "metadata": {},
   "outputs": [],
   "source": "! ls -lrt test_training"
  },
  {
   "cell_type": "code",
   "execution_count": null,
   "metadata": {},
   "outputs": [],
   "source": "# bs = 4 # xlm-roberta-base on CPU\nbs = 20 # distilbert-base-cased on CPU\n\nargs = TrainingArguments(output_dir='test_training', num_train_epochs=4, \n                         learning_rate=2e-5, weight_decay=0.01,\n                         per_device_train_batch_size=bs, per_device_eval_batch_size=bs,\n                         evaluation_strategy='epoch', logging_steps=4, report_to='none', \n                         save_strategy='epoch', save_total_limit=6)\n\ntrainer = Trainer(model=model, args=args, \n                  train_dataset=tokenized_datasets['train'], eval_dataset=tokenized_datasets['valid'], \n                  data_collator=data_collator, tokenizer=tokenizer, \n                  compute_metrics=compute_metrics_)\ntrainer.train(resume_from_checkpoint='/kaggle/working/test_training/checkpoint-8/')"
  },
  {
   "cell_type": "code",
   "execution_count": null,
   "metadata": {},
   "outputs": [],
   "source": "trainer.evaluate()"
  },
  {
   "cell_type": "markdown",
   "metadata": {},
   "source": "## NER inference\n\n**Turn off the Internet here**"
  },
  {
   "cell_type": "code",
   "execution_count": null,
   "metadata": {},
   "outputs": [],
   "source": "#export\ndef get_ner_inference_data(papers, sample_submission, \n                           mark_title=False, mark_text=False,\n                           pretokenizer=BertPreTokenizer(), classlabel=get_ner_classlabel(), \n                           sentence_definition='sentence', max_length=64, overlap=20, \n                           min_length=10, contains_keywords=['data', 'study']):\n    '''\n    Args:\n        papers (dict): Each list in this dictionary consists of the section of a paper.\n        sample_submission (pd.DataFrame): Competition 'sample_submission.csv'.\n        max_length (int): Maximum number of words allowed in a sentence.\n        min_length (int): Mininum number of characters required in a sentence.\n        \n    Returns:\n        test_rows (list): Each list in this list is of the form: \n             [('goat', 0), ('win', 0), ...] and represents a sentence.  \n        paper_length (list): Number of sentences in each paper.\n    '''\n    test_rows = [] \n    paper_length = [] \n\n    for paper_id in sample_submission['Id']:\n        paper = papers[paper_id]\n\n        sentences = extract_sentences(paper, sentence_definition, mark_title, mark_text)\n        sentences = [text2words(s, pretokenizer=pretokenizer) for s in sentences]\n        sentences = shorten_sentences(sentences, max_length=max_length, overlap=overlap) \n        \n        if min_length > 0:\n            sentences = [\n                sentence for sentence in sentences if len(' '.join(sentence)) > min_length] \n            \n        if contains_keywords is not None:\n            sentences = [\n                sentence for sentence in sentences \n                if any(kw in ' '.join(word.lower() for word in sentence) for kw in contains_keywords)]\n\n        for sentence in sentences:\n            dummy_tags = [classlabel.str2int('O')]*len(sentence)\n            test_rows.append(list(zip(sentence, dummy_tags)))\n\n        paper_length.append(len(sentences))\n\n    print(f'total number of \"sentences\": {len(test_rows)}')\n    return test_rows, paper_length"
  },
  {
   "cell_type": "code",
   "execution_count": null,
   "metadata": {},
   "outputs": [],
   "source": "sample_submission = pd.read_csv('/kaggle/input/coleridgeinitiative-show-us-the-data/sample_submission.csv')\npapers = load_papers('/kaggle/input/coleridgeinitiative-show-us-the-data/test', sample_submission.Id)\n\nclasslabel = get_ner_classlabel()\npretokenizer = BertPreTokenizer()\ntest_rows, paper_length = get_ner_inference_data(papers, sample_submission, \n                                                 mark_title=True, mark_text=True,\n                                                 classlabel=classlabel, pretokenizer=pretokenizer,\n                                                 sentence_definition='paper', max_length=360, overlap=20,\n                                                 min_length=0, contains_keywords=['data'])\nprint(test_rows[0])\nprint(paper_length)"
  },
  {
   "cell_type": "code",
   "execution_count": null,
   "metadata": {},
   "outputs": [],
   "source": "#export\ndef ner_predict(pth=None, tokenizer=None, model=None, metric=None, \n                per_device_train_batch_size=16, per_device_eval_batch_size=16):\n    classlabel = get_ner_classlabel()\n    datasets = load_ner_datasets(data_files={'test':pth})\n\n    print('Tokenizing testset...', end='')\n    t0 = time.time()\n    tokenized_datasets = datasets.map(\n        partial(tokenize_and_align_labels, tokenizer=tokenizer, label_all_tokens=True), \n        batched=True)\n    print(f'completed in {(time.time() - t0) / 60:.2f} mins.')\n    \n    print('Creating data collator...')\n    data_collator = DataCollatorForTokenClassification(tokenizer)\n    \n    print('Creating (dummy) training arguments...')\n    args = TrainingArguments(output_dir='test_ner', num_train_epochs=3, \n                             learning_rate=2e-5, weight_decay=0.01,\n                             per_device_train_batch_size=per_device_train_batch_size, \n                             per_device_eval_batch_size=per_device_eval_batch_size,\n                             evaluation_strategy='epoch', logging_steps=4, report_to='none', \n                             save_strategy='epoch', save_total_limit=6)\n\n    print('Creating trainer...')\n    word_ids = tokenized_datasets['test']['word_ids']\n    compute_metrics_ = partial(compute_metrics, metric=metric, label_list=classlabel.names, word_ids=word_ids)\n    trainer = Trainer(model=model, args=args, \n                      train_dataset=tokenized_datasets['test'], eval_dataset=tokenized_datasets['test'], \n                      data_collator=data_collator, tokenizer=tokenizer, compute_metrics=compute_metrics_)\n\n    print('Predicting on test samples...')\n    t0 = time.time()\n    predictions, label_ids, _ = trainer.predict(tokenized_datasets['test'])\n    print(f'completed in {(time.time() - t0) / 60:.2f} mins.')\n    print('Argmaxing...')\n    t0 = time.time()\n    predictions = predictions.argmax(axis=2)\n    print(f'completed in {(time.time() - t0) / 60:.2f} mins.')\n    \n    print('Removing non-original outputs...', end='')\n    t0 = time.time()\n    predictions = remove_nonoriginal_outputs(predictions, word_ids)\n    label_ids   = remove_nonoriginal_outputs(label_ids, word_ids)\n    print(f'completed in {(time.time() - t0) / 60:.2f} mins.')\n    \n    return predictions, label_ids"
  },
  {
   "cell_type": "code",
   "execution_count": null,
   "metadata": {},
   "outputs": [],
   "source": "# This shows where to look for the cached metric `seqeval`.\n# metric = load_metric('/root/.cache/huggingface/modules/datasets_modules/metrics/seqeval/ec5b7242a8c40468d189ca0b2b10612578dbcad311b2a134c99e3ded58a0d6e3/seqeval.py')\n\n# Exporting the cached metric \n\n# %cd /root/.cache\n# ! zip -r huggingface_cache.zip huggingface/modules/datasets_modules/metrics/seqeval/ec5b7242a8c40468d189ca0b2b10612578dbcad311b2a134c99e3ded58a0d6e3/\n# %cd "
  },
  {
   "cell_type": "code",
   "execution_count": null,
   "metadata": {},
   "outputs": [],
   "source": "samples = ['''Archaeologists estimate the carvings are between 4,000 and 5,000 years old''', \n           ('''I could see that I was looking at a deer stag upside down, '''\n            '''and as I continued looking around, more animals appeared on the rock,” he said.''')]\n\nsamples = [text2words(sample, pretokenizer=BertPreTokenizer()) for sample in samples]\ntest_rows = [list(zip(sample, len(sample) * [0])) for sample in samples]\nwrite_ner_json(test_rows, pth='test_ner.json')\n\nmodel_checkpoint = 'test_training/checkpoint-8/'\ntokenizer = create_tokenizer(model_checkpoint=model_checkpoint)\nmodel = AutoModelForTokenClassification.from_pretrained(model_checkpoint)\nmetric = load_metric('/root/.cache/huggingface/modules/datasets_modules/metrics/seqeval/ec5b7242a8c40468d189ca0b2b10612578dbcad311b2a134c99e3ded58a0d6e3/seqeval.py')\n\npredictions, label_ids = ner_predict(pth='test_ner.json', tokenizer=tokenizer, model=model, metric=metric, \n                                     per_device_train_batch_size=4, per_device_eval_batch_size=4)\n\n\nfor i in range(len(predictions)):\n    print(f'Sample {i}:', len(predictions[i]), len(label_ids[i]), len(samples[i]))"
  },
  {
   "cell_type": "code",
   "execution_count": null,
   "metadata": {},
   "outputs": [],
   "source": "#export\n\ndef batched_ner_predict(pth, tokenizer=None, model=None, metric=None, \n                        batch_size=64_000, \n                        per_device_train_batch_size=16, per_device_eval_batch_size=16):\n    '''\n    Do inference on dataset in batches.\n    '''\n    lines = open(pth, mode='r').readlines()\n    \n    pth_tmp = 'ner_predict_tmp.json'\n    predictions, label_ids = [], []\n    for ib in range(0, len(lines), batch_size):\n        with open(pth_tmp, mode='w') as f:\n            f.writelines(lines[ ib: ib + batch_size ])\n\n        predictions_, label_ids_ = ner_predict(\n            pth_tmp, tokenizer=tokenizer, model=model, metric=metric, \n            per_device_train_batch_size=per_device_train_batch_size, \n            per_device_eval_batch_size=per_device_eval_batch_size)\n        predictions.extend(predictions_)\n        label_ids.extend(label_ids_)\n    return predictions, label_ids"
  },
  {
   "cell_type": "code",
   "execution_count": null,
   "metadata": {},
   "outputs": [],
   "source": "samples = ['''Archaeologists estimate the carvings are between 4,000 and 5,000 years old''', \n           ('''I could see that I was looking at a deer stag upside down, '''\n            '''and as I continued looking around, more animals appeared on the rock,” he said.'''),\n           '''The RNN model we are about to build has LSTM cells as basic hidden units.''', \n           '''YouTube series, the Crooner Sessions. Now he gets his musical pals together in real life for ''']\n\nsamples = [text2words(sample, pretokenizer=BertPreTokenizer()) for sample in samples]\ntest_rows = [list(zip(sample, len(sample) * [0])) for sample in samples]\nwrite_ner_json(test_rows, pth='test_ner.json')\n\nmodel_checkpoint = 'test_training/checkpoint-8/'\ntokenizer = create_tokenizer(model_checkpoint=model_checkpoint)\nmodel = AutoModelForTokenClassification.from_pretrained(model_checkpoint)\nmetric = load_metric('/root/.cache/huggingface/modules/datasets_modules/metrics/seqeval/ec5b7242a8c40468d189ca0b2b10612578dbcad311b2a134c99e3ded58a0d6e3/seqeval.py')\n\npredictions, label_ids = batched_ner_predict(\n    'test_ner.json', tokenizer=tokenizer, model=model, metric=metric, batch_size=2, \n    per_device_train_batch_size=16, per_device_eval_batch_size=16)\n\n\nfor i in range(len(predictions)):\n    print(f'Sample {i}:', len(predictions[i]), len(label_ids[i]), len(samples[i]))"
  },
  {
   "cell_type": "code",
   "execution_count": null,
   "metadata": {},
   "outputs": [],
   "source": "#export\ndef get_paper_dataset_labels(pth, paper_length, predictions):\n    '''\n    Args:\n        pth (Path, str): Path to json file containing NER data.  Each row is \n            of form: {'tokens': ['Studying', 'human'], 'ner_tags': [0, 0, ...]}.\n    \n    Returns:\n        paper_dataset_labels (list): Each element is a set consisting of labels predicted\n            by the model.\n    '''\n    test_sentences = [json.loads(sample)['tokens'] for sample in open(pth).readlines()]\n    \n    paper_dataset_labels = [] # store all dataset labels for each publication\n    for ipaper in range(len(paper_length)):\n        istart = sum(paper_length[:ipaper])\n        iend = istart + paper_length[ipaper]\n        \n        labels = set()\n        for sentence, pred in zip(test_sentences[istart:iend], predictions[istart:iend]):\n            curr_phrase = ''\n            for word, tag in zip(sentence, pred):\n                if tag == 'B': # start a new phrase\n                    if curr_phrase:\n                        labels.add(curr_phrase)\n                        curr_phrase = ''\n                    curr_phrase = word\n                elif tag == 'I' and curr_phrase: # continue the phrase\n                    curr_phrase += ' ' + word\n                else: # end last phrase (if any)\n                    if curr_phrase:\n                        labels.add(curr_phrase)\n                        curr_phrase = ''\n            # check if the label is the suffix of the sentence\n            if curr_phrase:\n                labels.add(curr_phrase)\n                curr_phrase = ''\n\n        # record dataset labels for this publication\n        paper_dataset_labels.append(labels)\n\n    return paper_dataset_labels"
  },
  {
   "cell_type": "code",
   "execution_count": null,
   "metadata": {},
   "outputs": [],
   "source": "sentences = ['They do not present all the features', \n             'Despite the pretraining on the Tigers EcoNAX dataset',\n             'Weirdly there has been lots of studies based on WGS Equality Definitiveness Dataset']\npaper_length = [2, 1]\ntest_rows = [[(word, 0) for word in sentence.split()] for sentence in sentences]\npredictions = [['O', 'O', 'O', 'B', 'I', 'I', 'O'],\n               ['O', 'O', 'O', 'O', 'O', 'B', 'I', 'I'],\n               ['O', 'O', 'O', 'O', 'O', 'O', 'O', 'O', 'O', 'B', 'I', 'I', 'I']]\nfor i, row in enumerate(test_rows):\n    assert len(row) == len(predictions[i])\n\nwrite_ner_json(test_rows, pth='test_ner.json')\n\npaper_dataset_labels = get_paper_dataset_labels('test_ner.json', paper_length, predictions)\nprint(paper_dataset_labels)"
  },
  {
   "cell_type": "markdown",
   "metadata": {},
   "source": "# Literal matching"
  },
  {
   "cell_type": "code",
   "execution_count": null,
   "metadata": {},
   "outputs": [],
   "source": "#export\ndef create_knowledge_bank(pth):\n    '''\n    Args:\n        pth (str): Path to meta data like 'train.csv', which\n        needs to have columns: 'dataset_title', 'dataset_label', and 'cleaned_label'.\n        \n    Returns:\n        all_labels (set): All possible strings associated with a dataset from the meta data.\n    '''\n    df = load_train_meta(pth, group_id=False)\n    all_labels = set()\n    for label_1, label_2, label_3 in df[['dataset_title', 'dataset_label', 'cleaned_label']].itertuples(index=False):\n        all_labels.add(str(label_1).lower())\n        all_labels.add(str(label_2).lower())\n        all_labels.add(str(label_3).lower())\n    return all_labels"
  },
  {
   "cell_type": "code",
   "execution_count": null,
   "metadata": {},
   "outputs": [],
   "source": "pth = Path('/kaggle/input/coleridgeinitiative-show-us-the-data/train.csv')\n\nprint('Creating knowledge bank...', end='')\nt0 = time.time()\nknowledge_bank = create_knowledge_bank(pth)\nprint(f'completed in {time.time() - t0:.4f} s.')\n\nprint(len(knowledge_bank))\nprint(sorted(knowledge_bank)[:10])"
  },
  {
   "cell_type": "code",
   "execution_count": null,
   "metadata": {},
   "outputs": [],
   "source": "#export\ndef literal_match(paper, all_labels):\n    '''\n    Args:\n        paper ()\n    '''\n    text_1 = '. '.join(section['text'] for section in paper).lower()\n    text_2 = clean_training_text(text_1, lower=True, total_clean=True)\n    \n    labels = set()\n    for label in all_labels:\n        if label in text_1 or label in text_2:\n            labels.add(clean_training_text(label, lower=True, total_clean=True))\n    return labels"
  },
  {
   "cell_type": "code",
   "execution_count": null,
   "metadata": {},
   "outputs": [],
   "source": "pth = Path('/kaggle/input/coleridgeinitiative-show-us-the-data/train.csv')\nknowledge_bank = create_knowledge_bank(pth)\n\nsample_submission = pd.read_csv('/kaggle/input/coleridgeinitiative-show-us-the-data/sample_submission.csv')\npapers = load_papers('/kaggle/input/coleridgeinitiative-show-us-the-data/test/', sample_submission.Id)\n\nliteral_preds = [literal_match(papers[paper_id], knowledge_bank) for paper_id in sample_submission.Id]\nprint(literal_preds)"
  },
  {
   "cell_type": "markdown",
   "metadata": {},
   "source": "# Overall prediction for submission"
  },
  {
   "cell_type": "code",
   "execution_count": null,
   "metadata": {},
   "outputs": [],
   "source": "#export\ndef combine_matching_and_model(literal_preds, paper_dataset_labels):\n    '''\n    Args:\n        literal_preds (list): Each element is a set, containing predicted labels for a paper\n            using literal matching.\n        paper_dataset_labels (list): Each element is a set, containing predicted labels for \n            a paper using trained model.\n    Returns:\n        filtered_dataset_labels (list): Each element is a string, containing \n            labels seperated by '|'.  \n            \n    Notes:\n        Combine literal matching predictions and model predictions. \n        Literal match predictions are appended IN FRONT of the model predictions,\n        because literal matches will be kept when removing labels that are too\n        similar to each other.\n    '''\n    all_labels = [list(literal_match) + list(model_pred) \n                  for literal_match, model_pred in zip(literal_preds, paper_dataset_labels)]\n    return all_labels"
  },
  {
   "cell_type": "code",
   "execution_count": null,
   "metadata": {},
   "outputs": [],
   "source": "literal_preds = [\n    {'mongolian racing cars', 'reallife headphones'}, \n    {},\n    {'rhs flowers fertiliser index'}, \n    {'moma artists catalogue'}]\n\npaper_dataset_labels = [\n    {'data', 'dataset'}, \n    {'hifi dataset', 'headphones collection data'}, \n    {'deep sea rock salts', 'rhs fertiliser index'}, \n    {'moma artists', 'housing market'}]\n\ncombine_matching_and_model(literal_preds, paper_dataset_labels)"
  },
  {
   "cell_type": "code",
   "execution_count": null,
   "metadata": {},
   "outputs": [],
   "source": "#export\ndef filter_dataset_labels(all_labels, max_similarity=0.75):\n    '''\n    When several labels for a paper are too similar, keep just one of them,\n    the one that appears FIRST.\n    \n    Args:\n        all_labels (list, set): Each element is a list of labels (str).\n        \n    Returns:\n        filtered_dataset_labels (list): Each element is a string, containing \n            labels seperated by '|'.\n    '''\n    filtered_dataset_labels = []\n\n    for labels in all_labels:\n        filtered = []\n\n        for label in labels:\n            label = clean_training_text(label, lower=True)\n            if len(filtered) == 0 or all(jaccard_similarity(label, got_label) < max_similarity \n                                         for got_label in filtered):\n                filtered.append(label)\n\n        filtered_dataset_labels.append('|'.join(filtered))\n    return filtered_dataset_labels"
  },
  {
   "cell_type": "code",
   "execution_count": null,
   "metadata": {},
   "outputs": [],
   "source": "all_labels = [\n    ['moma artists catalogue', 'moma artists', 'housing market'],\n    ['rhs flowers fertiliser index', 'deep sea rock salts', 'rhs fertiliser index']]\nprint(filter_dataset_labels(all_labels, max_similarity=.9))\n\nprint()\n\nall_labels = [\n    {'moma artists catalogue', 'moma artists', 'housing market'},\n    {'rhs flowers fertiliser index', 'deep sea rock salts', 'rhs fertiliser index'}]\nprint(filter_dataset_labels(all_labels))"
  },
  {
   "cell_type": "markdown",
   "metadata": {},
   "source": "Inference script"
  },
  {
   "cell_type": "code",
   "execution_count": null,
   "metadata": {},
   "outputs": [],
   "source": "! cp ../input/huggingface-cache/huggingface/modules/datasets_modules/metrics/seqeval/ec5b7242a8c40468d189ca0b2b10612578dbcad311b2a134c99e3ded58a0d6e3/seqeval.py .\n\nmodel_checkpoint = './test_training/checkpoint-8'\n\nprint('Preparing NER inference data...')\nsample_submission = pd.read_csv('/kaggle/input/coleridgeinitiative-show-us-the-data/sample_submission.csv')\npapers = load_papers('/kaggle/input/coleridgeinitiative-show-us-the-data/test/', sample_submission.Id)\nclasslabel = get_ner_classlabel()\npretokenizer = BertPreTokenizer()\ntest_rows, paper_length = get_ner_inference_data(papers, sample_submission, \n                                                 classlabel=classlabel, pretokenizer=pretokenizer,\n                                                 sentence_definition='section', max_length=300, overlap=20,\n                                                 min_length=0, contains_keywords=None)\nwrite_ner_json(test_rows, pth='test_ner.json')\n\nprint('Loading model, tokenizer, and metric...')\ntokenizer = create_tokenizer(model_checkpoint=model_checkpoint)\nmodel = AutoModelForTokenClassification.from_pretrained(model_checkpoint)\nmetric = load_metric('seqeval.py')\n\nprint('Predicting on each sentence...')\npredictions, label_ids = batched_ner_predict(\n    'test_ner.json', tokenizer=tokenizer, model=model, metric=metric, batch_size=64_000, \n    per_device_train_batch_size=20, per_device_eval_batch_size=20)\npredictions = [[classlabel.int2str(p) for p in pred] for pred in predictions]\nlabel_ids   = [[classlabel.int2str(l) for l in label] for label in label_ids]\n\nprint('Getting predicted labels for each article...')\npaper_dataset_labels = get_paper_dataset_labels('test_ner.json', paper_length, predictions)\n\nprint('String matching...')\nknowledge_bank = create_knowledge_bank('/kaggle/input/coleridgeinitiative-show-us-the-data/train.csv')\nliteral_preds = []\nfor paper_id in sample_submission.Id:\n    literal_preds.append(literal_match(papers[paper_id], knowledge_bank))\n\nprint('Combining literal matches and model predictions...')\nall_labels = combine_matching_and_model(literal_preds, paper_dataset_labels)\n\nprint('Keeping just one of labels that are too similar to each other...')\nfiltered_dataset_labels = filter_dataset_labels(all_labels)\n\nsample_submission['PredictionString'] = filtered_dataset_labels\n\nsample_submission.to_csv('submission.csv', index=False)"
  },
  {
   "cell_type": "code",
   "execution_count": null,
   "metadata": {},
   "outputs": [],
   "source": "! cat submission.csv"
  },
  {
   "cell_type": "markdown",
   "metadata": {},
   "source": "# Error analysis"
  },
  {
   "cell_type": "code",
   "execution_count": null,
   "metadata": {},
   "outputs": [],
   "source": "model_checkpoint = '../input/showusdata-distilbert-base-cased-ner/training_results_distilbert-base-cased/checkpoint-103245'\npth_valid_json = '../input/showus-data-ner-jsons/valid_ner.json'\n\nner_data_valid = random.sample(open(pth_valid_json).readlines(), 20)\nner_data_valid = [json.loads(sample) for sample in ner_data_valid]\nner_data_valid = [list(zip(sample['tokens'], sample['ner_tags'])) for sample in ner_data_valid]\nwrite_ner_json(ner_data_valid, pth='valid_ner.json')\n\ntokenizer = create_tokenizer(model_checkpoint=model_checkpoint)\nclasslabel = get_ner_classlabel()\nmodel = AutoModelForTokenClassification.from_pretrained(model_checkpoint, num_labels=classlabel.num_classes)\nmetric = load_metric('seqeval')\n\npredictions, label_ids = ner_predict(pth='valid_ner.json', tokenizer=tokenizer, model=model, metric=metric, \n                                     per_device_train_batch_size=4, per_device_eval_batch_size=4)\npredictions = [[classlabel.int2str(p) for p in pred] for pred in predictions]\nlabel_ids   = [[classlabel.int2str(l) for l in label] for label in label_ids]\n\npaper_dataset_labels = get_paper_dataset_labels('valid_ner.json', len(predictions) * [1], predictions)\ngt_paper_dataset_labels = get_paper_dataset_labels('valid_ner.json', len(label_ids) * [1], label_ids)"
  },
  {
   "cell_type": "code",
   "execution_count": null,
   "metadata": {},
   "outputs": [],
   "source": "for predicted_labels, gt_labels in zip(paper_dataset_labels, gt_paper_dataset_labels):\n    if gt_labels:\n        print(predicted_labels, gt_labels)"
  },
  {
   "cell_type": "code",
   "execution_count": null,
   "metadata": {},
   "outputs": [],
   "source": "metric.compute(predictions=predictions, references=label_ids)"
  },
  {
   "cell_type": "markdown",
   "metadata": {},
   "source": "# References\n- https://www.kaggle.com/tungmphung/pytorch-bert-for-named-entity-recognition/notebook\n- https://www.kaggle.com/tungmphung/coleridge-matching-bert-ner/notebook\n- https://github.com/huggingface/notebooks/blob/master/examples/token_classification.ipynb\n- https://datascience.stackexchange.com/questions/15989/micro-average-vs-macro-average-performance-in-a-multiclass-classification-settin\n- https://huggingface.co/docs/datasets/loading_metrics.html\n- [Python strings and memory](https://rushter.com/blog/python-strings-and-memory/)\n- [Grandmaster Series – Building World-Class NLP Models with Transformers and Hugging Face](https://www.kaggle.com/c/commonlitreadabilityprize/discussion/245004)\n- https://huggingface.co/transformers/tokenizer_summary.html\n- https://discuss.huggingface.co/t/t5-seq2seq-custom-fine-tuning/1497/4\n- https://www.kaggle.com/c/google-quest-challenge/discussion/123770"
  },
  {
   "cell_type": "code",
   "execution_count": null,
   "metadata": {},
   "outputs": [],
   "source": ""
  }
 ],
 "metadata": {
  "kernelspec": {
   "display_name": "Python 3",
   "language": "python",
   "name": "python3"
  }
 },
 "nbformat": 4,
 "nbformat_minor": 4
}
