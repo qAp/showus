{
 "cells": [
  {
   "cell_type": "markdown",
   "id": "valued-stanley",
   "metadata": {
    "tags": []
   },
   "source": [
    "# showus"
   ]
  },
  {
   "cell_type": "code",
   "execution_count": null,
   "id": "micro-province",
   "metadata": {
    "tags": []
   },
   "outputs": [],
   "source": [
    "#default_exp showus"
   ]
  },
  {
   "cell_type": "code",
   "execution_count": null,
   "id": "transparent-football",
   "metadata": {
    "tags": []
   },
   "outputs": [
    {
     "name": "stdout",
     "output_type": "stream",
     "text": [
      "Processing /kaggle/input/nlp-packages/datasets/datasets/fsspec-2021.4.0-py3-none-any.whl\r\n",
      "Installing collected packages: fsspec\r\n",
      "  Attempting uninstall: fsspec\r\n",
      "    Found existing installation: fsspec 0.8.7\r\n",
      "    Uninstalling fsspec-0.8.7:\r\n",
      "      Successfully uninstalled fsspec-0.8.7\r\n",
      "Successfully installed fsspec-2021.4.0\r\n",
      "Looking in links: file:///kaggle/input/coleridge-packages/packages/datasets\r\n",
      "Processing /kaggle/input/coleridge-packages/packages/datasets/datasets-1.5.0-py3-none-any.whl\r\n",
      "Requirement already satisfied: requests>=2.19.0 in /opt/conda/lib/python3.7/site-packages (from datasets) (2.25.1)\r\n",
      "Processing /kaggle/input/coleridge-packages/packages/datasets/huggingface_hub-0.0.7-py3-none-any.whl\r\n",
      "Requirement already satisfied: numpy>=1.17 in /opt/conda/lib/python3.7/site-packages (from datasets) (1.19.5)\r\n",
      "Requirement already satisfied: dill in /opt/conda/lib/python3.7/site-packages (from datasets) (0.3.3)\r\n",
      "Requirement already satisfied: pyarrow>=0.17.1 in /opt/conda/lib/python3.7/site-packages (from datasets) (1.0.1)\r\n",
      "Requirement already satisfied: multiprocess in /opt/conda/lib/python3.7/site-packages (from datasets) (0.70.11.1)\r\n",
      "Requirement already satisfied: importlib-metadata in /opt/conda/lib/python3.7/site-packages (from datasets) (3.4.0)\r\n",
      "Processing /kaggle/input/coleridge-packages/packages/datasets/xxhash-2.0.0-cp37-cp37m-manylinux2010_x86_64.whl\r\n",
      "Requirement already satisfied: pandas in /opt/conda/lib/python3.7/site-packages (from datasets) (1.1.5)\r\n",
      "Requirement already satisfied: fsspec in /opt/conda/lib/python3.7/site-packages (from datasets) (2021.4.0)\r\n",
      "Processing /kaggle/input/coleridge-packages/packages/datasets/tqdm-4.49.0-py2.py3-none-any.whl\r\n",
      "Requirement already satisfied: filelock in /opt/conda/lib/python3.7/site-packages (from huggingface-hub<0.1.0->datasets) (3.0.12)\r\n",
      "Requirement already satisfied: certifi>=2017.4.17 in /opt/conda/lib/python3.7/site-packages (from requests>=2.19.0->datasets) (2020.12.5)\r\n",
      "Requirement already satisfied: urllib3<1.27,>=1.21.1 in /opt/conda/lib/python3.7/site-packages (from requests>=2.19.0->datasets) (1.26.4)\r\n",
      "Requirement already satisfied: chardet<5,>=3.0.2 in /opt/conda/lib/python3.7/site-packages (from requests>=2.19.0->datasets) (4.0.0)\r\n",
      "Requirement already satisfied: idna<3,>=2.5 in /opt/conda/lib/python3.7/site-packages (from requests>=2.19.0->datasets) (2.10)\r\n",
      "Requirement already satisfied: typing-extensions>=3.6.4 in /opt/conda/lib/python3.7/site-packages (from importlib-metadata->datasets) (3.7.4.3)\r\n",
      "Requirement already satisfied: zipp>=0.5 in /opt/conda/lib/python3.7/site-packages (from importlib-metadata->datasets) (3.4.1)\r\n",
      "Requirement already satisfied: python-dateutil>=2.7.3 in /opt/conda/lib/python3.7/site-packages (from pandas->datasets) (2.8.1)\r\n",
      "Requirement already satisfied: pytz>=2017.2 in /opt/conda/lib/python3.7/site-packages (from pandas->datasets) (2021.1)\r\n",
      "Requirement already satisfied: six>=1.5 in /opt/conda/lib/python3.7/site-packages (from python-dateutil>=2.7.3->pandas->datasets) (1.15.0)\r\n",
      "Installing collected packages: tqdm, xxhash, huggingface-hub, datasets\r\n",
      "  Attempting uninstall: tqdm\r\n",
      "    Found existing installation: tqdm 4.59.0\r\n",
      "    Uninstalling tqdm-4.59.0:\r\n",
      "      Successfully uninstalled tqdm-4.59.0\r\n",
      "Successfully installed datasets-1.5.0 huggingface-hub-0.0.7 tqdm-4.49.0 xxhash-2.0.0\r\n",
      "Processing /kaggle/input/coleridge-packages/seqeval-1.2.2-py3-none-any.whl\r\n",
      "Requirement already satisfied: scikit-learn>=0.21.3 in /opt/conda/lib/python3.7/site-packages (from seqeval==1.2.2) (0.24.1)\r\n",
      "Requirement already satisfied: numpy>=1.14.0 in /opt/conda/lib/python3.7/site-packages (from seqeval==1.2.2) (1.19.5)\r\n",
      "Requirement already satisfied: joblib>=0.11 in /opt/conda/lib/python3.7/site-packages (from scikit-learn>=0.21.3->seqeval==1.2.2) (1.0.1)\r\n",
      "Requirement already satisfied: threadpoolctl>=2.0.0 in /opt/conda/lib/python3.7/site-packages (from scikit-learn>=0.21.3->seqeval==1.2.2) (2.1.0)\r\n",
      "Requirement already satisfied: scipy>=0.19.1 in /opt/conda/lib/python3.7/site-packages (from scikit-learn>=0.21.3->seqeval==1.2.2) (1.5.4)\r\n",
      "Installing collected packages: seqeval\r\n",
      "Successfully installed seqeval-1.2.2\r\n",
      "Processing /kaggle/input/coleridge-packages/tokenizers-0.10.1-cp37-cp37m-manylinux1_x86_64.whl\r\n",
      "Installing collected packages: tokenizers\r\n",
      "  Attempting uninstall: tokenizers\r\n",
      "    Found existing installation: tokenizers 0.10.2\r\n",
      "    Uninstalling tokenizers-0.10.2:\r\n",
      "      Successfully uninstalled tokenizers-0.10.2\r\n",
      "Successfully installed tokenizers-0.10.1\r\n",
      "Processing /kaggle/input/coleridge-packages/transformers-4.5.0.dev0-py3-none-any.whl\r\n",
      "Requirement already satisfied: tokenizers<0.11,>=0.10.1 in /opt/conda/lib/python3.7/site-packages (from transformers==4.5.0.dev0) (0.10.1)\r\n",
      "Requirement already satisfied: numpy>=1.17 in /opt/conda/lib/python3.7/site-packages (from transformers==4.5.0.dev0) (1.19.5)\r\n",
      "Requirement already satisfied: requests in /opt/conda/lib/python3.7/site-packages (from transformers==4.5.0.dev0) (2.25.1)\r\n",
      "Requirement already satisfied: tqdm>=4.27 in /opt/conda/lib/python3.7/site-packages (from transformers==4.5.0.dev0) (4.49.0)\r\n",
      "Requirement already satisfied: filelock in /opt/conda/lib/python3.7/site-packages (from transformers==4.5.0.dev0) (3.0.12)\r\n",
      "Requirement already satisfied: importlib-metadata in /opt/conda/lib/python3.7/site-packages (from transformers==4.5.0.dev0) (3.4.0)\r\n",
      "Requirement already satisfied: sacremoses in /opt/conda/lib/python3.7/site-packages (from transformers==4.5.0.dev0) (0.0.45)\r\n",
      "Requirement already satisfied: regex!=2019.12.17 in /opt/conda/lib/python3.7/site-packages (from transformers==4.5.0.dev0) (2021.3.17)\r\n",
      "Requirement already satisfied: packaging in /opt/conda/lib/python3.7/site-packages (from transformers==4.5.0.dev0) (20.9)\r\n",
      "Requirement already satisfied: typing-extensions>=3.6.4 in /opt/conda/lib/python3.7/site-packages (from importlib-metadata->transformers==4.5.0.dev0) (3.7.4.3)\r\n",
      "Requirement already satisfied: zipp>=0.5 in /opt/conda/lib/python3.7/site-packages (from importlib-metadata->transformers==4.5.0.dev0) (3.4.1)\r\n",
      "Requirement already satisfied: pyparsing>=2.0.2 in /opt/conda/lib/python3.7/site-packages (from packaging->transformers==4.5.0.dev0) (2.4.7)\r\n",
      "Requirement already satisfied: chardet<5,>=3.0.2 in /opt/conda/lib/python3.7/site-packages (from requests->transformers==4.5.0.dev0) (4.0.0)\r\n",
      "Requirement already satisfied: idna<3,>=2.5 in /opt/conda/lib/python3.7/site-packages (from requests->transformers==4.5.0.dev0) (2.10)\r\n",
      "Requirement already satisfied: certifi>=2017.4.17 in /opt/conda/lib/python3.7/site-packages (from requests->transformers==4.5.0.dev0) (2020.12.5)\r\n",
      "Requirement already satisfied: urllib3<1.27,>=1.21.1 in /opt/conda/lib/python3.7/site-packages (from requests->transformers==4.5.0.dev0) (1.26.4)\r\n",
      "Requirement already satisfied: click in /opt/conda/lib/python3.7/site-packages (from sacremoses->transformers==4.5.0.dev0) (7.1.2)\r\n",
      "Requirement already satisfied: six in /opt/conda/lib/python3.7/site-packages (from sacremoses->transformers==4.5.0.dev0) (1.15.0)\r\n",
      "Requirement already satisfied: joblib in /opt/conda/lib/python3.7/site-packages (from sacremoses->transformers==4.5.0.dev0) (1.0.1)\r\n",
      "Installing collected packages: transformers\r\n",
      "  Attempting uninstall: transformers\r\n",
      "    Found existing installation: transformers 4.5.1\r\n",
      "    Uninstalling transformers-4.5.1:\r\n",
      "      Successfully uninstalled transformers-4.5.1\r\n",
      "Successfully installed transformers-4.5.0.dev0\r\n"
     ]
    }
   ],
   "source": [
    "! pip install /kaggle/input/nlp-packages/datasets/datasets/fsspec-2021.4.0-py3-none-any.whl\n",
    "! pip install datasets --no-index --find-links=file:///kaggle/input/coleridge-packages/packages/datasets\n",
    "! pip install ../input/coleridge-packages/seqeval-1.2.2-py3-none-any.whl\n",
    "! pip install ../input/coleridge-packages/tokenizers-0.10.1-cp37-cp37m-manylinux1_x86_64.whl\n",
    "! pip install ../input/coleridge-packages/transformers-4.5.0.dev0-py3-none-any.whl"
   ]
  },
  {
   "cell_type": "code",
   "execution_count": null,
   "id": "handled-creature",
   "metadata": {
    "tags": []
   },
   "outputs": [],
   "source": [
    "#export\n",
    "import os, shutil, time\n",
    "from tqdm import tqdm\n",
    "from pathlib import Path\n",
    "import itertools\n",
    "from functools import partial\n",
    "import re\n",
    "import json\n",
    "import random\n",
    "import numpy as np\n",
    "import pandas as pd\n",
    "import torch\n",
    "import transformers, seqeval\n",
    "from transformers import AutoTokenizer, DataCollatorForTokenClassification\n",
    "from transformers import AutoModelForTokenClassification\n",
    "from transformers import TrainingArguments, Trainer\n",
    "from datasets import load_dataset, ClassLabel, load_metric\n",
    "\n",
    "import matplotlib.pyplot as plt"
   ]
  },
  {
   "cell_type": "markdown",
   "id": "increased-sudan",
   "metadata": {
    "tags": []
   },
   "source": [
    "# Utilities"
   ]
  },
  {
   "cell_type": "code",
   "execution_count": null,
   "id": "hidden-cathedral",
   "metadata": {
    "tags": []
   },
   "outputs": [],
   "source": [
    "#export\n",
    "Path.ls = lambda pth: list(pth.iterdir())"
   ]
  },
  {
   "cell_type": "markdown",
   "id": "growing-belize",
   "metadata": {
    "tags": []
   },
   "source": [
    "# Data I/O"
   ]
  },
  {
   "cell_type": "code",
   "execution_count": null,
   "id": "typical-shell",
   "metadata": {
    "tags": []
   },
   "outputs": [],
   "source": [
    "#export\n",
    "def load_train_meta(pth, group_id=True):\n",
    "    df = pd.read_csv(pth)\n",
    "    if group_id:\n",
    "        df = df.groupby('Id').agg({'pub_title': 'first', 'dataset_title': '|'.join, \n",
    "                                   'dataset_label': '|'.join, 'cleaned_label': '|'.join}).reset_index()\n",
    "    return df"
   ]
  },
  {
   "cell_type": "code",
   "execution_count": null,
   "id": "blocked-tablet",
   "metadata": {
    "tags": []
   },
   "outputs": [
    {
     "name": "stdout",
     "output_type": "stream",
     "text": [
      "14316 19661\n",
      "['Baltimore Longitudinal Study of Aging (BLSA)|Baltimore Longitudinal Study of Aging'\n",
      " 'Beginning Postsecondary Students Longitudinal Study|Education Longitudinal Study|Beginning Postsecondary Students'\n",
      " \"ADNI|Alzheimer's Disease Neuroimaging Initiative (ADNI)\"\n",
      " \"ADNI|Alzheimer's Disease Neuroimaging Initiative (ADNI)\"\n",
      " \"ADNI|Alzheimer's Disease Neuroimaging Initiative (ADNI)\"\n",
      " \"ADNI|Alzheimer's Disease Neuroimaging Initiative (ADNI)\"\n",
      " \"ADNI|Alzheimer's Disease Neuroimaging Initiative (ADNI)\"\n",
      " 'Baltimore Longitudinal Study of Aging (BLSA)|Baltimore Longitudinal Study of Aging'\n",
      " \"ADNI|Alzheimer's Disease Neuroimaging Initiative (ADNI)\"\n",
      " 'Beginning Postsecondary Student|Beginning Postsecondary Students']\n"
     ]
    }
   ],
   "source": [
    "pth = Path('/kaggle/input/coleridgeinitiative-show-us-the-data/train.csv')\n",
    "df = load_train_meta(pth, group_id=True)\n",
    "df_nogroup = load_train_meta(pth, group_id=False)\n",
    "print(len(df), len(df_nogroup))\n",
    "dup_ids = df_nogroup[df_nogroup.Id.duplicated()].Id.unique()\n",
    "print(df[df.Id.isin(dup_ids)].dataset_label.values[-10:])"
   ]
  },
  {
   "cell_type": "code",
   "execution_count": null,
   "id": "understood-three",
   "metadata": {
    "tags": []
   },
   "outputs": [],
   "source": [
    "#export\n",
    "def load_papers(dir_json, paper_ids):\n",
    "    '''\n",
    "    Load papers into a dictionary.\n",
    "    \n",
    "    `papers`: \n",
    "        {''}\n",
    "    '''\n",
    "    \n",
    "    papers = {}\n",
    "    for paper_id in paper_ids:\n",
    "        with open(f'{dir_json}/{paper_id}.json', 'r') as f:\n",
    "            paper = json.load(f)\n",
    "            papers[paper_id] = paper\n",
    "    return papers"
   ]
  },
  {
   "cell_type": "code",
   "execution_count": null,
   "id": "packed-audio",
   "metadata": {
    "tags": []
   },
   "outputs": [
    {
     "name": "stdout",
     "output_type": "stream",
     "text": [
      "<class 'dict'>\n",
      "{'section_title': 'Abstract', 'text': 'The perirhinal cortex (Brodmann\\'s area 35) is a multimodal area that is important for normal memory function. Specifically, perirhinal cortex is involved in the detection of novel objects and manifests neurofibrillary tangles in Alzheimer\\'s disease very early in disease progression. We scanned ex vivo brain hemispheres at standard resolution (1 mm × 1 mm × 1 mm) to construct pial/white matter surfaces in FreeSurfer and scanned again at high resolution (120 μm × 120 μm × 120 μm) to determine cortical architectural boundaries. After labeling perirhinal area 35 in the high resolution images, we mapped the high resolution labels to the surface models to localize area 35 in fourteen cases. We validated the area boundaries determined using histological Nissl staining. To test the accuracy of the probabilistic mapping, we measured the Hausdorff distance between the predicted and true labels and found that the median Hausdorff distance was 4.0 mm for the left hemispheres (n = 7) and 3.2 mm for the right hemispheres (n = 7) across subjects. To show the utility of perirhinal localization, we mapped our labels to a subset of the Alzheimer\\'s Disease Neuroimaging Initiative dataset and found decreased cortical thickness measures in mild cognitive impairment and Alzheimer\\'s disease compared to controls in the predicted perirhinal area 35. Our ex vivo probabilistic mapping of the perirhinal cortex provides histologically validated, automated and accurate labeling of architectonic regions in the medial temporal lobe, and facilitates the analysis of atrophic changes in a large dataset for earlier detection and diagnosis.\\n© 2012 Elsevier Inc. All rights reserved.\\nThe perirhinal cortex (Brodmann\\'s area 35) is a multimodal cortical area that is located in the medial temporal lobe (MTL). A multimodal area receives input from more than one cortical association area and it is a region where information from different modalities converge (Jones and Powell, 1970; Van Hoesen and Pandya, 1975a) . Perirhinal cortex is situated between the entorhinal cortex (Brodmann\\'s area 28 and perirhinal\\'s medial neighbor) and ectorhinal cortex (Brodmann\\'s area 36 and perirhinal\\'s lateral neighbor) in the mediolateral plane. The ectorhinal cortex (area 36) constitutes the perirhinal\\'s anterior and lateral neighbor while the posterior parahippocampal cortex lies posterior to the perirhinal cortex.\\nBrodmann described the perirhinal cortex as a \"transition between archipallium and neopallium\" (Brodmann, 1909; Brodmann and Garey, 1994) . Since then, the perirhinal cortex has undergone several name modifications. Braak and Braak coined the term \\'transentorhinal\\' and succinctly described the mediolateral boundaries, but this description lacked the anterior-posterior entirety of the area (Braak and Braak, 1985) . Perirhinal area 35 and transentorhinal are somewhat synonymous terms. To further complicate the situation for area 35, several investigators have lumped area 35 (perirhinal) and area 36 (ectorhinal) together and referred to it as perirhinal cortex (Suzuki and Amaral, 1994a,b), dropping the ectorhinal designation entirely and creating a very large area. Nonetheless, extensive rostrocaudal analyses with several histological stains have yielded the boundaries of the perirhinal cortex in the human brain, albeit including isocortical area 36 in the definition (Ding and Van Hoesen, 2010) . To make matters even more confusing, NeuroImage 64 (2013) E-mail address: jean@nmr.mgh.harvard.edu (J.C. Augustinack). 1 Data used in preparation of this article were obtained from the Alzheimer\\'s Disease Neuroimaging Initiative (ADNI) database (adni.loni.ucla.edu). As such, the investigators within the ADNI contributed to the design and implementation of ADNI and/or provided data but did not participate in the analysis or writing of this report. A complete listing of ADNI investigators can be found at:'}\n"
     ]
    }
   ],
   "source": [
    "df = load_train_meta('/kaggle/input/coleridgeinitiative-show-us-the-data/train.csv', group_id=True).iloc[-10:]\n",
    "papers = load_papers('/kaggle/input/coleridgeinitiative-show-us-the-data/train/', df.Id)\n",
    "print(type(papers))\n",
    "print(\n",
    "    papers[ np.random.choice(df.Id.values) ][0]\n",
    ")"
   ]
  },
  {
   "cell_type": "code",
   "execution_count": null,
   "id": "solar-devil",
   "metadata": {
    "tags": []
   },
   "outputs": [],
   "source": [
    "#export\n",
    "def load_sample_text(jpth):\n",
    "    sections = json.loads(jpth.read_text())\n",
    "    text = '\\n'.join(section['text'] for section in sections)\n",
    "    return text"
   ]
  },
  {
   "cell_type": "code",
   "execution_count": null,
   "id": "minor-louisville",
   "metadata": {
    "tags": []
   },
   "outputs": [
    {
     "name": "stdout",
     "output_type": "stream",
     "text": [
      "The International Standard Classification of Education, known by its acronym ISCED, was developed by the United Nations Educational, Scientific, and Cultural Organization during the late 1960s and 1970s. ISCED was implemented in 1976 and is the recognized international standard for reporting and interpreting education program data. Creating a U.S. crosswalk to this system has been a goal of the National Center for Education Statistics and the Office of Research since the late 197,,s, when the National Institute of Education (the predecessor agency to the Office of Educational Research and Improvement) began exploring the idea. The design and implementation of a workable crosswalk, however, awaited the advent of changes to the Classification of Instructional Programs (CIP) system. The 1990 revision of the CIP system laid the foundation for a workable international crosswalk. Adoption of the National Education Goals set global consciousness and international educational comparisons firml\n"
     ]
    }
   ],
   "source": [
    "jpths_trn = Path('/kaggle/input/coleridgeinitiative-show-us-the-data/train/').ls()\n",
    "print(load_sample_text(jpths_trn[0])[:1_000])"
   ]
  },
  {
   "cell_type": "markdown",
   "id": "standing-silicon",
   "metadata": {
    "tags": []
   },
   "source": [
    "# Data processing"
   ]
  },
  {
   "cell_type": "code",
   "execution_count": null,
   "id": "expanded-relevance",
   "metadata": {
    "tags": []
   },
   "outputs": [],
   "source": [
    "#export\n",
    "def clean_training_text(txt, lower=False, total_clean=False):\n",
    "    \"\"\"\n",
    "    similar to the default clean_text function but without lowercasing.\n",
    "    \"\"\"\n",
    "    txt = str(txt).lower() if lower else str(txt)\n",
    "    txt = re.sub('[^A-Za-z0-9]+', ' ', txt).strip()\n",
    "    if total_clean:\n",
    "        txt = re.sub(' +', ' ', txt)\n",
    "    return txt"
   ]
  },
  {
   "cell_type": "code",
   "execution_count": null,
   "id": "elect-afternoon",
   "metadata": {
    "tags": []
   },
   "outputs": [
    {
     "name": "stdout",
     "output_type": "stream",
     "text": [
      "kaggle This competition awards 90 000\n",
      "hopkld 7 11 002\n"
     ]
    }
   ],
   "source": [
    "print(clean_training_text('@kaggle This competition awards $90,000!!!!.'))\n",
    "print(clean_training_text('HoPKLd + 7 ! 11,002', total_clean=True, lower=True))"
   ]
  },
  {
   "cell_type": "code",
   "execution_count": null,
   "id": "noble-tract",
   "metadata": {
    "tags": []
   },
   "outputs": [],
   "source": [
    "#export\n",
    "def shorten_sentences(sentences, max_length=64, overlap=20):\n",
    "    '''\n",
    "    Args:\n",
    "        sentences (list): List of sentences.\n",
    "        max_length (int): Maximum number of words allowed for each sentence.\n",
    "        overlap (int): If a sentence exceeds `max_length`, we split it to multiple sentences with \n",
    "            this amount of overlapping.\n",
    "    '''\n",
    "    short_sentences = []\n",
    "    for sentence in sentences:\n",
    "        words = sentence.split()\n",
    "        if len(words) > max_length:\n",
    "            for p in range(0, len(words), max_length - overlap):\n",
    "                short_sentences.append(' '.join(words[p:p+max_length]))\n",
    "        else:\n",
    "            short_sentences.append(sentence)\n",
    "    return short_sentences"
   ]
  },
  {
   "cell_type": "code",
   "execution_count": null,
   "id": "alien-hungary",
   "metadata": {
    "tags": []
   },
   "outputs": [
    {
     "name": "stdout",
     "output_type": "stream",
     "text": [
      "Before: ['The International Standard Classification of Education, known by its acronym ISCED, was developed by the United Nations Educational, Scientific, and Cultural Organization during the late 1960s and 1970s', ' ISCED was implemented in 1976 and is the recognized international standard for reporting and interpreting education program data']\n",
      "\n",
      "After: ['The International Standard Classification of Education, known by its acronym', 'its acronym ISCED, was developed by the United Nations Educational,', 'Nations Educational, Scientific, and Cultural Organization during the late 1960s', 'late 1960s and 1970s', 'ISCED was implemented in 1976 and is the recognized international', 'recognized international standard for reporting and interpreting education program data', 'program data']\n"
     ]
    }
   ],
   "source": [
    "jpths_trn = Path('/kaggle/input/coleridgeinitiative-show-us-the-data/train/').ls()\n",
    "sentences = load_sample_text(jpths_trn[0]).split('.')[:2]\n",
    "short_sentences = shorten_sentences(sentences, max_length=10, overlap=2)\n",
    "print('Before:', sentences)\n",
    "print()\n",
    "print('After:', short_sentences)"
   ]
  },
  {
   "cell_type": "code",
   "execution_count": null,
   "id": "selected-restaurant",
   "metadata": {
    "tags": []
   },
   "outputs": [],
   "source": [
    "#export\n",
    "def find_sublist(big_list, small_list):\n",
    "    all_positions = []\n",
    "    for i in range(len(big_list) - len(small_list) + 1):\n",
    "        if small_list == big_list[i:i+len(small_list)]:\n",
    "            all_positions.append(i)\n",
    "    \n",
    "    return all_positions"
   ]
  },
  {
   "cell_type": "code",
   "execution_count": null,
   "id": "advanced-academy",
   "metadata": {
    "tags": []
   },
   "outputs": [
    {
     "data": {
      "text/plain": [
       "[1, 15]"
      ]
     },
     "execution_count": null,
     "metadata": {},
     "output_type": "execute_result"
    }
   ],
   "source": [
    "big_list = ['If', 'the', 'thing', 'above', 'is', 'below', 'that', 'thing', 'which', 'is',\n",
    "            'not', 'as', 'high', 'up', 'on', 'the', 'thing', 'above', 'when', 'it', 'is', \n",
    "            'underneath', 'them.']\n",
    "small_list = ['the', 'thing', 'above']\n",
    "\n",
    "find_sublist(big_list, small_list)"
   ]
  },
  {
   "cell_type": "markdown",
   "id": "russian-endorsement",
   "metadata": {
    "tags": []
   },
   "source": [
    "# Named Entity Recognition"
   ]
  },
  {
   "cell_type": "code",
   "execution_count": null,
   "id": "useful-virgin",
   "metadata": {
    "tags": []
   },
   "outputs": [],
   "source": [
    "#export\n",
    "def get_ner_classlabel():\n",
    "    '''\n",
    "    Labels for named entity recognition.\n",
    "        'O': Token not part of a phrase that mentions a dataset.\n",
    "        'I': Intermediate token of a phrase mentioning a dataset.\n",
    "        'B': First token of a phrase mentioning a dataset.\n",
    "    '''\n",
    "    return ClassLabel(names=['O', 'I', 'B'])"
   ]
  },
  {
   "cell_type": "code",
   "execution_count": null,
   "id": "stretch-badge",
   "metadata": {
    "tags": []
   },
   "outputs": [
    {
     "name": "stdout",
     "output_type": "stream",
     "text": [
      "ClassLabel(num_classes=3, names=['O', 'I', 'B'], names_file=None, id=None)\n",
      "[1, 0, 2] 1\n",
      "B ['B', 'I', 'O']\n"
     ]
    }
   ],
   "source": [
    "classlabel = get_ner_classlabel()\n",
    "print(classlabel)\n",
    "print(classlabel.str2int(['I', 'O', 'B']), classlabel.str2int('I'))\n",
    "print(classlabel.int2str(2), classlabel.int2str([2, 1, 0]))"
   ]
  },
  {
   "cell_type": "code",
   "execution_count": null,
   "id": "acute-ministry",
   "metadata": {
    "tags": []
   },
   "outputs": [],
   "source": [
    "#export\n",
    "def tag_sentence(sentence, labels, classlabel=None): \n",
    "    '''\n",
    "    requirement: both sentence and labels are already cleaned\n",
    "    '''\n",
    "    sentence_words = sentence.split()\n",
    "    \n",
    "    if labels is not None and any(re.findall(f'\\\\b{label}\\\\b', sentence)\n",
    "                                  for label in labels): # positive sample\n",
    "        nes = [classlabel.str2int('O')] * len(sentence_words)\n",
    "        for label in labels:\n",
    "            label_words = label.split()\n",
    "\n",
    "            all_pos = find_sublist(sentence_words, label_words)\n",
    "            for pos in all_pos:\n",
    "                nes[pos] = classlabel.str2int('B')\n",
    "                for i in range(pos+1, pos+len(label_words)):\n",
    "                    nes[i] = classlabel.str2int('I')\n",
    "\n",
    "        return True, list(zip(sentence_words, nes))\n",
    "        \n",
    "    else: # negative sample\n",
    "        nes = [classlabel.str2int('O')] * len(sentence_words)\n",
    "        return False, list(zip(sentence_words, nes))"
   ]
  },
  {
   "cell_type": "code",
   "execution_count": null,
   "id": "descending-aluminum",
   "metadata": {
    "tags": []
   },
   "outputs": [
    {
     "name": "stdout",
     "output_type": "stream",
     "text": [
      "A label is found in the sentence: True\n",
      "(token, tag) pairs:\n",
      "[('The', 2), ('International', 1), ('Standard', 0), ('Classification', 0), ('of', 0), ('Education', 0), ('known', 0), ('by', 0), ('its', 0), ('acronym', 0), ('ISCED', 0), ('was', 0), ('developed', 0), ('by', 0), ('the', 0), ('United', 2), ('Nations', 1), ('Educational', 1), ('Scientific', 0), ('and', 0), ('Cultural', 2), ('Organization', 1), ('during', 0), ('the', 0), ('late', 0), ('1960s', 0), ('and', 0), ('1970s', 0)]\n"
     ]
    }
   ],
   "source": [
    "sentence = (\"The International Standard Classification of Education, known by its acronym ISCED, \"\n",
    "            \"was developed by the United Nations Educational, \"\n",
    "            \"Scientific, and Cultural Organization during the late 1960s and 1970s\")\n",
    "labels = ['The International', 'Cultural Organization', 'United Nations Educational']\n",
    "\n",
    "sentence = clean_training_text(sentence)\n",
    "labels = [clean_training_text(label) for label in labels]\n",
    "classlabel = get_ner_classlabel()\n",
    "found_any, token_tags = tag_sentence(sentence, labels, classlabel=classlabel)\n",
    "\n",
    "print('A label is found in the sentence:', found_any)\n",
    "print('(token, tag) pairs:')\n",
    "print(token_tags)"
   ]
  },
  {
   "cell_type": "code",
   "execution_count": null,
   "id": "coral-lucas",
   "metadata": {
    "tags": []
   },
   "outputs": [],
   "source": [
    "#export\n",
    "def extract_sentences(paper, sentence_definition='sentence'):\n",
    "    if sentence_definition == 'sentence':\n",
    "        sentences = set(clean_training_text(sentence) \n",
    "                        for sec in paper for sentence in sec['text'].split('.') if sec['text'])\n",
    "    elif sentence_definition == 'section':\n",
    "        sentences = set(clean_training_text(sec['section_title'] + '\\n' + sec['text']) \n",
    "                        for sec in paper if sec['text'])\n",
    "    return sentences"
   ]
  },
  {
   "cell_type": "code",
   "execution_count": null,
   "id": "serious-lottery",
   "metadata": {
    "tags": []
   },
   "outputs": [
    {
     "name": "stdout",
     "output_type": "stream",
     "text": [
      "..... Sentence definition = normal sentence\n",
      "302 ['', 'Charter schools are public schools that are founded by community leaders and parents']\n",
      "\n",
      "..... Sentence definition = paper section\n",
      "12 ['Cross section regressions We begin by exploring cross section regression models Beyond the potential inconsistency from the use of the lagged dependent variable as a regressor this first econometric specification has two possible limitations First the lagged performance composite score proxying for ability is measured with error because the score is an imperfect measure of underlying student quality charter school placement and thus distance from the traditional school to the nearest charter school may be a function of traditional school quality For example charters may locate in areas with aboveaverage student quality in order to skim the high performing students and appear to be very effective In this situation a cross section regression would indicate a beneficial effect of charter school competition because the average traditional school facing competition has higher quality students than the average school not facing competition Alternatively charters may originate in locales in which parents are dissatisfied with the performance of the traditional school If students in these areas have below average achievement competition would appear detrimental to traditional school performance because the average school facing competition has lower quality students than the average school not facing competition We examine the possibility that charter schools are endogenously placed in cross section regressions in which distance is instrumented by county level factors thought to influence the location of charter schools in North Carolina 10 Over all distance variable specifications Hausman tests of exogeneity are insignificant implying that the distance measure can be treated as exogenous Bettinger 1999 used distance to the nearest public university for which the governor a charter school proponent appoints the board as an instrument for charter school competition motivated by the fact that in Michigan universities issue the charters for charter schools Since school systems issue the charters in North Carolina there is little theoretical justification for using a similar instrument in our regressions 11 Moreover North Carolina charter schools are quite heterogeneous in focus and history including some schools that converted from traditional public or private administration Thus there is no single model that explains how charter schools are instituted in North Carolina Therefore the remainder of the paper assumes that charter school placement and thus distance to the nearest charter school is exogneous The cross sectional models estimate the effect of five different distance measures Two of these are parametric the number of kilometers to the nearest charter school and the log of this measure We also explore three binary indicators Two of these signal whether the traditional school is within 10 or 20 km respectively of the nearest charter school 12 The third is an indicator for whether a charter school is located in the county that year Since our hypothesis predicts that traditional school quality will decrease as the distance to the nearest charter increases the predicted coefficients are negative for parametric measures and positive for the indicators Table 5 summarizes cross sectional regression results A separate regression is estimated for each of the three sample years and for each of the five distance measures resulting in fifteen separate models Eight of the fifteen distance estimates are significantly different from zero and all have the expected sign In the first and third year all three distance indicators are significant In 1997 98 the magnitude of the charter effect is invariant to whether the charter is within 10 or 20 km while in 1999 2000 the magnitude is twice as great for the shorter distance This pattern as well as the larger coefficient for charter in county in 1997 98 is consistent with the dramatic growth of the charter system during these two years in 1999 2000 more traditional schools were likely to have charters within the county and charters within 20 km In these 2 years the only parametric measure that is significant is the log of distance in 1999 2000 The results for 1998 99 are the opposite since distance is significant but no other measures are 13 11 We estimated IV models analogous to those of Bettinger 1999 Although distance to the nearest public university passed instrument validity tests Hausman tests failed to reject its exogeneity in the test performance equation 12 Similar results are found for the five fifteen and twenty five kilometer indicators 13 Schools may experience large shifts in enrollment if nearby schools open or close To test for robustness we run the IV models on the subsample of schools with yearly changes of enrollment of less than five percent The results are in general more statistically and economically significant The relevant policy question however is what happens to the quality of traditional schools after the onset of charter school competition We explore this question most appropriately addressed from a longitudinal perspective in the next two subsections Table 6 presents results from the Arellano Bond 1991 panel IV models Again we instrument the once lagged score with the twice lagged score to account for measurement error Model 1 uses the natural log of the kilometers from the nearest charter school to account for the degree of competition The estimated elasticity of Model 1 is 003 which is statistically insignificant', 'Summary statistics We begin by describing the number of charter schools in North Carolina Table 1 shows that the charter school system has grown substantially during the sample period In 1996 1997 there were no charter schools The following year there were 28 charter schools in operation By 1999 2000 there were 74 Despite the rapid growth in the charter school system charter school attendees comprise just over one percent of public school enrollment in 2000 2001 Table 2 presents various measures of distance to the nearest charter school for the sample years As the number of charter schools nearly tripled the average distance to the closest charter school has fallen by about one third from 32 km in 1997 1998 to 21 km in 1999 2000 As an alternative to distance or the log of distance in some regressions we calculate five indicator variables that equal 1 if and only if the traditional school is within a given number of kilometers 5 10 15 20 and 25 kilometers of the nearest charter For example the distance to the nearest charter school is less than five kilometers for about 9 percent of traditional schools in 1997 1998 but over twice as many schools were within 5 kilometers in 1999 2000 We also calcaulate an indicator for whether a charter school is operating in the same county as the traditional school the mean of which also increases over time The influence of a nearby charter school on traditional school performance depends in part on the credibility of students threats to switch to the charter Threats are more credible as the distances between the schools decreases In order to frame the distances over which charter schools might affect traditional school enrollment we examine separate data on approximately 2 000 North Carolina students in grades three through eight who switch from a traditional school to a charter school The median distance between the two schools for these switchers is about 6 kilometers with a 95th percentile of around 22 kilometers Although these data represent actual rather than potential migration patterns these statistics suggest that effects of charter schools beyond 25 kilometers from a traditional school should be small 9 Figure 1 maps North Carolina counties and their charter school status during the three sample years It is evident that counties in metropolitan statistical areas are more likely to contain a charter school There is also considerable variation over time with many new charter schools opening each year Figure 2 tabulates distance from the traditional school to the nearest charter by whether any charter was operating in the same county as the traditional school in 1999 For example ninety percent of schools in counties with a charter school are located within 20 km of the charter Table 3 summarizes the mean performance composite among traditional schools and changes 9 We also spoke with a charter school administrator in North Carolina who indicates that his school draws students primarily from four nearby schools located approximately 2 5 6 and 9 km from the charter Table 4 presents sample summary statistics In the typical school approximately three percent of students are Hispanic thirty two percent are African American and thirty eight percent are eligible for free lunch On average schools have 15 students per faculty member an enrollment of 566 students and a performance composite of about 72']\n",
      "\n"
     ]
    }
   ],
   "source": [
    "df = load_train_meta('/kaggle/input/coleridgeinitiative-show-us-the-data/train.csv', group_id=True).iloc[100:110]\n",
    "papers = load_papers('/kaggle/input/coleridgeinitiative-show-us-the-data/train', df.Id)\n",
    "paper = papers[df.Id.iloc[3]]\n",
    "print('..... Sentence definition = normal sentence')\n",
    "sentences = extract_sentences(paper, sentence_definition='sentence')\n",
    "print(len(sentences), list(sentences)[:2], end='\\n\\n')\n",
    "print('..... Sentence definition = paper section')\n",
    "sentences = extract_sentences(paper, sentence_definition='section')\n",
    "print(len(sentences), list(sentences)[:2][:1_000], end='\\n\\n')"
   ]
  },
  {
   "cell_type": "code",
   "execution_count": null,
   "id": "threaded-devil",
   "metadata": {
    "tags": []
   },
   "outputs": [],
   "source": [
    "#export\n",
    "def get_paper_ner_data(paper, labels, classlabel=None,\n",
    "                       sentence_definition='sentence', max_length=64, overlap=20, \n",
    "                       neg_keywords=['data', 'study']):\n",
    "    '''\n",
    "    Get NER data for a single paper.\n",
    "    '''\n",
    "    labels = [clean_training_text(label) for label in labels]\n",
    "    sentences = extract_sentences(paper, sentence_definition=sentence_definition)\n",
    "    sentences = shorten_sentences(sentences, max_length=max_length, overlap=overlap) \n",
    "    sentences = [sentence for sentence in sentences if len(sentence) > 10] # only accept sentences with length > 10 chars\n",
    "\n",
    "    cnt_pos, cnt_neg, ner_data = 0, 0, []\n",
    "    for sentence in sentences:\n",
    "        is_positive, tags = tag_sentence(sentence, labels, classlabel=classlabel)\n",
    "        if is_positive:\n",
    "            cnt_pos += 1\n",
    "            ner_data.append(tags)\n",
    "        elif neg_keywords:\n",
    "            if any(word in sentence.lower() for word in neg_keywords): \n",
    "                ner_data.append(tags)\n",
    "                cnt_neg += 1\n",
    "        else:\n",
    "            ner_data.append(tags)\n",
    "            cnt_neg += 1\n",
    "            \n",
    "    return cnt_pos, cnt_neg, ner_data"
   ]
  },
  {
   "cell_type": "code",
   "execution_count": null,
   "id": "quick-boost",
   "metadata": {
    "tags": []
   },
   "outputs": [
    {
     "name": "stdout",
     "output_type": "stream",
     "text": [
      "9 1\n",
      "[303, 512, 512, 49, 101, 512, 512, 512, 512, 259]\n",
      "[('that', 0), ('they', 0), ('never', 0), ('disclosed', 0), ('amyloid', 0), ('imaging', 0), ('results', 0), ('to', 0), ('participants', 0), ('with', 0), ('normal', 0), ('cognition', 0), ('Most', 0), ('respondents', 0), ('127', 0), ('139', 0), ('91', 0), ('answered', 0), ('that', 0), ('they', 0), ('did', 0), ('not', 0), ('use', 0), ('ADNI', 2), ('results', 0), ('to', 0), ('inform', 0), ('a', 0), ('participant', 0), ('who', 0), ('has', 0), ('MCI', 0), ('whether', 0), ('he', 0), ('or', 0), ('she', 0), ('is', 0), ('at', 0), ('increased', 0), ('or', 0), ('decreased', 0), ('risk', 0), ('of', 0), ('developing', 0), ('AD', 0), ('dementia', 0), ('The', 0), ('respondents', 0), ('who', 0), ('did', 0), ('use', 0), ('results', 0), ('12', 0), ('139', 0), ('9', 0), ('typically', 0), ('used', 0), ('neuropsychometrics', 0), ('and', 0), ('brain', 0), ('MRI', 0), ('but', 0), ('a', 0), ('few', 0), ('reported', 0), ('using', 0), ('PET', 0), ('amyloid', 0), ('imaging', 0), ('FDG', 0), ('PET', 0), ('and', 0), ('CSF', 0), ('amyloid', 0), ('and', 0), ('tau', 0), ('Similarly', 0), ('most', 0), ('respondents', 0), ('132', 0), ('138', 0), ('96', 0), ('reported', 0), ('that', 0), ('they', 0), ('did', 0), ('not', 0), ('use', 0), ('ADNI', 2), ('results', 0), ('to', 0), ('inform', 0), ('a', 0), ('participant', 0), ('with', 0), ('normal', 0), ('cognition', 0), ('whether', 0), ('he', 0), ('or', 0), ('she', 0), ('is', 0), ('at', 0), ('increased', 0), ('or', 0), ('decreased', 0), ('risk', 0), ('of', 0), ('developing', 0), ('AD', 0), ('dementia', 0), ('The', 0), ('6', 0), ('who', 0), ('did', 0), ('inform', 0), ('participants', 0), ('of', 0), ('risk', 0), ('used', 0), ('neuropsychometrics', 0), ('and', 0), ('brain', 0), ('MRI', 0), ('and', 0), ('occasionally', 0), ('PET', 0), ('amyloid', 0), ('imaging', 0), ('as', 0), ('well', 0), ('as', 0), ('CSF', 0), ('amyloid', 0), ('and', 0), ('tau', 0), ('Attitudes', 0), ('about', 0), ('returning', 0), ('amyloid', 0), ('imaging', 0), ('results', 0), ('The', 0), ('survey', 0), ('was', 0), ('distributed', 0), ('2', 0), ('weeks', 0), ('before', 0), ('the', 0), ('FDA', 0), ('approved', 0), ('florbetapir', 0), ('for', 0), ('amyloid', 0), ('imaging', 0), ('All', 0), ('159', 0), ('respondents', 0), ('were', 0), ('asked', 0), ('to', 0), ('assume', 0), ('FDA', 0), ('approval', 0), ('and', 0), ('indicate', 0), ('whether', 0), ('they', 0), ('would', 0), ('support', 0), ('a', 0), ('policy', 0), ('that', 0), ('allows', 0), ('them', 0), ('to', 0), ('tell', 0), ('ADNI', 2), ('participants', 0), ('with', 0), ('normal', 0), ('cognition', 0), ('and', 0), ('MCI', 0), ('their', 0), ('amyloid', 0), ('imaging', 0), ('results', 0), ('Table', 0), ('3', 0), ('shows', 0), ('that', 0), ('a', 0), ('majority', 0), ('of', 0), ('respondents', 0), ('116', 0), ('159', 0), ('73', 0), ('supported', 0), ('disclosing', 0), ('amyloid', 0), ('imaging', 0), ('results', 0), ('to', 0), ('participants', 0), ('with', 0), ('MCI', 0), ('A', 0), ('majority', 0), ('93', 0), ('159', 0), ('58', 0), ('also', 0), ('supported', 0), ('disclosing', 0), ('results', 0), ('to', 0), ('participants', 0), ('with', 0), ('normal', 0), ('cognition', 0), ('Respondents', 0), ('were', 0), ('more', 0), ('likely', 0), ('to', 0), ('favor', 0), ('disclosing', 0), ('results', 0), ('to', 0), ('participants', 0), ('with', 0), ('MCI', 0), ('than', 0), ('to', 0), ('those', 0), ('with', 0), ('normal', 0), ('cognition', 0), ('McNemar', 0), ('exact', 0), ('test', 0), ('p', 0), ('0', 0), ('001', 0), ('Respondents', 0), ('who', 0), ('were', 0), ('Table', 0), ('1', 0), ('Respondents', 0), ('educational', 0), ('and', 0), ('medical', 0), ('specialty', 0), ('characteristics', 0), ('and', 0), ('the', 0), ('numbers', 0), ('of', 0), ('persons', 0), ('surveyed', 0), ('by', 0), ('their', 0), ('defined', 0), ('ADNI', 2), ('role', 0), ('and', 0), ('their', 0), ('response', 0), ('rate', 0), ('physicians', 0), ('and', 0), ('reported', 0), ('direct', 0), ('contact', 0), ('with', 0), ('ADNI', 2), ('participants', 0), ('n', 0), ('5', 0), ('62', 0), ('showed', 0), ('similar', 0), ('patterns', 0), ('of', 0), ('support', 0), ('for', 0), ('amyloid', 0), ('imaging', 0), ('disclosure', 0), ('and', 0), ('they', 0), ('were', 0), ('more', 0), ('likely', 0), ('to', 0), ('favor', 0), ('disclosing', 0), ('to', 0), ('participants', 0), ('with', 0), ('MCI', 0), ('than', 0), ('to', 0), ('those', 0), ('with', 0), ('normal', 0), ('cognition', 0), ('McNemar', 0), ('exact', 0), ('test', 0), ('p', 0), ('0', 0), ('001', 0), ('Respondents', 0), ('explanations', 0), ('for', 0), ('attitudes', 0), ('about', 0), ('disclosing', 0), ('amyloid', 0), ('imaging', 0), ('results', 0), ('Overall', 0), ('92', 0), ('of', 0), ('159', 0), ('respondents', 0), ('provided', 0), ('free', 0), ('text', 0), ('answers', 0), ('to', 0), ('at', 0), ('least', 0), ('1', 0), ('of', 0), ('the', 0), ('3', 0), ('questions', 0), ('explaining', 0), ('their', 0), ('support', 0), ('or', 0), ('nonsupport', 0), ('of', 0), ('a', 0), ('policy', 0), ('telling', 0), ('ADNI', 2), ('participants', 0), ('with', 0), ('MCI', 0), ('and', 0), ('normal', 0), ('cognition', 0), ('their', 0), ('amyloid', 0), ('imaging', 0), ('results', 0), ('There', 0), ('was', 0), ('a', 0), ('trend', 0), ('that', 0), ('respondents', 0), ('who', 0), ('favored', 0), ('a', 0), ('policy', 0), ('of', 0), ('disclosure', 0), ('were', 0), ('more', 0), ('likely', 0), ('than', 0), ('those', 0), ('who', 0), ('did', 0), ('not', 0), ('to', 0), ('provide', 0), ('open', 0), ('ended', 0), ('answers', 0), ('Pearson', 0), ('x', 0), ('2', 0), ('5', 0), ('3', 0), ('2', 0), ('p', 0), ('5', 0), ('0', 0), ('08', 0), ('Table', 0), ('4', 0), ('shows', 0), ('the', 0), ('6', 0), ('major', 0), ('themes', 0), ('regarding', 0), ('disclosure', 0), ('of', 0), ('amyloid', 0), ('imaging', 0), ('results', 0), ('A', 0), ('notable', 0), ('finding', 0), ('was', 0), ('that', 0), ('respondents', 0), ('who', 0), ('endorsed', 0), ('disclosure', 0), ('often', 0), ('expressed', 0), ('themes', 0), ('that', 0), ('qualified', 0), ('this', 0), ('endorsement', 0), ('such', 0), ('as', 0), ('the', 0), ('need', 0), ('for', 0), ('developing', 0), ('standardized', 0), ('disclosure', 0), ('procedures', 0), ('and', 0), ('ADNI', 2), ('endorsed', 0), ('participant', 0), ('education', 0), ('materials', 0), ('to', 0), ('disclose', 0), ('the', 0), ('result', 0), ('and', 0), ('that', 0), ('the', 0), ('disclosure', 0), ('procedure', 0), ('should', 0), ('be', 0), ('rigorously', 0), ('studied', 0), ('with', 0), ('longitudinal', 0), ('outcomes', 0), ('to', 0), ('assess', 0), ('the', 0), ('effects', 0), ('of', 0), ('the', 0), ('information', 0), ('on', 0), ('a', 0), ('participant', 0), ('s', 0), ('well', 0), ('being', 0), ('Respondents', 0), ('commented', 0), ('on', 0), ('both', 0), ('the', 0), ('potential', 0), ('risks', 0), ('of', 0), ('disclosure', 0), ('anxiety', 0), ('fear', 0), ('possible', 0), ('impact', 0), ('on', 0), ('acquiring', 0), ('long', 0), ('term', 0), ('health', 0), ('insurance', 0), ('as', 0), ('well', 0), ('as', 0), ('potential', 0), ('benefits', 0), ('implement', 0), ('lifestyle', 0), ('changes', 0), ('planning', 0), ('for', 0), ('the', 0), ('future', 0), ('eligibility', 0), ('for', 0), ('intervention', 0), ('trials', 0), ('Finally', 0), ('respondents', 0), ('questioned', 0), ('the', 0), ('validity', 0), ('of', 0)]\n"
     ]
    }
   ],
   "source": [
    "df = load_train_meta('/kaggle/input/coleridgeinitiative-show-us-the-data/train.csv', group_id=True).iloc[230:240]\n",
    "papers = load_papers('/kaggle/input/coleridgeinitiative-show-us-the-data/train/', df.Id)\n",
    "classlabel = get_ner_classlabel()\n",
    "\n",
    "idx = 8\n",
    "paper = papers[df.Id.iloc[idx]]\n",
    "labels = df.dataset_label.iloc[idx].split('|')\n",
    "cnt_pos, cnt_neg, ner_data = get_paper_ner_data(paper, labels, classlabel=classlabel,\n",
    "                                                sentence_definition='section', max_length=512, overlap=20,\n",
    "                                                neg_keywords=None)\n",
    "print(cnt_pos, cnt_neg)\n",
    "print([len(sec) for sec in ner_data])\n",
    "print(ner_data[-2])"
   ]
  },
  {
   "cell_type": "code",
   "execution_count": null,
   "id": "defined-nevada",
   "metadata": {
    "tags": []
   },
   "outputs": [],
   "source": [
    "#export\n",
    "def get_ner_data(papers, df=None, classlabel=None, shuffle=True, \n",
    "                 sentence_definition='sentence', max_length=64, overlap=20, \n",
    "                 neg_keywords=['study', 'data']):\n",
    "    '''\n",
    "    Get NER data for a list of papers.\n",
    "    \n",
    "    Args:\n",
    "        papers (dict): Like that returned by `load_papers`.\n",
    "        df (pd.DataFrame): Competition's train.csv or a subset of it.\n",
    "    Returns:\n",
    "        cnt_pos (int): Number of samples (or 'sentences') that are tagged or partly\n",
    "            tagged as datasets.\n",
    "        cnt_neg (int): Number of samples (or 'sentences') that are not tagged\n",
    "            or partly tagged as datasets.\n",
    "        ner_data (list): List of samples, or 'sentences'. Each element is of the form:\n",
    "            [('There', 0), ('has', 0), ('been', 0), ...]\n",
    "    '''\n",
    "    cnt_pos, cnt_neg = 0, 0 \n",
    "    ner_data = []\n",
    "\n",
    "    tqdm._instances.clear()\n",
    "    pbar = tqdm(total=len(df))\n",
    "    for i, id, dataset_label in df[['Id', 'dataset_label']].itertuples():\n",
    "        paper = papers[id]\n",
    "        labels = dataset_label.split('|')\n",
    "                \n",
    "        cnt_pos_, cnt_neg_, ner_data_ = get_paper_ner_data(\n",
    "            paper, labels, classlabel=classlabel, \n",
    "            sentence_definition=sentence_definition, max_length=max_length, overlap=overlap, \n",
    "            neg_keywords=neg_keywords)\n",
    "        cnt_pos += cnt_pos_\n",
    "        cnt_neg += cnt_neg_\n",
    "        ner_data.extend(ner_data_)\n",
    "\n",
    "        pbar.update(1)\n",
    "        pbar.set_description(f\"Training data size: {cnt_pos} positives + {cnt_neg} negatives\")\n",
    "\n",
    "    if shuffle:\n",
    "        random.shuffle(ner_data)\n",
    "    return cnt_pos, cnt_neg, ner_data"
   ]
  },
  {
   "cell_type": "code",
   "execution_count": null,
   "id": "supported-harmony",
   "metadata": {
    "tags": []
   },
   "outputs": [
    {
     "name": "stderr",
     "output_type": "stream",
     "text": [
      "Training data size: 29 positives + 1600 negatives: 100%|██████████| 10/10 [00:00<00:00, 111.18it/s]"
     ]
    },
    {
     "name": "stdout",
     "output_type": "stream",
     "text": [
      "Postive count: 29.   Negative count: 1600\n",
      "[('Similarly', 0), ('in', 0), ('the', 0), ('case', 0), ('of', 0), ('highest', 0), ('level', 0), ('of', 0), ('education', 0), ('expected', 0), ('there', 0), ('was', 0), ('some', 0), ('evidence', 0), ('for', 0), ('a', 0), ('gender', 0), ('effect', 0), ('p', 0)]\n",
      "CPU times: user 141 ms, sys: 10.9 ms, total: 152 ms\n",
      "Wall time: 209 ms\n"
     ]
    }
   ],
   "source": [
    "%%time\n",
    "df = pd.read_csv('/kaggle/input/coleridgeinitiative-show-us-the-data/train.csv').iloc[:10]\n",
    "papers = load_papers('/kaggle/input/coleridgeinitiative-show-us-the-data/train/', df.Id)\n",
    "classlabel = get_ner_classlabel()\n",
    "cnt_pos, cnt_neg, ner_data = get_ner_data(papers, df, classlabel=classlabel, shuffle=False,\n",
    "                                          sentence_definition='sentence', max_length=64, overlap=20, \n",
    "                                          neg_keywords=None)\n",
    "print(f'Postive count: {cnt_pos}.   Negative count: {cnt_neg}')\n",
    "print(ner_data[250])"
   ]
  },
  {
   "cell_type": "code",
   "execution_count": null,
   "id": "greater-impression",
   "metadata": {
    "tags": []
   },
   "outputs": [],
   "source": [
    "#export\n",
    "def write_ner_json(ner_data, pth=Path('train_ner.json'), mode='w'):\n",
    "    '''\n",
    "    Save NER data to json file.\n",
    "    '''\n",
    "    with open(pth, mode=mode) as f:\n",
    "        for row in ner_data:\n",
    "            words, nes = list(zip(*row))\n",
    "            row_json = {'tokens' : words, 'ner_tags' : nes}\n",
    "            json.dump(row_json, f)\n",
    "            f.write('\\n')    "
   ]
  },
  {
   "cell_type": "code",
   "execution_count": null,
   "id": "retained-bangladesh",
   "metadata": {
    "tags": []
   },
   "outputs": [
    {
     "name": "stdout",
     "output_type": "stream",
     "text": [
      "{\"tokens\": [\"There\", \"is\", \"no\", \"dataset\", \"here\"], \"ner_tags\": [0, 0, 0, 0, 0]}\r\n",
      "{\"tokens\": [\"Load\", \"the\", \"UN\", \"Trade\", \"Development\", \"into\", \"view\"], \"ner_tags\": [0, 0, 2, 1, 1, 0, 0]}\r\n"
     ]
    }
   ],
   "source": [
    "ner_data = [\n",
    "    [('There', 0), ('is', 0), ('no', 0), ('dataset', 0), ('here', 0)], \n",
    "    [('Load', 0), ('the', 0), ('UN', 2), ('Trade', 1), ('Development', 1), ('into', 0), ('view', 0)]\n",
    "]\n",
    "write_ner_json(ner_data, pth=Path('/kaggle/tmp_ner.json'))\n",
    "! cat /kaggle/tmp_ner.json"
   ]
  },
  {
   "cell_type": "code",
   "execution_count": null,
   "id": "played-orchestra",
   "metadata": {
    "tags": []
   },
   "outputs": [],
   "source": [
    "#export\n",
    "def load_ner_datasets(data_files=None):\n",
    "    '''\n",
    "    Load NER data in json files to a `datasets` object.  In addition,\n",
    "    Append the NER ClassLabel for the `ner_tags` feature.\n",
    "    '''\n",
    "    datasets = load_dataset('json', data_files=data_files)\n",
    "    classlabel = get_ner_classlabel()\n",
    "    for split, dataset in datasets.items():\n",
    "        dataset.features['ner_tags'].feature = classlabel\n",
    "    return datasets"
   ]
  },
  {
   "cell_type": "code",
   "execution_count": null,
   "id": "negative-dynamics",
   "metadata": {
    "tags": []
   },
   "outputs": [
    {
     "name": "stdout",
     "output_type": "stream",
     "text": [
      "Downloading and preparing dataset json/default (download: Unknown size, generated: Unknown size, post-processed: Unknown size, total: Unknown size) to /root/.cache/huggingface/datasets/json/default-d5678b8aeec1020f/0.0.0/83d5b3a2f62630efc6b5315f00f20209b4ad91a00ac586597caee3a4da0bef02...\n"
     ]
    },
    {
     "data": {
      "application/vnd.jupyter.widget-view+json": {
       "model_id": "ef3a16f2b9164df588a8301ddcb0b13d",
       "version_major": 2,
       "version_minor": 0
      },
      "text/plain": [
       "HBox(children=(FloatProgress(value=1.0, bar_style='info', layout=Layout(width='20px'), max=1.0), HTML(value=''…"
      ]
     },
     "metadata": {},
     "output_type": "display_data"
    },
    {
     "data": {
      "application/vnd.jupyter.widget-view+json": {
       "model_id": "68496b72aaf845d1874532d468284a76",
       "version_major": 2,
       "version_minor": 0
      },
      "text/plain": [
       "HBox(children=(FloatProgress(value=1.0, bar_style='info', layout=Layout(width='20px'), max=1.0), HTML(value=''…"
      ]
     },
     "metadata": {},
     "output_type": "display_data"
    },
    {
     "name": "stdout",
     "output_type": "stream",
     "text": [
      "Dataset json downloaded and prepared to /root/.cache/huggingface/datasets/json/default-d5678b8aeec1020f/0.0.0/83d5b3a2f62630efc6b5315f00f20209b4ad91a00ac586597caee3a4da0bef02. Subsequent calls will reuse this data.\n",
      "\n",
      "{'tokens': Sequence(feature=Value(dtype='string', id=None), length=-1, id=None), 'ner_tags': Sequence(feature=ClassLabel(num_classes=3, names=['O', 'I', 'B'], names_file=None, id=None), length=-1, id=None)}\n",
      "{'tokens': ['Load', 'the', 'UN', 'Trade', 'Development', 'into', 'view'], 'ner_tags': [0, 0, 2, 1, 1, 0, 0]}\n"
     ]
    }
   ],
   "source": [
    "datasets = load_ner_datasets(data_files={'train':'/kaggle/tmp_ner.json', 'valid':'/kaggle/tmp_ner.json'})\n",
    "print()\n",
    "print(datasets['valid'].features)\n",
    "print(datasets['train'][1])"
   ]
  },
  {
   "cell_type": "code",
   "execution_count": null,
   "id": "noted-deployment",
   "metadata": {
    "tags": []
   },
   "outputs": [],
   "source": [
    "#export\n",
    "\n",
    "def batched_write_ner_json(papers, df, pth=Path('train_ner.json'), batch_size=4_000, \n",
    "                           classlabel=get_ner_classlabel(), \n",
    "                           sentence_definition='sentence', max_length=64, overlap=20, \n",
    "                           neg_keywords=['study', 'data']):\n",
    "\n",
    "    for i in range(0, len(df), batch_size):\n",
    "        print(f'Batch {i // batch_size}...', end='')\n",
    "        t0 = time.time()\n",
    "        cnt_pos, cnt_neg, ner_data = get_ner_data(papers, df.iloc[i:i+batch_size], \n",
    "                                                  classlabel=classlabel, \n",
    "                                                  sentence_definition=sentence_definition, \n",
    "                                                  max_length=max_length, overlap=overlap, \n",
    "                                                  neg_keywords=neg_keywords)\n",
    "        write_ner_json(ner_data, pth=pth, mode='w' if i == 0 else 'a')\n",
    "        print(f'done in {(time.time() - t0) / 60} mins.')"
   ]
  },
  {
   "cell_type": "code",
   "execution_count": null,
   "id": "seventh-operations",
   "metadata": {
    "tags": []
   },
   "outputs": [
    {
     "name": "stderr",
     "output_type": "stream",
     "text": [
      "Training data size: 47 positives + 431 negatives:   0%|          | 20/4000 [00:00<00:40, 98.48it/s]"
     ]
    },
    {
     "name": "stdout",
     "output_type": "stream",
     "text": [
      "Batch 0..."
     ]
    },
    {
     "name": "stderr",
     "output_type": "stream",
     "text": [
      "Training data size: 29 positives + 1600 negatives: 100%|██████████| 10/10 [01:21<00:00,  8.11s/it] \n",
      "Training data size: 9482 positives + 110802 negatives: 100%|██████████| 4000/4000 [01:11<00:00, 55.79it/s] \n",
      "Training data size: 50 positives + 662 negatives:   1%|          | 28/4000 [00:00<00:28, 138.47it/s]"
     ]
    },
    {
     "name": "stdout",
     "output_type": "stream",
     "text": [
      "done in 1.4882367173830668 mins.\n",
      "Batch 1..."
     ]
    },
    {
     "name": "stderr",
     "output_type": "stream",
     "text": [
      "Training data size: 9222 positives + 115110 negatives: 100%|██████████| 4000/4000 [01:23<00:00, 47.86it/s]\n",
      "Training data size: 30 positives + 451 negatives:   1%|          | 21/4000 [00:00<00:36, 108.49it/s]"
     ]
    },
    {
     "name": "stdout",
     "output_type": "stream",
     "text": [
      "done in 1.7469581246376038 mins.\n",
      "Batch 2..."
     ]
    },
    {
     "name": "stderr",
     "output_type": "stream",
     "text": [
      "Training data size: 9010 positives + 113706 negatives: 100%|██████████| 4000/4000 [00:51<00:00, 78.28it/s]\n",
      "Training data size: 43 positives + 427 negatives:   1%|          | 19/2316 [00:00<00:25, 91.83it/s]"
     ]
    },
    {
     "name": "stdout",
     "output_type": "stream",
     "text": [
      "done in 1.6223901589711507 mins.\n",
      "Batch 3..."
     ]
    },
    {
     "name": "stderr",
     "output_type": "stream",
     "text": [
      "Training data size: 5235 positives + 62964 negatives: 100%|██████████| 2316/2316 [00:54<00:00, 42.40it/s]\n"
     ]
    },
    {
     "name": "stdout",
     "output_type": "stream",
     "text": [
      "done in 0.9722427725791931 mins.\n"
     ]
    }
   ],
   "source": [
    "batch_size = 4_000\n",
    "df = load_train_meta('/kaggle/input/coleridgeinitiative-show-us-the-data/train.csv', group_id=True)\n",
    "papers = load_papers('/kaggle/input/coleridgeinitiative-show-us-the-data/train/', df.Id)\n",
    "\n",
    "batched_write_ner_json(papers, df, pth=Path('train_ner.json'), batch_size=batch_size, \n",
    "                       classlabel=get_ner_classlabel(),\n",
    "                       sentence_definition='section', max_length=360, overlap=20, neg_keywords=None)"
   ]
  },
  {
   "cell_type": "code",
   "execution_count": null,
   "id": "higher-orbit",
   "metadata": {
    "tags": []
   },
   "outputs": [
    {
     "name": "stdout",
     "output_type": "stream",
     "text": [
      "1.3G\ttrain_ner.json\r\n"
     ]
    }
   ],
   "source": [
    "! du -hs train_ner.json"
   ]
  },
  {
   "cell_type": "code",
   "execution_count": null,
   "id": "realistic-values",
   "metadata": {
    "tags": []
   },
   "outputs": [
    {
     "name": "stdout",
     "output_type": "stream",
     "text": [
      "Downloading and preparing dataset json/default (download: Unknown size, generated: Unknown size, post-processed: Unknown size, total: Unknown size) to /root/.cache/huggingface/datasets/json/default-a2da9ab4288dc3b4/0.0.0/83d5b3a2f62630efc6b5315f00f20209b4ad91a00ac586597caee3a4da0bef02...\n"
     ]
    },
    {
     "data": {
      "application/vnd.jupyter.widget-view+json": {
       "model_id": "b3557dc7b9eb432da199fbeacd76f130",
       "version_major": 2,
       "version_minor": 0
      },
      "text/plain": [
       "HBox(children=(FloatProgress(value=1.0, bar_style='info', layout=Layout(width='20px'), max=1.0), HTML(value=''…"
      ]
     },
     "metadata": {},
     "output_type": "display_data"
    },
    {
     "name": "stdout",
     "output_type": "stream",
     "text": [
      "Dataset json downloaded and prepared to /root/.cache/huggingface/datasets/json/default-a2da9ab4288dc3b4/0.0.0/83d5b3a2f62630efc6b5315f00f20209b4ad91a00ac586597caee3a4da0bef02. Subsequent calls will reuse this data.\n"
     ]
    }
   ],
   "source": [
    "datasets = load_ner_datasets(data_files={'train':'train_ner.json'})"
   ]
  },
  {
   "cell_type": "code",
   "execution_count": null,
   "id": "republican-aberdeen",
   "metadata": {
    "tags": []
   },
   "outputs": [],
   "source": [
    "#export\n",
    "def create_tokenizer(model_checkpoint='distilbert-base-cased'):\n",
    "    tokenizer = AutoTokenizer.from_pretrained(model_checkpoint)\n",
    "    assert isinstance(tokenizer, transformers.PreTrainedTokenizerFast)\n",
    "    return tokenizer"
   ]
  },
  {
   "cell_type": "code",
   "execution_count": null,
   "id": "electoral-company",
   "metadata": {
    "tags": []
   },
   "outputs": [
    {
     "data": {
      "application/vnd.jupyter.widget-view+json": {
       "model_id": "341383c81020434b91fcbc01b0332ecd",
       "version_major": 2,
       "version_minor": 0
      },
      "text/plain": [
       "HBox(children=(FloatProgress(value=0.0, description='Downloading', max=411.0, style=ProgressStyle(description_…"
      ]
     },
     "metadata": {},
     "output_type": "display_data"
    },
    {
     "name": "stdout",
     "output_type": "stream",
     "text": [
      "\n"
     ]
    },
    {
     "data": {
      "application/vnd.jupyter.widget-view+json": {
       "model_id": "c8904898ab8042babf2b2a7397885cd0",
       "version_major": 2,
       "version_minor": 0
      },
      "text/plain": [
       "HBox(children=(FloatProgress(value=0.0, description='Downloading', max=213450.0, style=ProgressStyle(descripti…"
      ]
     },
     "metadata": {},
     "output_type": "display_data"
    },
    {
     "name": "stdout",
     "output_type": "stream",
     "text": [
      "\n"
     ]
    },
    {
     "data": {
      "application/vnd.jupyter.widget-view+json": {
       "model_id": "4ed17b52487541be9583f9292cf71455",
       "version_major": 2,
       "version_minor": 0
      },
      "text/plain": [
       "HBox(children=(FloatProgress(value=0.0, description='Downloading', max=435797.0, style=ProgressStyle(descripti…"
      ]
     },
     "metadata": {},
     "output_type": "display_data"
    },
    {
     "name": "stdout",
     "output_type": "stream",
     "text": [
      "\n"
     ]
    },
    {
     "data": {
      "application/vnd.jupyter.widget-view+json": {
       "model_id": "1f2d087db77a43a2885f3d1400b6fec0",
       "version_major": 2,
       "version_minor": 0
      },
      "text/plain": [
       "HBox(children=(FloatProgress(value=0.0, description='Downloading', max=29.0, style=ProgressStyle(description_w…"
      ]
     },
     "metadata": {},
     "output_type": "display_data"
    },
    {
     "name": "stdout",
     "output_type": "stream",
     "text": [
      "\n",
      "{'input_ids': [101, 138, 188, 21943, 9930, 1104, 1234, 9026, 1121, 1103, 2286, 6194, 3499, 1113, 6356, 119, 102], 'attention_mask': [1, 1, 1, 1, 1, 1, 1, 1, 1, 1, 1, 1, 1, 1, 1, 1, 1]}\n",
      "\n",
      "{'input_ids': [101, 144, 6512, 9436, 24372, 1317, 185, 12937, 2042, 15520, 1114, 8626, 2330, 1447, 102], 'attention_mask': [1, 1, 1, 1, 1, 1, 1, 1, 1, 1, 1, 1, 1, 1, 1]}\n"
     ]
    }
   ],
   "source": [
    "tokenizer = create_tokenizer(model_checkpoint='distilbert-base-cased')\n",
    "print(\n",
    "    tokenizer(\"A smattering of people descended from the midday boat on Monday.\"))\n",
    "print()\n",
    "print(\n",
    "    tokenizer(\"Giglio boasts several pristine bays with crystal clear water\".split(), is_split_into_words=True)\n",
    ")"
   ]
  },
  {
   "cell_type": "code",
   "execution_count": null,
   "id": "military-credit",
   "metadata": {
    "tags": []
   },
   "outputs": [
    {
     "name": "stdout",
     "output_type": "stream",
     "text": [
      "['A', 'smattering', 'of', 'people', 'descended', 'from', 'the', 'midday', 'boat', 'on', 'Monday.']\n",
      "[None, 0, 1, 1, 1, 2, 3, 4, 5, 6, 7, 7, 8, 9, 10, 10, None]\n",
      "['[CLS]', 'A', 's', '##mat', '##tering', 'of', 'people', 'descended', 'from', 'the', 'mid', '##day', 'boat', 'on', 'Monday', '.', '[SEP]']\n"
     ]
    }
   ],
   "source": [
    "sentence = \"A smattering of people descended from the midday boat on Monday.\".split()\n",
    "tokenized_sentence = tokenizer(sentence, is_split_into_words=True)\n",
    "\n",
    "print(sentence)\n",
    "print(tokenized_sentence.word_ids())\n",
    "print(tokenizer.convert_ids_to_tokens(tokenized_sentence['input_ids']))"
   ]
  },
  {
   "cell_type": "code",
   "execution_count": null,
   "id": "usual-outside",
   "metadata": {
    "tags": []
   },
   "outputs": [
    {
     "name": "stderr",
     "output_type": "stream",
     "text": [
      "Training data size: 209 positives + 3043 negatives: 100%|██████████| 100/100 [00:00<00:00, 115.05it/s]"
     ]
    },
    {
     "name": "stdout",
     "output_type": "stream",
     "text": [
      "Downloading and preparing dataset json/default (download: Unknown size, generated: Unknown size, post-processed: Unknown size, total: Unknown size) to /root/.cache/huggingface/datasets/json/default-d0563858a8217724/0.0.0/83d5b3a2f62630efc6b5315f00f20209b4ad91a00ac586597caee3a4da0bef02...\n"
     ]
    },
    {
     "data": {
      "application/vnd.jupyter.widget-view+json": {
       "model_id": "40c6ea128bd1455c83b738916715d152",
       "version_major": 2,
       "version_minor": 0
      },
      "text/plain": [
       "HBox(children=(FloatProgress(value=1.0, bar_style='info', layout=Layout(width='20px'), max=1.0), HTML(value=''…"
      ]
     },
     "metadata": {},
     "output_type": "display_data"
    },
    {
     "name": "stdout",
     "output_type": "stream",
     "text": [
      "Dataset json downloaded and prepared to /root/.cache/huggingface/datasets/json/default-d0563858a8217724/0.0.0/83d5b3a2f62630efc6b5315f00f20209b4ad91a00ac586597caee3a4da0bef02. Subsequent calls will reuse this data.\n"
     ]
    },
    {
     "name": "stderr",
     "output_type": "stream",
     "text": [
      "Token indices sequence length is longer than the specified maximum sequence length for this model (555 > 512). Running this sequence through the model will result in indexing errors\n"
     ]
    },
    {
     "data": {
      "text/plain": [
       "<matplotlib.legend.Legend at 0x7f16643efa90>"
      ]
     },
     "execution_count": null,
     "metadata": {},
     "output_type": "execute_result"
    },
    {
     "data": {
      "image/png": "[encoded data removed]",
      "text/plain": [
       "<Figure size 720x432 with 1 Axes>"
      ]
     },
     "metadata": {
      "needs_background": "light"
     },
     "output_type": "display_data"
    }
   ],
   "source": [
    "# Find a suitable original sample length, given a max model input length of 512\n",
    "\n",
    "max_input_length = 512\n",
    "max_length, overlap = 360, 20\n",
    "\n",
    "df = load_train_meta('/kaggle/input/coleridgeinitiative-show-us-the-data/train.csv', group_id=True)\n",
    "df = df.sample(100).reset_index(drop=True)\n",
    "papers = load_papers('/kaggle/input/coleridgeinitiative-show-us-the-data/train', df.Id)\n",
    "classlabel = get_ner_classlabel()\n",
    "cnt_pos, cnt_neg, ner_data = get_ner_data(papers, df, classlabel=classlabel, \n",
    "                                          sentence_definition='section', max_length=max_length, overlap=overlap, \n",
    "                                          neg_keywords=None)\n",
    "write_ner_json(ner_data, pth='train_ner.json')\n",
    "\n",
    "datasets = load_ner_datasets(data_files={'train':'train_ner.json'})\n",
    "\n",
    "tokenizer = create_tokenizer(model_checkpoint='distilbert-base-cased')\n",
    "\n",
    "tokenized_input = tokenizer(datasets['train']['tokens'], truncation=False, is_split_into_words=True)\n",
    "\n",
    "original_sample_lengths = np.array([len(tokens) for tokens in datasets['train']['tokens']])\n",
    "tokenized_sample_lengths = np.array([len(input_ids) for input_ids in tokenized_input['input_ids']])\n",
    "\n",
    "fig, ax = plt.subplots(figsize=(10, 6))\n",
    "ax.plot(original_sample_lengths, label='original lengths', linestyle='none', marker='o')\n",
    "ax.plot(tokenized_sample_lengths, label='tokenized lengths', linestyle='none', marker='x')\n",
    "ax.hlines(y=max_input_length, xmin=0, xmax=len(original_sample_lengths), color='red')\n",
    "ax.set_ylabel('length')\n",
    "ax.set_xlabel('sample index')\n",
    "ax.set_title('section lengths')\n",
    "ax.legend()"
   ]
  },
  {
   "cell_type": "code",
   "execution_count": null,
   "id": "interior-copper",
   "metadata": {
    "tags": []
   },
   "outputs": [],
   "source": [
    "#export\n",
    "def tokenize_and_align_labels(examples, tokenizer=None, label_all_tokens=True):\n",
    "    '''\n",
    "    Adds a new field called 'labels' that are the NER tags to the tokenized input.\n",
    "    \n",
    "    Args:\n",
    "        tokenizer (transformers.AutoTokenizer): Tokenizer.\n",
    "        examples (datasets.arrow_dataset.Dataset): Dataset.\n",
    "        label_all_tokens (bool): If True, all sub-tokens are given the same tag as the \n",
    "            first sub-token, otherwise all but the first sub-token are given the tag\n",
    "            -100.\n",
    "    '''\n",
    "    tokenized_inputs = tokenizer(examples[\"tokens\"], truncation=True, is_split_into_words=True)\n",
    "    labels = []\n",
    "    word_ids_all = []\n",
    "    for i, label in enumerate(examples[\"ner_tags\"]):\n",
    "        word_ids = tokenized_inputs.word_ids(batch_index=i)\n",
    "        previous_word_idx = None\n",
    "        label_ids = []\n",
    "        for word_idx in word_ids:\n",
    "            if word_idx is None:\n",
    "                label_ids.append(-100)\n",
    "            elif word_idx != previous_word_idx:\n",
    "                label_ids.append(label[word_idx])\n",
    "            else:\n",
    "                label_ids.append(label[word_idx] if label_all_tokens else -100)\n",
    "            previous_word_idx = word_idx\n",
    "\n",
    "        labels.append(label_ids)\n",
    "        word_ids_all.append(word_ids)\n",
    "\n",
    "    tokenized_inputs[\"labels\"] = labels\n",
    "    tokenized_inputs['word_ids'] = word_ids_all\n",
    "    return tokenized_inputs"
   ]
  },
  {
   "cell_type": "code",
   "execution_count": null,
   "id": "legislative-wrestling",
   "metadata": {
    "tags": []
   },
   "outputs": [
    {
     "data": {
      "application/vnd.jupyter.widget-view+json": {
       "model_id": "b2d48c6a40fe444292ce31b86ccb165d",
       "version_major": 2,
       "version_minor": 0
      },
      "text/plain": [
       "HBox(children=(FloatProgress(value=0.0, description='Downloading', max=570.0, style=ProgressStyle(description_…"
      ]
     },
     "metadata": {},
     "output_type": "display_data"
    },
    {
     "name": "stdout",
     "output_type": "stream",
     "text": [
      "\n"
     ]
    },
    {
     "data": {
      "application/vnd.jupyter.widget-view+json": {
       "model_id": "08a1e1adfd2e406f8f4238a3e2bdf4df",
       "version_major": 2,
       "version_minor": 0
      },
      "text/plain": [
       "HBox(children=(FloatProgress(value=0.0, description='Downloading', max=213450.0, style=ProgressStyle(descripti…"
      ]
     },
     "metadata": {},
     "output_type": "display_data"
    },
    {
     "name": "stdout",
     "output_type": "stream",
     "text": [
      "\n"
     ]
    },
    {
     "data": {
      "application/vnd.jupyter.widget-view+json": {
       "model_id": "837b577999194ddba91d087c49426a07",
       "version_major": 2,
       "version_minor": 0
      },
      "text/plain": [
       "HBox(children=(FloatProgress(value=0.0, description='Downloading', max=435797.0, style=ProgressStyle(descripti…"
      ]
     },
     "metadata": {},
     "output_type": "display_data"
    },
    {
     "name": "stdout",
     "output_type": "stream",
     "text": [
      "\n"
     ]
    },
    {
     "data": {
      "application/vnd.jupyter.widget-view+json": {
       "model_id": "17be70ece2ef43f98ff0c87d12741f61",
       "version_major": 2,
       "version_minor": 0
      },
      "text/plain": [
       "HBox(children=(FloatProgress(value=0.0, description='Downloading', max=29.0, style=ProgressStyle(description_w…"
      ]
     },
     "metadata": {},
     "output_type": "display_data"
    },
    {
     "name": "stdout",
     "output_type": "stream",
     "text": [
      "\n",
      "{\"tokens\": [\"There\", \"is\", \"no\", \"dataset\", \"here\"], \"ner_tags\": [0, 0, 0, 0, 0]}\r\n",
      "{\"tokens\": [\"Load\", \"the\", \"UN\", \"Trade\", \"Development\", \"into\", \"view\"], \"ner_tags\": [0, 0, 2, 1, 1, 0, 0]}\r\n",
      "\n",
      "{'input_ids': [[101, 1247, 1110, 1185, 2233, 9388, 1303, 102], [101, 10605, 3556, 1103, 7414, 5820, 3273, 1154, 2458, 102]], 'token_type_ids': [[0, 0, 0, 0, 0, 0, 0, 0], [0, 0, 0, 0, 0, 0, 0, 0, 0, 0]], 'attention_mask': [[1, 1, 1, 1, 1, 1, 1, 1], [1, 1, 1, 1, 1, 1, 1, 1, 1, 1]], 'labels': [[-100, 0, 0, 0, 0, 0, 0, -100], [-100, 0, 0, 0, 2, 1, 1, 0, 0, -100]], 'word_ids': [[None, 0, 1, 2, 3, 3, 4, None], [None, 0, 0, 1, 2, 3, 4, 5, 6, None]]}\n",
      "\n"
     ]
    },
    {
     "data": {
      "application/vnd.jupyter.widget-view+json": {
       "model_id": "036c91e971d444b19676860170af53b4",
       "version_major": 2,
       "version_minor": 0
      },
      "text/plain": [
       "HBox(children=(FloatProgress(value=0.0, max=1.0), HTML(value='')))"
      ]
     },
     "metadata": {},
     "output_type": "display_data"
    },
    {
     "name": "stdout",
     "output_type": "stream",
     "text": [
      "\n"
     ]
    },
    {
     "data": {
      "application/vnd.jupyter.widget-view+json": {
       "model_id": "564edfdd4be042d6b57e49f0ce2d9e8d",
       "version_major": 2,
       "version_minor": 0
      },
      "text/plain": [
       "HBox(children=(FloatProgress(value=0.0, max=1.0), HTML(value='')))"
      ]
     },
     "metadata": {},
     "output_type": "display_data"
    },
    {
     "name": "stdout",
     "output_type": "stream",
     "text": [
      "\n",
      "{'attention_mask': [[1, 1, 1, 1, 1, 1, 1, 1], [1, 1, 1, 1, 1, 1, 1, 1, 1, 1]], 'input_ids': [[101, 1247, 1110, 1185, 2233, 9388, 1303, 102], [101, 10605, 3556, 1103, 7414, 5820, 3273, 1154, 2458, 102]], 'labels': [[-100, 0, 0, 0, 0, 0, 0, -100], [-100, 0, 0, 0, 2, 1, 1, 0, 0, -100]], 'ner_tags': [[0, 0, 0, 0, 0], [0, 0, 2, 1, 1, 0, 0]], 'token_type_ids': [[0, 0, 0, 0, 0, 0, 0, 0], [0, 0, 0, 0, 0, 0, 0, 0, 0, 0]], 'tokens': [['There', 'is', 'no', 'dataset', 'here'], ['Load', 'the', 'UN', 'Trade', 'Development', 'into', 'view']], 'word_ids': [[None, 0, 1, 2, 3, 3, 4, None], [None, 0, 0, 1, 2, 3, 4, 5, 6, None]]}\n",
      "{'attention_mask': Sequence(feature=Value(dtype='int8', id=None), length=-1, id=None), 'input_ids': Sequence(feature=Value(dtype='int32', id=None), length=-1, id=None), 'labels': Sequence(feature=Value(dtype='int64', id=None), length=-1, id=None), 'ner_tags': Sequence(feature=ClassLabel(num_classes=3, names=['O', 'I', 'B'], names_file=None, id=None), length=-1, id=None), 'token_type_ids': Sequence(feature=Value(dtype='int8', id=None), length=-1, id=None), 'tokens': Sequence(feature=Value(dtype='string', id=None), length=-1, id=None), 'word_ids': Sequence(feature=Value(dtype='int64', id=None), length=-1, id=None)}\n"
     ]
    }
   ],
   "source": [
    "datasets = load_ner_datasets(data_files={'train':'/kaggle/tmp_ner.json', 'valid':'/kaggle/tmp_ner.json'})\n",
    "tokenizer = create_tokenizer(model_checkpoint='bert-base-cased')\n",
    "\n",
    "! cat /kaggle/tmp_ner.json\n",
    "\n",
    "print()\n",
    "print(tokenize_and_align_labels(datasets['train'][:], tokenizer, label_all_tokens=True), end='\\n\\n')\n",
    "\n",
    "tokenized_datasets = datasets.map(\n",
    "    partial(tokenize_and_align_labels, tokenizer=tokenizer, label_all_tokens=True), batched=True)\n",
    "print(tokenized_datasets['valid'][:])\n",
    "print(tokenized_datasets['train'].features)"
   ]
  },
  {
   "cell_type": "code",
   "execution_count": null,
   "id": "environmental-exclusive",
   "metadata": {
    "tags": []
   },
   "outputs": [],
   "source": [
    "# Save and load `datasets.dataset_dict.DatasetDict`\n",
    "tokenized_datasets.save_to_disk('testsave_datasets')"
   ]
  },
  {
   "cell_type": "code",
   "execution_count": null,
   "id": "rolled-burlington",
   "metadata": {
    "tags": []
   },
   "outputs": [
    {
     "name": "stdout",
     "output_type": "stream",
     "text": [
      "[[101, 1247, 1110, 1185, 2233, 9388, 1303, 102], [101, 10605, 3556, 1103, 7414, 5820, 3273, 1154, 2458, 102]]\n",
      "[[101, 1247, 1110, 1185, 2233, 9388, 1303, 102], [101, 10605, 3556, 1103, 7414, 5820, 3273, 1154, 2458, 102]]\n"
     ]
    }
   ],
   "source": [
    "print(datasets.load_from_disk('testsave_datasets')['train']['input_ids'])\n",
    "print(tokenized_datasets['train']['input_ids'])"
   ]
  },
  {
   "cell_type": "code",
   "execution_count": null,
   "id": "drawn-lemon",
   "metadata": {
    "tags": []
   },
   "outputs": [
    {
     "data": {
      "application/vnd.jupyter.widget-view+json": {
       "model_id": "d0eb9928b3264765b245a312c432d13d",
       "version_major": 2,
       "version_minor": 0
      },
      "text/plain": [
       "HBox(children=(FloatProgress(value=0.0, description='Downloading', max=1961.0, style=ProgressStyle(description…"
      ]
     },
     "metadata": {},
     "output_type": "display_data"
    },
    {
     "name": "stdout",
     "output_type": "stream",
     "text": [
      "\n",
      "{'_': {'precision': 1.0, 'recall': 1.0, 'f1': 1.0, 'number': 1}, 'overall_precision': 1.0, 'overall_recall': 1.0, 'overall_f1': 1.0, 'overall_accuracy': 1.0}\n",
      "{'_': {'precision': 0.0, 'recall': 0.0, 'f1': 0.0, 'number': 1}, 'overall_precision': 0.0, 'overall_recall': 0.0, 'overall_f1': 0.0, 'overall_accuracy': 0.16666666666666666}\n"
     ]
    }
   ],
   "source": [
    "metric = load_metric('seqeval')\n",
    "\n",
    "predictions = np.array([['O', 'O', 'B', 'I', 'I', 'O']])\n",
    "references = [['O', 'O', 'B', 'I', 'I', 'O']]\n",
    "print(metric.compute(predictions=predictions, references=references))\n",
    "\n",
    "predictions = [['O', 'O', 'B', 'I', 'I', 'O']]\n",
    "references = [['B', 'I', 'I', 'O', 'O', 'O']]\n",
    "print(metric.compute(predictions=predictions, references=references))"
   ]
  },
  {
   "cell_type": "code",
   "execution_count": null,
   "id": "interesting-confusion",
   "metadata": {
    "tags": []
   },
   "outputs": [],
   "source": [
    "#export\n",
    "def jaccard_similarity(s1, s2):\n",
    "    l1 = set(s1.split(\" \"))\n",
    "    l2 = set(s2.split(\" \"))\n",
    "    intersection = len(list(l1.intersection(l2)))\n",
    "    union = (len(l1) + len(l2)) - intersection\n",
    "    return float(intersection) / union"
   ]
  },
  {
   "cell_type": "code",
   "execution_count": null,
   "id": "capable-madness",
   "metadata": {
    "tags": []
   },
   "outputs": [
    {
     "data": {
      "text/plain": [
       "True"
      ]
     },
     "execution_count": null,
     "metadata": {},
     "output_type": "execute_result"
    }
   ],
   "source": [
    "jaccard_similarity('USGS Frog Counts Data', 'USGA Croc Counts Data') == 1 / 3"
   ]
  },
  {
   "cell_type": "code",
   "execution_count": null,
   "id": "heard-telephone",
   "metadata": {
    "tags": []
   },
   "outputs": [],
   "source": [
    "#export\n",
    "def remove_nonoriginal_outputs(outputs, word_ids):\n",
    "    '''\n",
    "    Remove elements that correspond to special tokens or subtokens,\n",
    "    retaining only those elements that correspond to a word in original\n",
    "    text.\n",
    "    \n",
    "    Args:\n",
    "        outputs (np.array): \n",
    "        \n",
    "    Returns:\n",
    "        outputs (list)\n",
    "    '''\n",
    "    assert len(outputs) == len(word_ids)\n",
    "    idxs = [[word_id.index(i) for i in set(word_id) if i is not None] \n",
    "            for word_id in word_ids]\n",
    "    outputs = [output[idx].tolist() for output, idx in zip(outputs, idxs)]\n",
    "    for output in outputs:\n",
    "        assert -100 not in output\n",
    "    return outputs"
   ]
  },
  {
   "cell_type": "code",
   "execution_count": null,
   "id": "elect-auditor",
   "metadata": {
    "tags": []
   },
   "outputs": [
    {
     "name": "stdout",
     "output_type": "stream",
     "text": [
      "predictions\n",
      "BEFORE:\n",
      "[[0 1 1 2 1 1 0 0]\n",
      " [2 2 2 1 0 2 2 0]]\n",
      "AFTER:\n",
      "[[1, 2, 1], [2, 2, 0]]\n",
      "============================================================\n",
      "label_ids\n",
      "BEFORE:\n",
      "[[-100    0    0    2    1    2    1 -100]\n",
      " [-100    2    1 -100    0 -100 -100 -100]]\n",
      "AFTER:\n",
      "[[0, 2, 1], [2, 1, 0]]\n"
     ]
    }
   ],
   "source": [
    "classlabel = get_ner_classlabel()\n",
    "\n",
    "predictions = np.random.randn(2, 8, classlabel.num_classes)\n",
    "predictions = np.argmax(predictions, axis=2)\n",
    "\n",
    "label_ids = np.array([[-100, 0, 0,    2, 1,    2,    1, -100],\n",
    "                      [-100, 2, 1, -100, 0, -100, -100, -100]])\n",
    "\n",
    "word_ids = [[None, 0, 0, 1, 2, None],\n",
    "            [None, 0, 1, 1, 2, 2, None]]\n",
    "\n",
    "true_predictions = remove_nonoriginal_outputs(predictions, word_ids)\n",
    "true_label_ids   = remove_nonoriginal_outputs(label_ids,   word_ids)\n",
    "\n",
    "print('predictions')\n",
    "print('BEFORE:')\n",
    "print(predictions)\n",
    "print('AFTER:')\n",
    "print(true_predictions)\n",
    "print(60 * '=')\n",
    "print('label_ids')\n",
    "print('BEFORE:')\n",
    "print(label_ids)\n",
    "print('AFTER:')\n",
    "print(true_label_ids)"
   ]
  },
  {
   "cell_type": "code",
   "execution_count": null,
   "id": "challenging-remove",
   "metadata": {
    "tags": []
   },
   "outputs": [],
   "source": [
    "#export\n",
    "def compute_metrics(p, metric=None, word_ids=None, label_list=None):\n",
    "    '''\n",
    "    1. Remove predicted and ground-truth class ids of special and sub tokens.\n",
    "    2. Convert class ids to class labels. (int ---> str)\n",
    "    3. Compute metric.\n",
    "    \n",
    "    Args:\n",
    "        p (tuple): 2-tuple consisting of model prediction and ground-truth\n",
    "            labels.  These will contain elements corresponding to special \n",
    "            tokens and sub-tokens.\n",
    "        word_ids (list): Word IDs from the tokenizer's output, indicating\n",
    "            which original word each sub-token belongs to.\n",
    "    '''\n",
    "    predictions, label_ids = p\n",
    "    predictions = predictions.argmax(axis=2)\n",
    "\n",
    "    true_predictions = remove_nonoriginal_outputs(predictions, word_ids)\n",
    "    true_label_ids = remove_nonoriginal_outputs(label_ids, word_ids)\n",
    "    \n",
    "    true_predictions = [[label_list[p] for p in pred] for pred in true_predictions]\n",
    "    true_labels = [[label_list[i] for i in label_id] for label_id in true_label_ids]\n",
    "\n",
    "    results = metric.compute(predictions=true_predictions, references=true_labels)\n",
    "    return {\n",
    "        \"precision\": results[\"overall_precision\"],\n",
    "        \"recall\": results[\"overall_recall\"],\n",
    "        \"f1\": results[\"overall_f1\"],\n",
    "        \"accuracy\": results[\"overall_accuracy\"],\n",
    "    }"
   ]
  },
  {
   "cell_type": "code",
   "execution_count": null,
   "id": "cardiovascular-victoria",
   "metadata": {
    "tags": []
   },
   "outputs": [
    {
     "name": "stdout",
     "output_type": "stream",
     "text": [
      "[[2 1 1 1 2 0]\n",
      " [0 1 2 1 0 0]]\n",
      "[[0 1 1 1 1 0]\n",
      " [2 1 1 0 1 0]]\n"
     ]
    },
    {
     "data": {
      "text/plain": [
       "{'precision': 0.0, 'recall': 0.0, 'f1': 0.0, 'accuracy': 0.6}"
      ]
     },
     "execution_count": null,
     "metadata": {},
     "output_type": "execute_result"
    }
   ],
   "source": [
    "batch_size = 2\n",
    "max_example_length = 6\n",
    "\n",
    "predictions = np.random.randn(batch_size, max_example_length, classlabel.num_classes)\n",
    "label_ids = np.random.randint(low=0, high=classlabel.num_classes, \n",
    "                              size=(batch_size, max_example_length), dtype=np.int16)\n",
    "word_ids = [[None, 0, 0, 1, 2, None], \n",
    "            [None, 0, 1, None]]\n",
    "\n",
    "print(predictions.argmax(axis=2))\n",
    "print(label_ids)\n",
    "p = (predictions, label_ids)\n",
    "metric = load_metric('seqeval')\n",
    "compute_metrics(p, metric=metric, label_list=classlabel.names, word_ids=word_ids)"
   ]
  },
  {
   "cell_type": "markdown",
   "id": "running-entry",
   "metadata": {
    "tags": []
   },
   "source": [
    "## NER training"
   ]
  },
  {
   "cell_type": "code",
   "execution_count": null,
   "id": "valid-accountability",
   "metadata": {
    "tags": []
   },
   "outputs": [],
   "source": [
    "# from transformers import LongformerTokenizer\n",
    "# from transformers import LongformerForTokenClassification\n",
    "\n",
    "# tokenizer = LongformerTokenizer.from_pretrained('allenai/longformer-base-4096')\n",
    "# model = LongformerForTokenClassification.from_pretrained('allenai/longformer-base-4096')"
   ]
  },
  {
   "cell_type": "code",
   "execution_count": null,
   "id": "wanted-routine",
   "metadata": {
    "tags": []
   },
   "outputs": [
    {
     "name": "stderr",
     "output_type": "stream",
     "text": [
      "Training data size: 1 positives + 20 negatives: 100%|██████████| 1/1 [00:00<00:00, 170.41it/s]"
     ]
    },
    {
     "name": "stdout",
     "output_type": "stream",
     "text": [
      "Train.  Positive count: 3.  Negative count: 58.\n",
      "Valid.  Positive count: 1.  Negative count: 20.\n",
      "Downloading and preparing dataset json/default (download: Unknown size, generated: Unknown size, post-processed: Unknown size, total: Unknown size) to /root/.cache/huggingface/datasets/json/default-8b09922a6f4db2df/0.0.0/83d5b3a2f62630efc6b5315f00f20209b4ad91a00ac586597caee3a4da0bef02...\n"
     ]
    },
    {
     "data": {
      "application/vnd.jupyter.widget-view+json": {
       "model_id": "4df6e19c26c7479b9c596f2cc05d5a78",
       "version_major": 2,
       "version_minor": 0
      },
      "text/plain": [
       "HBox(children=(FloatProgress(value=1.0, bar_style='info', layout=Layout(width='20px'), max=1.0), HTML(value=''…"
      ]
     },
     "metadata": {},
     "output_type": "display_data"
    },
    {
     "data": {
      "application/vnd.jupyter.widget-view+json": {
       "model_id": "8a4580c380d64d64be6d5bc56bf92315",
       "version_major": 2,
       "version_minor": 0
      },
      "text/plain": [
       "HBox(children=(FloatProgress(value=1.0, bar_style='info', layout=Layout(width='20px'), max=1.0), HTML(value=''…"
      ]
     },
     "metadata": {},
     "output_type": "display_data"
    },
    {
     "name": "stdout",
     "output_type": "stream",
     "text": [
      "Dataset json downloaded and prepared to /root/.cache/huggingface/datasets/json/default-8b09922a6f4db2df/0.0.0/83d5b3a2f62630efc6b5315f00f20209b4ad91a00ac586597caee3a4da0bef02. Subsequent calls will reuse this data.\n"
     ]
    },
    {
     "data": {
      "application/vnd.jupyter.widget-view+json": {
       "model_id": "2a1e9ba436424ed3a3aac7b1c10f4fe5",
       "version_major": 2,
       "version_minor": 0
      },
      "text/plain": [
       "HBox(children=(FloatProgress(value=0.0, max=1.0), HTML(value='')))"
      ]
     },
     "metadata": {},
     "output_type": "display_data"
    },
    {
     "name": "stdout",
     "output_type": "stream",
     "text": [
      "\n"
     ]
    },
    {
     "data": {
      "application/vnd.jupyter.widget-view+json": {
       "model_id": "5d23d6c47ceb4257b0a25359aa9a7e47",
       "version_major": 2,
       "version_minor": 0
      },
      "text/plain": [
       "HBox(children=(FloatProgress(value=0.0, max=1.0), HTML(value='')))"
      ]
     },
     "metadata": {},
     "output_type": "display_data"
    },
    {
     "name": "stdout",
     "output_type": "stream",
     "text": [
      "\n"
     ]
    }
   ],
   "source": [
    "train_meta = load_train_meta('/kaggle/input/coleridgeinitiative-show-us-the-data/train.csv').iloc[:3]\n",
    "papers = load_papers('/kaggle/input/coleridgeinitiative-show-us-the-data/train', train_meta.Id)\n",
    "\n",
    "valid_cutoff = int(.50 * len(train_meta))\n",
    "valid_meta = train_meta.iloc[:valid_cutoff].reset_index(drop=True)\n",
    "train_meta = train_meta.iloc[valid_cutoff:].reset_index(drop=True)\n",
    "\n",
    "classlabel = get_ner_classlabel()\n",
    "train_cnt_pos, train_cnt_neg, train_ner_data = get_ner_data(\n",
    "    papers, df=train_meta, classlabel=classlabel, sentence_definition='section', max_length=360, overlap=20, \n",
    "    neg_keywords=None)\n",
    "valid_cnt_pos, valid_cnt_neg, valid_ner_data = get_ner_data(\n",
    "    papers, df=valid_meta, classlabel=classlabel, sentence_definition='section', max_length=360, overlap=20, \n",
    "    neg_keywords=None)\n",
    "print(f'Train.  Positive count: {train_cnt_pos}.  Negative count: {train_cnt_neg}.')\n",
    "print(f'Valid.  Positive count: {valid_cnt_pos}.  Negative count: {valid_cnt_neg}.')\n",
    "\n",
    "write_ner_json(train_ner_data, pth='train_ner.json')\n",
    "write_ner_json(valid_ner_data, pth='valid_ner.json')\n",
    "datasets = load_ner_datasets(data_files={'train':'train_ner.json', 'valid':'valid_ner.json'})\n",
    "\n",
    "model_checkpoint = 'distilbert-base-cased' # 'xlm-roberta-base' #'distilbert-base-cased'\n",
    "tokenizer = create_tokenizer(model_checkpoint)\n",
    "tokenized_datasets = datasets.map(\n",
    "    partial(tokenize_and_align_labels, tokenizer=tokenizer, label_all_tokens=True), batched=True)\n",
    "\n",
    "tokenized_datasets.save_to_disk(f'datasetdict_{model_checkpoint}')"
   ]
  },
  {
   "cell_type": "code",
   "execution_count": null,
   "id": "mature-halloween",
   "metadata": {
    "tags": []
   },
   "outputs": [
    {
     "data": {
      "application/vnd.jupyter.widget-view+json": {
       "model_id": "d2590c1e2e204a92a789e3f90c169ddf",
       "version_major": 2,
       "version_minor": 0
      },
      "text/plain": [
       "HBox(children=(FloatProgress(value=0.0, description='Downloading', max=263273408.0, style=ProgressStyle(descri…"
      ]
     },
     "metadata": {},
     "output_type": "display_data"
    },
    {
     "name": "stdout",
     "output_type": "stream",
     "text": [
      "\n"
     ]
    },
    {
     "name": "stderr",
     "output_type": "stream",
     "text": [
      "Some weights of the model checkpoint at distilbert-base-cased were not used when initializing DistilBertForTokenClassification: ['vocab_transform.weight', 'vocab_transform.bias', 'vocab_layer_norm.weight', 'vocab_layer_norm.bias', 'vocab_projector.weight', 'vocab_projector.bias']\n",
      "- This IS expected if you are initializing DistilBertForTokenClassification from the checkpoint of a model trained on another task or with another architecture (e.g. initializing a BertForSequenceClassification model from a BertForPreTraining model).\n",
      "- This IS NOT expected if you are initializing DistilBertForTokenClassification from the checkpoint of a model that you expect to be exactly identical (initializing a BertForSequenceClassification model from a BertForSequenceClassification model).\n",
      "Some weights of DistilBertForTokenClassification were not initialized from the model checkpoint at distilbert-base-cased and are newly initialized: ['classifier.weight', 'classifier.bias']\n",
      "You should probably TRAIN this model on a down-stream task to be able to use it for predictions and inference.\n",
      "Training data size: 209 positives + 3043 negatives: 100%|██████████| 100/100 [02:41<00:00,  1.62s/it] \n",
      "Training data size: 3 positives + 58 negatives: 100%|██████████| 2/2 [00:24<00:00, 12.33s/it] \n",
      "Training data size: 1 positives + 20 negatives: 100%|██████████| 1/1 [00:24<00:00, 24.63s/it] \n"
     ]
    }
   ],
   "source": [
    "model_checkpoint, bs = 'distilbert-base-cased', 20\n",
    "# model_checkpoint, bs = 'xlm-roberta-base', 8\n",
    "tokenizer = create_tokenizer(model_checkpoint)\n",
    "tokenized_datasets = datasets.load_from_disk(f'datasetdict_{model_checkpoint}')\n",
    "data_collator = DataCollatorForTokenClassification(tokenizer)\n",
    "\n",
    "model = AutoModelForTokenClassification.from_pretrained(model_checkpoint, num_labels=classlabel.num_classes)\n",
    "\n",
    "metric = load_metric('seqeval')\n",
    "word_ids = tokenized_datasets['valid']['word_ids']\n",
    "compute_metrics_ = partial(compute_metrics, metric=metric, label_list=classlabel.names, word_ids=word_ids)\n",
    "\n",
    "args = TrainingArguments(output_dir='test_training', num_train_epochs=2, \n",
    "                         learning_rate=2e-5, weight_decay=0.01,\n",
    "                         per_device_train_batch_size=bs, per_device_eval_batch_size=bs,\n",
    "                         evaluation_strategy='epoch', logging_steps=4, report_to='none', \n",
    "                         save_strategy='epoch', save_total_limit=6)\n",
    "\n",
    "trainer = Trainer(model=model, args=args, \n",
    "                  train_dataset=tokenized_datasets['train'], eval_dataset=tokenized_datasets['valid'], \n",
    "                  data_collator=data_collator, tokenizer=tokenizer, compute_metrics=compute_metrics_)"
   ]
  },
  {
   "cell_type": "code",
   "execution_count": null,
   "id": "executed-forge",
   "metadata": {
    "tags": []
   },
   "outputs": [
    {
     "data": {
      "text/html": [
       "\n",
       "    <div>\n",
       "        <style>\n",
       "            /* Turns off some styling */\n",
       "            progress {\n",
       "                /* gets rid of default border in Firefox and Opera. */\n",
       "                border: none;\n",
       "                /* Needs to be in here for Safari polyfill so background images work as expected. */\n",
       "                background-size: auto;\n",
       "            }\n",
       "        </style>\n",
       "      \n",
       "      <progress value='8' max='8' style='width:300px; height:20px; vertical-align: middle;'></progress>\n",
       "      [8/8 00:08, Epoch 2/2]\n",
       "    </div>\n",
       "    <table border=\"1\" class=\"dataframe\">\n",
       "  <thead>\n",
       "    <tr style=\"text-align: left;\">\n",
       "      <th>Epoch</th>\n",
       "      <th>Training Loss</th>\n",
       "      <th>Validation Loss</th>\n",
       "      <th>Precision</th>\n",
       "      <th>Recall</th>\n",
       "      <th>F1</th>\n",
       "      <th>Accuracy</th>\n",
       "      <th>Runtime</th>\n",
       "      <th>Samples Per Second</th>\n",
       "    </tr>\n",
       "  </thead>\n",
       "  <tbody>\n",
       "    <tr>\n",
       "      <td>1</td>\n",
       "      <td>0.767200</td>\n",
       "      <td>0.476947</td>\n",
       "      <td>0.000000</td>\n",
       "      <td>0.000000</td>\n",
       "      <td>0.000000</td>\n",
       "      <td>0.997736</td>\n",
       "      <td>0.292600</td>\n",
       "      <td>71.776000</td>\n",
       "    </tr>\n",
       "    <tr>\n",
       "      <td>2</td>\n",
       "      <td>0.353900</td>\n",
       "      <td>0.311854</td>\n",
       "      <td>0.000000</td>\n",
       "      <td>0.000000</td>\n",
       "      <td>0.000000</td>\n",
       "      <td>0.997988</td>\n",
       "      <td>0.289400</td>\n",
       "      <td>72.571000</td>\n",
       "    </tr>\n",
       "  </tbody>\n",
       "</table><p>"
      ],
      "text/plain": [
       "<IPython.core.display.HTML object>"
      ]
     },
     "metadata": {},
     "output_type": "display_data"
    },
    {
     "name": "stderr",
     "output_type": "stream",
     "text": [
      "/opt/conda/lib/python3.7/site-packages/seqeval/metrics/v1.py:57: UndefinedMetricWarning: Precision and F-score are ill-defined and being set to 0.0 due to no predicted samples. Use `zero_division` parameter to control this behavior.\n",
      "  _warn_prf(average, modifier, msg_start, len(result))\n"
     ]
    },
    {
     "data": {
      "text/plain": [
       "TrainOutput(global_step=8, training_loss=0.5605475008487701, metrics={'train_runtime': 9.9903, 'train_samples_per_second': 0.801, 'total_flos': 20163089158758.0, 'epoch': 2.0, 'init_mem_cpu_alloc_delta': 752304128, 'init_mem_gpu_alloc_delta': 261297664, 'init_mem_cpu_peaked_delta': 88965120, 'init_mem_gpu_peaked_delta': 0, 'train_mem_cpu_alloc_delta': 126865408, 'train_mem_gpu_alloc_delta': 784740864, 'train_mem_cpu_peaked_delta': 267227136, 'train_mem_gpu_peaked_delta': 6276752896})"
      ]
     },
     "execution_count": null,
     "metadata": {},
     "output_type": "execute_result"
    }
   ],
   "source": [
    "trainer.train()"
   ]
  },
  {
   "cell_type": "code",
   "execution_count": null,
   "id": "black-voluntary",
   "metadata": {
    "tags": []
   },
   "outputs": [
    {
     "name": "stdout",
     "output_type": "stream",
     "text": [
      "total 8\r\n",
      "drwxr-xr-x 2 root root 4096 Jun 12 16:53 checkpoint-4\r\n",
      "drwxr-xr-x 2 root root 4096 Jun 12 16:53 checkpoint-8\r\n"
     ]
    }
   ],
   "source": [
    "! ls -lrt test_training"
   ]
  },
  {
   "cell_type": "code",
   "execution_count": null,
   "id": "modified-trailer",
   "metadata": {
    "tags": []
   },
   "outputs": [
    {
     "data": {
      "text/html": [
       "\n",
       "    <div>\n",
       "        <style>\n",
       "            /* Turns off some styling */\n",
       "            progress {\n",
       "                /* gets rid of default border in Firefox and Opera. */\n",
       "                border: none;\n",
       "                /* Needs to be in here for Safari polyfill so background images work as expected. */\n",
       "                background-size: auto;\n",
       "            }\n",
       "        </style>\n",
       "      \n",
       "      <progress value='16' max='16' style='width:300px; height:20px; vertical-align: middle;'></progress>\n",
       "      [16/16 00:14, Epoch 4/4]\n",
       "    </div>\n",
       "    <table border=\"1\" class=\"dataframe\">\n",
       "  <thead>\n",
       "    <tr style=\"text-align: left;\">\n",
       "      <th>Epoch</th>\n",
       "      <th>Training Loss</th>\n",
       "      <th>Validation Loss</th>\n",
       "      <th>Precision</th>\n",
       "      <th>Recall</th>\n",
       "      <th>F1</th>\n",
       "      <th>Accuracy</th>\n",
       "      <th>Runtime</th>\n",
       "      <th>Samples Per Second</th>\n",
       "    </tr>\n",
       "  </thead>\n",
       "  <tbody>\n",
       "    <tr>\n",
       "      <td>2</td>\n",
       "      <td>0.302000</td>\n",
       "      <td>0.191909</td>\n",
       "      <td>0.000000</td>\n",
       "      <td>0.000000</td>\n",
       "      <td>0.000000</td>\n",
       "      <td>0.997988</td>\n",
       "      <td>0.288000</td>\n",
       "      <td>72.929000</td>\n",
       "    </tr>\n",
       "    <tr>\n",
       "      <td>3</td>\n",
       "      <td>0.102100</td>\n",
       "      <td>0.078181</td>\n",
       "      <td>0.000000</td>\n",
       "      <td>0.000000</td>\n",
       "      <td>0.000000</td>\n",
       "      <td>0.997988</td>\n",
       "      <td>0.291900</td>\n",
       "      <td>71.941000</td>\n",
       "    </tr>\n",
       "    <tr>\n",
       "      <td>4</td>\n",
       "      <td>0.043400</td>\n",
       "      <td>0.054164</td>\n",
       "      <td>0.000000</td>\n",
       "      <td>0.000000</td>\n",
       "      <td>0.000000</td>\n",
       "      <td>0.997988</td>\n",
       "      <td>0.285400</td>\n",
       "      <td>73.584000</td>\n",
       "    </tr>\n",
       "  </tbody>\n",
       "</table><p>"
      ],
      "text/plain": [
       "<IPython.core.display.HTML object>"
      ]
     },
     "metadata": {},
     "output_type": "display_data"
    },
    {
     "name": "stderr",
     "output_type": "stream",
     "text": [
      "/opt/conda/lib/python3.7/site-packages/seqeval/metrics/v1.py:57: UndefinedMetricWarning: Precision and F-score are ill-defined and being set to 0.0 due to no predicted samples. Use `zero_division` parameter to control this behavior.\n",
      "  _warn_prf(average, modifier, msg_start, len(result))\n",
      "/opt/conda/lib/python3.7/site-packages/seqeval/metrics/v1.py:57: UndefinedMetricWarning: Precision and F-score are ill-defined and being set to 0.0 due to no predicted samples. Use `zero_division` parameter to control this behavior.\n",
      "  _warn_prf(average, modifier, msg_start, len(result))\n",
      "/opt/conda/lib/python3.7/site-packages/seqeval/metrics/v1.py:57: UndefinedMetricWarning: Precision and F-score are ill-defined and being set to 0.0 due to no predicted samples. Use `zero_division` parameter to control this behavior.\n",
      "  _warn_prf(average, modifier, msg_start, len(result))\n"
     ]
    },
    {
     "data": {
      "text/plain": [
       "TrainOutput(global_step=16, training_loss=0.1118859639391303, metrics={'train_runtime': 15.0461, 'train_samples_per_second': 1.063, 'total_flos': 40445481908286.0, 'epoch': 4.0, 'init_mem_cpu_alloc_delta': 0, 'init_mem_gpu_alloc_delta': 0, 'init_mem_cpu_peaked_delta': 0, 'init_mem_gpu_peaked_delta': 0, 'train_mem_cpu_alloc_delta': 297168896, 'train_mem_gpu_alloc_delta': 1046138880, 'train_mem_cpu_peaked_delta': 273448960, 'train_mem_gpu_peaked_delta': 6284856832})"
      ]
     },
     "execution_count": null,
     "metadata": {},
     "output_type": "execute_result"
    }
   ],
   "source": [
    "# bs = 4 # xlm-roberta-base on CPU\n",
    "bs = 20 # distilbert-base-cased on CPU\n",
    "\n",
    "args = TrainingArguments(output_dir='test_training', num_train_epochs=4, \n",
    "                         learning_rate=2e-5, weight_decay=0.01,\n",
    "                         per_device_train_batch_size=bs, per_device_eval_batch_size=bs,\n",
    "                         evaluation_strategy='epoch', logging_steps=4, report_to='none', \n",
    "                         save_strategy='epoch', save_total_limit=6)\n",
    "\n",
    "trainer = Trainer(model=model, args=args, \n",
    "                  train_dataset=tokenized_datasets['train'], eval_dataset=tokenized_datasets['valid'], \n",
    "                  data_collator=data_collator, tokenizer=tokenizer, \n",
    "                  compute_metrics=compute_metrics_)\n",
    "trainer.train(resume_from_checkpoint='/kaggle/working/test_training/checkpoint-4/')"
   ]
  },
  {
   "cell_type": "code",
   "execution_count": null,
   "id": "featured-kitty",
   "metadata": {
    "tags": []
   },
   "outputs": [
    {
     "data": {
      "text/html": [
       "\n",
       "    <div>\n",
       "        <style>\n",
       "            /* Turns off some styling */\n",
       "            progress {\n",
       "                /* gets rid of default border in Firefox and Opera. */\n",
       "                border: none;\n",
       "                /* Needs to be in here for Safari polyfill so background images work as expected. */\n",
       "                background-size: auto;\n",
       "            }\n",
       "        </style>\n",
       "      \n",
       "      <progress value='2' max='2' style='width:300px; height:20px; vertical-align: middle;'></progress>\n",
       "      [2/2 00:00]\n",
       "    </div>\n",
       "    "
      ],
      "text/plain": [
       "<IPython.core.display.HTML object>"
      ]
     },
     "metadata": {},
     "output_type": "display_data"
    },
    {
     "name": "stderr",
     "output_type": "stream",
     "text": [
      "/opt/conda/lib/python3.7/site-packages/seqeval/metrics/v1.py:57: UndefinedMetricWarning: Precision and F-score are ill-defined and being set to 0.0 due to no predicted samples. Use `zero_division` parameter to control this behavior.\n",
      "  _warn_prf(average, modifier, msg_start, len(result))\n"
     ]
    },
    {
     "data": {
      "text/plain": [
       "{'eval_loss': 0.0541641041636467,\n",
       " 'eval_precision': 0.0,\n",
       " 'eval_recall': 0.0,\n",
       " 'eval_f1': 0.0,\n",
       " 'eval_accuracy': 0.9979879275653923,\n",
       " 'eval_runtime': 0.305,\n",
       " 'eval_samples_per_second': 68.862,\n",
       " 'epoch': 4.0,\n",
       " 'eval_mem_cpu_alloc_delta': 36864,\n",
       " 'eval_mem_gpu_alloc_delta': 0,\n",
       " 'eval_mem_cpu_peaked_delta': 0,\n",
       " 'eval_mem_gpu_peaked_delta': 504555520}"
      ]
     },
     "execution_count": null,
     "metadata": {},
     "output_type": "execute_result"
    }
   ],
   "source": [
    "trainer.evaluate()"
   ]
  },
  {
   "cell_type": "markdown",
   "id": "presidential-surgeon",
   "metadata": {
    "tags": []
   },
   "source": [
    "## NER inference\n",
    "\n",
    "**Turn off the Internet here**"
   ]
  },
  {
   "cell_type": "code",
   "execution_count": null,
   "id": "removable-hundred",
   "metadata": {
    "tags": []
   },
   "outputs": [],
   "source": [
    "#export\n",
    "def get_ner_inference_data(papers, sample_submission, classlabel=None, \n",
    "                           sentence_definition='sentence', max_length=64, overlap=20, \n",
    "                           min_length=10, contains_keywords=['data', 'study']):\n",
    "    '''\n",
    "    Args:\n",
    "        papers (dict): Each list in this dictionary consists of the section of a paper.\n",
    "        sample_submission (pd.DataFrame): Competition 'sample_submission.csv'.\n",
    "    Returns:\n",
    "        test_rows (list): Each list in this list is of the form: \n",
    "             [('goat', 0), ('win', 0), ...] and represents a sentence.  \n",
    "        paper_length (list): Number of sentences in each paper.\n",
    "    '''\n",
    "    test_rows = [] \n",
    "    paper_length = [] \n",
    "\n",
    "    for paper_id in sample_submission['Id']:\n",
    "        paper = papers[paper_id]\n",
    "\n",
    "        sentences = extract_sentences(paper, sentence_definition=sentence_definition)\n",
    "        sentences = shorten_sentences(sentences, max_length=max_length, overlap=overlap)\n",
    "        \n",
    "        if min_length > 0:\n",
    "            sentences = [sentence for sentence in sentences if len(sentence) > min_length] \n",
    "            \n",
    "        if contains_keywords is not None:\n",
    "            sentences = [sentence for sentence in sentences \n",
    "                         if any(word in sentence.lower() for word in contains_keywords)]\n",
    "\n",
    "        for sentence in sentences:\n",
    "            sentence_words = sentence.split()\n",
    "            dummy_tags = [classlabel.str2int('O')]*len(sentence_words)\n",
    "            test_rows.append(list(zip(sentence_words, dummy_tags)))\n",
    "\n",
    "        paper_length.append(len(sentences))\n",
    "\n",
    "    print(f'total number of \"sentences\": {len(test_rows)}')\n",
    "    return test_rows, paper_length"
   ]
  },
  {
   "cell_type": "code",
   "execution_count": null,
   "id": "electric-debate",
   "metadata": {
    "tags": []
   },
   "outputs": [
    {
     "name": "stdout",
     "output_type": "stream",
     "text": [
      "total number of \"sentences\": 218\n",
      "[('CHARGE', 0), ('Meta', 0), ('Analysis', 0), ('A', 0), ('GWAS', 0), ('of', 0), ('general', 0), ('cognitive', 0), ('function', 0), ('that', 0), ('included', 0), ('53', 0), ('000', 0), ('individuals', 0), ('from', 0), ('31', 0), ('population', 0), ('based', 0), ('cohorts', 0), ('was', 0), ('recently', 0), ('published', 0), ('by', 0), ('the', 0), ('Cohorts', 0), ('for', 0), ('Heart', 0), ('and', 0), ('Aging', 0), ('Research', 0), ('in', 0), ('Genomic', 0), ('Epidemiology', 0), ('CHARGE', 0), ('consortium', 0), ('Davies', 0), ('et', 0), ('al', 0), ('2015', 0), ('The', 0), ('study', 0), ('reported', 0), ('genome', 0), ('wide', 0), ('significant', 0), ('SNP', 0), ('associations', 0), ('with', 0), ('general', 0), ('cognitive', 0), ('ability', 0), ('in', 0), ('three', 0), ('genomic', 0), ('regions', 0), ('including', 0), ('rs1906252', 0), ('P', 0), ('1', 0), ('55', 0), ('10', 0), ('8', 0), ('We', 0), ('sought', 0), ('to', 0), ('integrate', 0), ('the', 0), ('COGENT', 0), ('findings', 0), ('with', 0), ('the', 0), ('CHARGE', 0), ('findings', 0), ('as', 0), ('well', 0), ('and', 0), ('conducted', 0), ('a', 0), ('second', 0), ('metaanalysis', 0), ('of', 0), ('rs1906252', 0), ('and', 0), ('g', 0), ('In', 0), ('this', 0), ('analytic', 0), ('series', 0), ('the', 0), ('COGENT', 0), ('samples', 0), ('were', 0), ('fully', 0), ('independent', 0), ('from', 0), ('both', 0), ('the', 0), ('SSGAC', 0), ('and', 0), ('the', 0), ('CHARGE', 0), ('samples', 0), ('In', 0), ('other', 0), ('words', 0), ('we', 0), ('excluded', 0), ('HBCS', 0), ('and', 0), ('LBC1936', 0), ('as', 0), ('above', 0), ('and', 0), ('excluded', 0), ('additional', 0), ('data', 0), ('from', 0), ('our', 0), ('Framingham', 0), ('Heart', 0), ('Study', 0), ('Second', 0), ('Generation', 0), ('Cohort', 0), ('FHS', 0), ('sample', 0), ('the', 0), ('Cardiovascular', 0), ('Health', 0), ('Study', 0), ('CHS', 0), ('sample', 0), ('and', 0), ('the', 0), ('Norwegian', 0), ('Cognitive', 0), ('NeuroGenetics', 0), ('NCNG', 0), ('sample', 0), ('all', 0), ('of', 0), ('which', 0), ('overlapped', 0), ('with', 0), ('CHARGE', 0), ('to', 0), ('some', 0), ('extent', 0), ('In', 0), ('the', 0), ('reduced', 0), ('COGENT', 0), ('sample', 0), ('of', 0), ('16', 0), ('sites', 0), ('and', 0), ('15', 0), ('000', 0), ('subjects', 0), ('fully', 0), ('independent', 0), ('from', 0), ('SSGAC', 0), ('and', 0), ('CHARGE', 0), ('rs1906252', 0), ('retained', 0), ('a', 0), ('significant', 0), ('association', 0), ('to', 0), ('g', 0), ('022', 0), ('P', 0), ('2', 0), ('81', 0), ('10', 0), ('2', 0), ('Further', 0), ('the', 0), ('joint', 0), ('analysis', 0), ('of', 0), ('the', 0), ('42', 0), ('independent', 0), ('COGENT', 0), ('and', 0), ('CHARGE', 0), ('cohorts', 0), ('N', 0), ('68', 0), ('000', 0), ('was', 0), ('robust', 0), ('029', 0), ('P', 0), ('1', 0), ('65', 0), ('10', 0), ('9', 0)]\n",
      "[16, 125, 45, 32]\n"
     ]
    }
   ],
   "source": [
    "sample_submission = pd.read_csv('/kaggle/input/coleridgeinitiative-show-us-the-data/sample_submission.csv')\n",
    "papers = load_papers('/kaggle/input/coleridgeinitiative-show-us-the-data/test', sample_submission.Id)\n",
    "classlabel = get_ner_classlabel()\n",
    "test_rows, paper_length = get_ner_inference_data(papers, sample_submission, classlabel=classlabel, \n",
    "                                                 sentence_definition='section', max_length=360, overlap=20,\n",
    "                                                 min_length=0, contains_keywords=None)\n",
    "print(test_rows[1])\n",
    "print(paper_length)"
   ]
  },
  {
   "cell_type": "code",
   "execution_count": null,
   "id": "genetic-socket",
   "metadata": {
    "tags": []
   },
   "outputs": [],
   "source": [
    "#export\n",
    "def ner_predict(pth=None, tokenizer=None, model=None, metric=None, \n",
    "                per_device_train_batch_size=16, per_device_eval_batch_size=16):\n",
    "    classlabel = get_ner_classlabel()\n",
    "    datasets = load_ner_datasets(data_files={'test':pth})\n",
    "\n",
    "    print('Tokenizing testset...', end='')\n",
    "    t0 = time.time()\n",
    "    tokenized_datasets = datasets.map(\n",
    "        partial(tokenize_and_align_labels,tokenizer=tokenizer, label_all_tokens=True), \n",
    "        batched=True)\n",
    "    print(f'completed in {(time.time() - t0) / 60:.2f} mins.')\n",
    "    \n",
    "    print('Creating data collator...')\n",
    "    data_collator = DataCollatorForTokenClassification(tokenizer)\n",
    "    \n",
    "    print('Creating (dummy) training arguments...')\n",
    "    args = TrainingArguments(output_dir='test_ner', num_train_epochs=3, \n",
    "                             learning_rate=2e-5, weight_decay=0.01,\n",
    "                             per_device_train_batch_size=per_device_train_batch_size, \n",
    "                             per_device_eval_batch_size=per_device_eval_batch_size,\n",
    "                             evaluation_strategy='epoch', logging_steps=4, report_to='none', \n",
    "                             save_strategy='epoch', save_total_limit=6)\n",
    "\n",
    "    print('Creating trainer...')\n",
    "    word_ids = tokenized_datasets['test']['word_ids']\n",
    "    compute_metrics_ = partial(compute_metrics, metric=metric, label_list=classlabel.names, word_ids=word_ids)\n",
    "    trainer = Trainer(model=model, args=args, \n",
    "                      train_dataset=tokenized_datasets['test'], eval_dataset=tokenized_datasets['test'], \n",
    "                      data_collator=data_collator, tokenizer=tokenizer, compute_metrics=compute_metrics_)\n",
    "\n",
    "    print('Predicting on test samples...')\n",
    "    t0 = time.time()\n",
    "    predictions, label_ids, _ = trainer.predict(tokenized_datasets['test'])\n",
    "    print(f'completed in {(time.time() - t0) / 60:.2f} mins.')\n",
    "    print('Argmaxing...')\n",
    "    t0 = time.time()\n",
    "    predictions = predictions.argmax(axis=2)\n",
    "    print(f'completed in {(time.time() - t0) / 60:.2f} mins.')\n",
    "    \n",
    "    print('Removing non-original outputs...', end='')\n",
    "    t0 = time.time()\n",
    "    predictions = remove_nonoriginal_outputs(predictions, word_ids)\n",
    "    label_ids   = remove_nonoriginal_outputs(label_ids, word_ids)\n",
    "    print(f'completed in {(time.time() - t0) / 60:.2f} mins.')\n",
    "    \n",
    "    return predictions, label_ids"
   ]
  },
  {
   "cell_type": "code",
   "execution_count": null,
   "id": "resident-membership",
   "metadata": {
    "tags": []
   },
   "outputs": [],
   "source": [
    "# This shows where to look for the cached metric `seqeval`.\n",
    "# metric = load_metric('/root/.cache/huggingface/modules/datasets_modules/metrics/seqeval/ec5b7242a8c40468d189ca0b2b10612578dbcad311b2a134c99e3ded58a0d6e3/seqeval.py')\n",
    "\n",
    "# Exporting the cached metric \n",
    "\n",
    "# %cd /root/.cache\n",
    "# ! zip -r huggingface_cache.zip huggingface/modules/datasets_modules/metrics/seqeval/ec5b7242a8c40468d189ca0b2b10612578dbcad311b2a134c99e3ded58a0d6e3/\n",
    "# %cd "
   ]
  },
  {
   "cell_type": "code",
   "execution_count": null,
   "id": "exempt-reset",
   "metadata": {
    "tags": []
   },
   "outputs": [],
   "source": [
    "model_checkpoint = 'test_training/checkpoint-8/'\n",
    "\n",
    "tokenizer = create_tokenizer(model_checkpoint=model_checkpoint)\n",
    "model = AutoModelForTokenClassification.from_pretrained(model_checkpoint)\n",
    "# metric = load_metric('seqeval')\n",
    "metric = load_metric('/root/.cache/huggingface/modules/datasets_modules/metrics/seqeval/ec5b7242a8c40468d189ca0b2b10612578dbcad311b2a134c99e3ded58a0d6e3/seqeval.py')"
   ]
  },
  {
   "cell_type": "code",
   "execution_count": null,
   "id": "actual-blogger",
   "metadata": {
    "tags": []
   },
   "outputs": [
    {
     "name": "stdout",
     "output_type": "stream",
     "text": [
      "Downloading and preparing dataset json/default (download: Unknown size, generated: Unknown size, post-processed: Unknown size, total: Unknown size) to /root/.cache/huggingface/datasets/json/default-d73574afa2c0e3ea/0.0.0/83d5b3a2f62630efc6b5315f00f20209b4ad91a00ac586597caee3a4da0bef02...\n"
     ]
    },
    {
     "data": {
      "application/vnd.jupyter.widget-view+json": {
       "model_id": "2cc708afabc14e3cbc87edb685f0f997",
       "version_major": 2,
       "version_minor": 0
      },
      "text/plain": [
       "HBox(children=(FloatProgress(value=1.0, bar_style='info', layout=Layout(width='20px'), max=1.0), HTML(value=''…"
      ]
     },
     "metadata": {},
     "output_type": "display_data"
    },
    {
     "name": "stdout",
     "output_type": "stream",
     "text": [
      "Dataset json downloaded and prepared to /root/.cache/huggingface/datasets/json/default-d73574afa2c0e3ea/0.0.0/83d5b3a2f62630efc6b5315f00f20209b4ad91a00ac586597caee3a4da0bef02. Subsequent calls will reuse this data.\n",
      "Tokenizing testset..."
     ]
    },
    {
     "data": {
      "application/vnd.jupyter.widget-view+json": {
       "model_id": "96dc06fb259c4b2682d90aa5d7d4cb7b",
       "version_major": 2,
       "version_minor": 0
      },
      "text/plain": [
       "HBox(children=(FloatProgress(value=0.0, max=1.0), HTML(value='')))"
      ]
     },
     "metadata": {},
     "output_type": "display_data"
    },
    {
     "name": "stdout",
     "output_type": "stream",
     "text": [
      "\n",
      "completed in 0.00 mins.\n",
      "Creating data collator...\n",
      "Creating (dummy) training arguments...\n",
      "Creating trainer...\n",
      "Predicting on test samples...\n"
     ]
    },
    {
     "data": {
      "text/html": [
       "\n",
       "    <div>\n",
       "        <style>\n",
       "            /* Turns off some styling */\n",
       "            progress {\n",
       "                /* gets rid of default border in Firefox and Opera. */\n",
       "                border: none;\n",
       "                /* Needs to be in here for Safari polyfill so background images work as expected. */\n",
       "                background-size: auto;\n",
       "            }\n",
       "        </style>\n",
       "      \n",
       "      <progress value='1' max='1' style='width:300px; height:20px; vertical-align: middle;'></progress>\n",
       "      [1/1 : < :]\n",
       "    </div>\n",
       "    "
      ],
      "text/plain": [
       "<IPython.core.display.HTML object>"
      ]
     },
     "metadata": {},
     "output_type": "display_data"
    },
    {
     "name": "stderr",
     "output_type": "stream",
     "text": [
      "/opt/conda/lib/python3.7/site-packages/seqeval/metrics/v1.py:57: UndefinedMetricWarning: Recall and F-score are ill-defined and being set to 0.0 due to no true samples. Use `zero_division` parameter to control this behavior.\n",
      "  _warn_prf(average, modifier, msg_start, len(result))\n",
      "/opt/conda/lib/python3.7/site-packages/numpy/lib/function_base.py:380: RuntimeWarning: Mean of empty slice.\n",
      "  avg = a.mean(axis)\n",
      "/opt/conda/lib/python3.7/site-packages/numpy/core/_methods.py:170: RuntimeWarning: invalid value encountered in double_scalars\n",
      "  ret = ret.dtype.type(ret / rcount)\n"
     ]
    },
    {
     "name": "stdout",
     "output_type": "stream",
     "text": [
      "completed in 0.01 mins.\n",
      "Argmaxing...\n",
      "completed in 0.00 mins.\n",
      "Removing non-original outputs...completed in 0.00 mins.\n",
      "Sample 0: 11 11 11\n",
      "Sample 1: 27 27 27\n"
     ]
    }
   ],
   "source": [
    "samples = ['''Archaeologists estimate the carvings are between 4,000 and 5,000 years old''', \n",
    "           ('''I could see that I was looking at a deer stag upside down, '''\n",
    "            '''and as I continued looking around, more animals appeared on the rock,” he said.''')]\n",
    "test_rows = [list(zip(sample.split(), len(sample.split()) * [0])) for sample in samples]\n",
    "write_ner_json(test_rows, pth='test_ner.json')\n",
    "\n",
    "predictions, label_ids = ner_predict(pth='test_ner.json', tokenizer=tokenizer, model=model, metric=metric, \n",
    "                                     per_device_train_batch_size=4, per_device_eval_batch_size=4)\n",
    "for i in range(len(predictions)):\n",
    "    print(f'Sample {i}:', len(predictions[i]), len(label_ids[i]), len(samples[i].split()))"
   ]
  },
  {
   "cell_type": "code",
   "execution_count": null,
   "id": "front-digit",
   "metadata": {
    "tags": []
   },
   "outputs": [],
   "source": [
    "#export\n",
    "\n",
    "def batched_ner_predict(pth, tokenizer=None, model=None, metric=None, \n",
    "                        batch_size=64_000, \n",
    "                        per_device_train_batch_size=16, per_device_eval_batch_size=16):\n",
    "    '''\n",
    "    Do inference on dataset in batches.\n",
    "    '''\n",
    "    lines = open(pth, mode='r').readlines()\n",
    "    \n",
    "    pth_tmp = 'ner_predict_tmp.json'\n",
    "    predictions, label_ids = [], []\n",
    "    for ib in range(0, len(lines), batch_size):\n",
    "        with open(pth_tmp, mode='w') as f:\n",
    "            f.writelines(lines[ ib: ib + batch_size ])\n",
    "\n",
    "        predictions_, label_ids_ = ner_predict(\n",
    "            pth_tmp, tokenizer=tokenizer, model=model, metric=metric, \n",
    "            per_device_train_batch_size=per_device_train_batch_size, \n",
    "            per_device_eval_batch_size=per_device_eval_batch_size)\n",
    "        predictions.extend(predictions_)\n",
    "        label_ids.extend(label_ids_)\n",
    "    return predictions, label_ids"
   ]
  },
  {
   "cell_type": "code",
   "execution_count": null,
   "id": "pediatric-reform",
   "metadata": {
    "tags": []
   },
   "outputs": [
    {
     "name": "stdout",
     "output_type": "stream",
     "text": [
      "Downloading and preparing dataset json/default (download: Unknown size, generated: Unknown size, post-processed: Unknown size, total: Unknown size) to /root/.cache/huggingface/datasets/json/default-158804d84c4b33d6/0.0.0/83d5b3a2f62630efc6b5315f00f20209b4ad91a00ac586597caee3a4da0bef02...\n"
     ]
    },
    {
     "data": {
      "application/vnd.jupyter.widget-view+json": {
       "model_id": "e5dbc0e565c94087bdaf1525e82afcf2",
       "version_major": 2,
       "version_minor": 0
      },
      "text/plain": [
       "HBox(children=(FloatProgress(value=1.0, bar_style='info', layout=Layout(width='20px'), max=1.0), HTML(value=''…"
      ]
     },
     "metadata": {},
     "output_type": "display_data"
    },
    {
     "name": "stdout",
     "output_type": "stream",
     "text": [
      "Dataset json downloaded and prepared to /root/.cache/huggingface/datasets/json/default-158804d84c4b33d6/0.0.0/83d5b3a2f62630efc6b5315f00f20209b4ad91a00ac586597caee3a4da0bef02. Subsequent calls will reuse this data.\n",
      "Tokenizing testset..."
     ]
    },
    {
     "data": {
      "application/vnd.jupyter.widget-view+json": {
       "model_id": "c58f83c417674cf4a1f73168d75d20f9",
       "version_major": 2,
       "version_minor": 0
      },
      "text/plain": [
       "HBox(children=(FloatProgress(value=0.0, max=1.0), HTML(value='')))"
      ]
     },
     "metadata": {},
     "output_type": "display_data"
    },
    {
     "name": "stdout",
     "output_type": "stream",
     "text": [
      "\n",
      "completed in 0.00 mins.\n",
      "Creating data collator...\n",
      "Creating (dummy) training arguments...\n",
      "Creating trainer...\n",
      "Predicting on test samples...\n"
     ]
    },
    {
     "data": {
      "text/html": [
       "\n",
       "    <div>\n",
       "        <style>\n",
       "            /* Turns off some styling */\n",
       "            progress {\n",
       "                /* gets rid of default border in Firefox and Opera. */\n",
       "                border: none;\n",
       "                /* Needs to be in here for Safari polyfill so background images work as expected. */\n",
       "                background-size: auto;\n",
       "            }\n",
       "        </style>\n",
       "      \n",
       "      <progress value='1' max='1' style='width:300px; height:20px; vertical-align: middle;'></progress>\n",
       "      [1/1 : < :]\n",
       "    </div>\n",
       "    "
      ],
      "text/plain": [
       "<IPython.core.display.HTML object>"
      ]
     },
     "metadata": {},
     "output_type": "display_data"
    },
    {
     "name": "stdout",
     "output_type": "stream",
     "text": [
      "completed in 0.01 mins.\n",
      "Argmaxing...\n",
      "completed in 0.00 mins.\n",
      "Removing non-original outputs...completed in 0.00 mins.\n",
      "Downloading and preparing dataset json/default (download: Unknown size, generated: Unknown size, post-processed: Unknown size, total: Unknown size) to /root/.cache/huggingface/datasets/json/default-8f83596bd43e3fef/0.0.0/83d5b3a2f62630efc6b5315f00f20209b4ad91a00ac586597caee3a4da0bef02...\n"
     ]
    },
    {
     "data": {
      "application/vnd.jupyter.widget-view+json": {
       "model_id": "cf4122ebacae4476b34caa4d36552027",
       "version_major": 2,
       "version_minor": 0
      },
      "text/plain": [
       "HBox(children=(FloatProgress(value=1.0, bar_style='info', layout=Layout(width='20px'), max=1.0), HTML(value=''…"
      ]
     },
     "metadata": {},
     "output_type": "display_data"
    },
    {
     "name": "stdout",
     "output_type": "stream",
     "text": [
      "Dataset json downloaded and prepared to /root/.cache/huggingface/datasets/json/default-8f83596bd43e3fef/0.0.0/83d5b3a2f62630efc6b5315f00f20209b4ad91a00ac586597caee3a4da0bef02. Subsequent calls will reuse this data.\n",
      "Tokenizing testset..."
     ]
    },
    {
     "data": {
      "application/vnd.jupyter.widget-view+json": {
       "model_id": "caedf048f3da4f6393c00ad233ad3684",
       "version_major": 2,
       "version_minor": 0
      },
      "text/plain": [
       "HBox(children=(FloatProgress(value=0.0, max=1.0), HTML(value='')))"
      ]
     },
     "metadata": {},
     "output_type": "display_data"
    },
    {
     "name": "stdout",
     "output_type": "stream",
     "text": [
      "\n",
      "completed in 0.00 mins.\n",
      "Creating data collator...\n",
      "Creating (dummy) training arguments...\n",
      "Creating trainer...\n",
      "Predicting on test samples...\n"
     ]
    },
    {
     "data": {
      "text/html": [
       "\n",
       "    <div>\n",
       "        <style>\n",
       "            /* Turns off some styling */\n",
       "            progress {\n",
       "                /* gets rid of default border in Firefox and Opera. */\n",
       "                border: none;\n",
       "                /* Needs to be in here for Safari polyfill so background images work as expected. */\n",
       "                background-size: auto;\n",
       "            }\n",
       "        </style>\n",
       "      \n",
       "      <progress value='1' max='1' style='width:300px; height:20px; vertical-align: middle;'></progress>\n",
       "      [1/1 : < :]\n",
       "    </div>\n",
       "    "
      ],
      "text/plain": [
       "<IPython.core.display.HTML object>"
      ]
     },
     "metadata": {},
     "output_type": "display_data"
    },
    {
     "name": "stdout",
     "output_type": "stream",
     "text": [
      "completed in 0.01 mins.\n",
      "Argmaxing...\n",
      "completed in 0.00 mins.\n",
      "Removing non-original outputs...completed in 0.00 mins.\n",
      "Sample 0: 11 11 11\n",
      "Sample 1: 27 27 27\n",
      "Sample 2: 15 15 15\n",
      "Sample 3: 16 16 16\n"
     ]
    }
   ],
   "source": [
    "samples = ['''Archaeologists estimate the carvings are between 4,000 and 5,000 years old''', \n",
    "           ('''I could see that I was looking at a deer stag upside down, '''\n",
    "            '''and as I continued looking around, more animals appeared on the rock,” he said.'''),\n",
    "           '''The RNN model we are about to build has LSTM cells as basic hidden units.''', \n",
    "           '''YouTube series, the Crooner Sessions. Now he gets his musical pals together in real life for ''']\n",
    "test_rows = [list(zip(sample.split(), len(sample.split()) * [0])) for sample in samples]\n",
    "write_ner_json(test_rows, pth='test_ner.json')\n",
    "\n",
    "predictions, label_ids = batched_ner_predict(\n",
    "    'test_ner.json', tokenizer=tokenizer, model=model, metric=metric, batch_size=2, \n",
    "    per_device_train_batch_size=16, per_device_eval_batch_size=16)\n",
    "    \n",
    "for i in range(len(predictions)):\n",
    "    print(f'Sample {i}:', len(predictions[i]), len(label_ids[i]), len(samples[i].split()))"
   ]
  },
  {
   "cell_type": "code",
   "execution_count": null,
   "id": "analyzed-neutral",
   "metadata": {
    "tags": []
   },
   "outputs": [],
   "source": [
    "#export\n",
    "def get_paper_dataset_labels(pth, paper_length, predictions):\n",
    "    '''\n",
    "    Args:\n",
    "        pth (Path, str): Path to json file containing NER data.  Each row is \n",
    "            of form: {'tokens': ['Studying', 'human'], 'ner_tags': [0, 0, ...]}.\n",
    "    \n",
    "    Returns:\n",
    "        paper_dataset_labels (list): Each element is a set consisting of labels predicted\n",
    "            by the model.\n",
    "    '''\n",
    "    test_sentences = [json.loads(sample)['tokens'] for sample in open(pth).readlines()]\n",
    "    \n",
    "    paper_dataset_labels = [] # store all dataset labels for each publication\n",
    "    for ipaper in range(len(paper_length)):\n",
    "        istart = sum(paper_length[:ipaper])\n",
    "        iend = istart + paper_length[ipaper]\n",
    "        \n",
    "        labels = set()\n",
    "        for sentence, pred in zip(test_sentences[istart:iend], predictions[istart:iend]):\n",
    "            curr_phrase = ''\n",
    "            for word, tag in zip(sentence, pred):\n",
    "                if tag == 'B': # start a new phrase\n",
    "                    if curr_phrase:\n",
    "                        labels.add(curr_phrase)\n",
    "                        curr_phrase = ''\n",
    "                    curr_phrase = word\n",
    "                elif tag == 'I' and curr_phrase: # continue the phrase\n",
    "                    curr_phrase += ' ' + word\n",
    "                else: # end last phrase (if any)\n",
    "                    if curr_phrase:\n",
    "                        labels.add(curr_phrase)\n",
    "                        curr_phrase = ''\n",
    "            # check if the label is the suffix of the sentence\n",
    "            if curr_phrase:\n",
    "                labels.add(curr_phrase)\n",
    "                curr_phrase = ''\n",
    "\n",
    "        # record dataset labels for this publication\n",
    "        paper_dataset_labels.append(labels)\n",
    "\n",
    "    return paper_dataset_labels"
   ]
  },
  {
   "cell_type": "code",
   "execution_count": null,
   "id": "driving-impression",
   "metadata": {
    "tags": []
   },
   "outputs": [
    {
     "name": "stdout",
     "output_type": "stream",
     "text": [
      "[{'Tigers EcoNAX dataset', 'present all the'}, {'WGS Equality Definitiveness Dataset'}]\n"
     ]
    }
   ],
   "source": [
    "sentences = ['They do not present all the features', \n",
    "             'Despite the pretraining on the Tigers EcoNAX dataset',\n",
    "             'Weirdly there has been lots of studies based on WGS Equality Definitiveness Dataset']\n",
    "paper_length = [2, 1]\n",
    "test_rows = [[(word, 0) for word in sentence.split()] for sentence in sentences]\n",
    "predictions = [['O', 'O', 'O', 'B', 'I', 'I', 'O'],\n",
    "               ['O', 'O', 'O', 'O', 'O', 'B', 'I', 'I'],\n",
    "               ['O', 'O', 'O', 'O', 'O', 'O', 'O', 'O', 'O', 'B', 'I', 'I', 'I']]\n",
    "for i, row in enumerate(test_rows):\n",
    "    assert len(row) == len(predictions[i])\n",
    "\n",
    "write_ner_json(test_rows, pth='test_ner.json')\n",
    "\n",
    "paper_dataset_labels = get_paper_dataset_labels('test_ner.json', paper_length, predictions)\n",
    "print(paper_dataset_labels)"
   ]
  },
  {
   "cell_type": "markdown",
   "id": "junior-adaptation",
   "metadata": {
    "tags": []
   },
   "source": [
    "# Literal matching"
   ]
  },
  {
   "cell_type": "code",
   "execution_count": null,
   "id": "composite-transport",
   "metadata": {
    "tags": []
   },
   "outputs": [],
   "source": [
    "#export\n",
    "def create_knowledge_bank(pth):\n",
    "    '''\n",
    "    Args:\n",
    "        pth (str): Path to meta data like 'train.csv', which\n",
    "        needs to have columns: 'dataset_title', 'dataset_label', and 'cleaned_label'.\n",
    "        \n",
    "    Returns:\n",
    "        all_labels (set): All possible strings associated with a dataset from the meta data.\n",
    "    '''\n",
    "    df = load_train_meta(pth, group_id=False)\n",
    "    all_labels = set()\n",
    "    for label_1, label_2, label_3 in df[['dataset_title', 'dataset_label', 'cleaned_label']].itertuples(index=False):\n",
    "        all_labels.add(str(label_1).lower())\n",
    "        all_labels.add(str(label_2).lower())\n",
    "        all_labels.add(str(label_3).lower())\n",
    "    return all_labels"
   ]
  },
  {
   "cell_type": "code",
   "execution_count": null,
   "id": "efficient-correction",
   "metadata": {
    "tags": []
   },
   "outputs": [
    {
     "name": "stdout",
     "output_type": "stream",
     "text": [
      "Creating knowledge bank...completed in 0.1464 s.\n",
      "180\n",
      "['2019 ncov complete genome sequences', '2019 ncov genome sequence', '2019 ncov genome sequences', '2019-ncov complete genome sequences', '2019-ncov genome sequence', '2019-ncov genome sequences', 'adni', 'advanced national seismic system (anss) comprehensive catalog (comcat)', 'advanced national seismic system anss comprehensive catalog comcat ', 'advanced national seismic system comprehensive catalog']\n"
     ]
    }
   ],
   "source": [
    "pth = Path('/kaggle/input/coleridgeinitiative-show-us-the-data/train.csv')\n",
    "\n",
    "print('Creating knowledge bank...', end='')\n",
    "t0 = time.time()\n",
    "knowledge_bank = create_knowledge_bank(pth)\n",
    "print(f'completed in {time.time() - t0:.4f} s.')\n",
    "\n",
    "print(len(knowledge_bank))\n",
    "print(sorted(knowledge_bank)[:10])"
   ]
  },
  {
   "cell_type": "code",
   "execution_count": null,
   "id": "pharmaceutical-regulation",
   "metadata": {
    "tags": []
   },
   "outputs": [],
   "source": [
    "#export\n",
    "def literal_match(paper, all_labels):\n",
    "    '''\n",
    "    Args:\n",
    "        paper ()\n",
    "    '''\n",
    "    text_1 = '. '.join(section['text'] for section in paper).lower()\n",
    "    text_2 = clean_training_text(text_1, lower=True, total_clean=True)\n",
    "    \n",
    "    labels = set()\n",
    "    for label in all_labels:\n",
    "        if label in text_1 or label in text_2:\n",
    "            labels.add(clean_training_text(label, lower=True, total_clean=True))\n",
    "    return labels"
   ]
  },
  {
   "cell_type": "code",
   "execution_count": null,
   "id": "medium-violin",
   "metadata": {
    "tags": []
   },
   "outputs": [
    {
     "name": "stdout",
     "output_type": "stream",
     "text": [
      "[{'adni', 'alzheimer s disease neuroimaging initiative adni'}, {'common core of data', 'nces common core of data', 'trends in international mathematics and science study'}, {'slosh model', 'sea lake and overland surges from hurricanes', 'noaa storm surge inundation'}, {'rural urban continuum codes'}]\n"
     ]
    }
   ],
   "source": [
    "pth = Path('/kaggle/input/coleridgeinitiative-show-us-the-data/train.csv')\n",
    "knowledge_bank = create_knowledge_bank(pth)\n",
    "\n",
    "sample_submission = pd.read_csv('/kaggle/input/coleridgeinitiative-show-us-the-data/sample_submission.csv')\n",
    "papers = load_papers('/kaggle/input/coleridgeinitiative-show-us-the-data/test/', sample_submission.Id)\n",
    "\n",
    "literal_preds = [literal_match(papers[paper_id], knowledge_bank) for paper_id in sample_submission.Id]\n",
    "print(literal_preds)"
   ]
  },
  {
   "cell_type": "markdown",
   "id": "unknown-programming",
   "metadata": {
    "tags": []
   },
   "source": [
    "# Overall prediction for submission"
   ]
  },
  {
   "cell_type": "code",
   "execution_count": null,
   "id": "arctic-melbourne",
   "metadata": {
    "tags": []
   },
   "outputs": [],
   "source": [
    "#export\n",
    "def combine_matching_and_model(literal_preds, paper_dataset_labels):\n",
    "    '''\n",
    "    Args:\n",
    "        literal_preds (list): Each element is a set, containing predicted labels for a paper\n",
    "            using literal matching.\n",
    "        paper_dataset_labels (list): Each element is a set, containing predicted labels for \n",
    "            a paper using trained model.\n",
    "    Returns:\n",
    "        filtered_dataset_labels (list): Each element is a string, containing \n",
    "            labels seperated by '|'.  \n",
    "            \n",
    "    Notes:\n",
    "        Combine literal matching predictions and model predictions. \n",
    "        Literal match predictions are appended IN FRONT of the model predictions,\n",
    "        because literal matches will be kept when removing labels that are too\n",
    "        similar to each other.\n",
    "    '''\n",
    "    all_labels = [list(literal_match) + list(model_pred) \n",
    "                  for literal_match, model_pred in zip(literal_preds, paper_dataset_labels)]\n",
    "    return all_labels"
   ]
  },
  {
   "cell_type": "code",
   "execution_count": null,
   "id": "little-rover",
   "metadata": {
    "tags": []
   },
   "outputs": [
    {
     "data": {
      "text/plain": [
       "[['mongolian racing cars', 'reallife headphones', 'data', 'dataset'],\n",
       " ['headphones collection data', 'hifi dataset'],\n",
       " ['rhs flowers fertiliser index',\n",
       "  'deep sea rock salts',\n",
       "  'rhs fertiliser index'],\n",
       " ['moma artists catalogue', 'moma artists', 'housing market']]"
      ]
     },
     "execution_count": null,
     "metadata": {},
     "output_type": "execute_result"
    }
   ],
   "source": [
    "literal_preds = [\n",
    "    {'mongolian racing cars', 'reallife headphones'}, \n",
    "    {},\n",
    "    {'rhs flowers fertiliser index'}, \n",
    "    {'moma artists catalogue'}]\n",
    "\n",
    "paper_dataset_labels = [\n",
    "    {'data', 'dataset'}, \n",
    "    {'hifi dataset', 'headphones collection data'}, \n",
    "    {'deep sea rock salts', 'rhs fertiliser index'}, \n",
    "    {'moma artists', 'housing market'}]\n",
    "\n",
    "combine_matching_and_model(literal_preds, paper_dataset_labels)"
   ]
  },
  {
   "cell_type": "code",
   "execution_count": null,
   "id": "velvet-fleece",
   "metadata": {
    "tags": []
   },
   "outputs": [],
   "source": [
    "#export\n",
    "def filter_dataset_labels(all_labels):\n",
    "    '''\n",
    "    When several labels for a paper are too similar, keep just one of them,\n",
    "    the one that appears FIRST.\n",
    "    \n",
    "    Args:\n",
    "        all_labels (list, set): Each element is a list of labels (str).\n",
    "        \n",
    "    Returns:\n",
    "        filtered_dataset_labels (list): Each element is a string, containing \n",
    "            labels seperated by '|'.\n",
    "    '''\n",
    "    filtered_dataset_labels = []\n",
    "\n",
    "    for labels in all_labels:\n",
    "        filtered = []\n",
    "\n",
    "        for label in labels:\n",
    "            label = clean_training_text(label, lower=True)\n",
    "            if len(filtered) == 0 or all(jaccard_similarity(label, got_label) < 0.75 for got_label in filtered):\n",
    "                filtered.append(label)\n",
    "\n",
    "        filtered_dataset_labels.append('|'.join(filtered))\n",
    "    return filtered_dataset_labels"
   ]
  },
  {
   "cell_type": "code",
   "execution_count": null,
   "id": "younger-arnold",
   "metadata": {
    "tags": []
   },
   "outputs": [
    {
     "name": "stdout",
     "output_type": "stream",
     "text": [
      "['moma artists catalogue|moma artists|housing market', 'rhs flowers fertiliser index|deep sea rock salts']\n",
      "\n",
      "['moma artists|housing market|moma artists catalogue', 'deep sea rock salts|rhs flowers fertiliser index']\n"
     ]
    }
   ],
   "source": [
    "all_labels = [\n",
    "    ['moma artists catalogue', 'moma artists', 'housing market'],\n",
    "    ['rhs flowers fertiliser index', 'deep sea rock salts', 'rhs fertiliser index']]\n",
    "print(filter_dataset_labels(all_labels))\n",
    "\n",
    "print()\n",
    "\n",
    "all_labels = [\n",
    "    {'moma artists catalogue', 'moma artists', 'housing market'},\n",
    "    {'rhs flowers fertiliser index', 'deep sea rock salts', 'rhs fertiliser index'}]\n",
    "print(filter_dataset_labels(all_labels))"
   ]
  },
  {
   "cell_type": "markdown",
   "id": "treated-baker",
   "metadata": {
    "tags": []
   },
   "source": [
    "Inference script"
   ]
  },
  {
   "cell_type": "code",
   "execution_count": null,
   "id": "stunning-bedroom",
   "metadata": {
    "tags": []
   },
   "outputs": [
    {
     "name": "stdout",
     "output_type": "stream",
     "text": [
      "Preparing NER inference data...\n",
      "total number of \"sentences\": 218\n",
      "Loading model, tokenizer, and metric...\n",
      "Predicting on each sentence...\n",
      "Downloading and preparing dataset json/default (download: Unknown size, generated: Unknown size, post-processed: Unknown size, total: Unknown size) to /root/.cache/huggingface/datasets/json/default-bfbecfb8f708faa5/0.0.0/83d5b3a2f62630efc6b5315f00f20209b4ad91a00ac586597caee3a4da0bef02...\n"
     ]
    },
    {
     "data": {
      "application/vnd.jupyter.widget-view+json": {
       "model_id": "8da89615d9a34a17ac2d5815e6f85772",
       "version_major": 2,
       "version_minor": 0
      },
      "text/plain": [
       "HBox(children=(FloatProgress(value=1.0, bar_style='info', layout=Layout(width='20px'), max=1.0), HTML(value=''…"
      ]
     },
     "metadata": {},
     "output_type": "display_data"
    },
    {
     "name": "stdout",
     "output_type": "stream",
     "text": [
      "Dataset json downloaded and prepared to /root/.cache/huggingface/datasets/json/default-bfbecfb8f708faa5/0.0.0/83d5b3a2f62630efc6b5315f00f20209b4ad91a00ac586597caee3a4da0bef02. Subsequent calls will reuse this data.\n",
      "Tokenizing testset..."
     ]
    },
    {
     "data": {
      "application/vnd.jupyter.widget-view+json": {
       "model_id": "5ea5ca23413c4445a8f7d1b7a69ced11",
       "version_major": 2,
       "version_minor": 0
      },
      "text/plain": [
       "HBox(children=(FloatProgress(value=0.0, max=1.0), HTML(value='')))"
      ]
     },
     "metadata": {},
     "output_type": "display_data"
    },
    {
     "name": "stdout",
     "output_type": "stream",
     "text": [
      "\n",
      "completed in 0.01 mins.\n",
      "Creating data collator...\n",
      "Creating (dummy) training arguments...\n",
      "Creating trainer...\n",
      "Predicting on test samples...\n"
     ]
    },
    {
     "data": {
      "text/html": [
       "\n",
       "    <div>\n",
       "        <style>\n",
       "            /* Turns off some styling */\n",
       "            progress {\n",
       "                /* gets rid of default border in Firefox and Opera. */\n",
       "                border: none;\n",
       "                /* Needs to be in here for Safari polyfill so background images work as expected. */\n",
       "                background-size: auto;\n",
       "            }\n",
       "        </style>\n",
       "      \n",
       "      <progress value='55' max='55' style='width:300px; height:20px; vertical-align: middle;'></progress>\n",
       "      [55/55 00:01]\n",
       "    </div>\n",
       "    "
      ],
      "text/plain": [
       "<IPython.core.display.HTML object>"
      ]
     },
     "metadata": {},
     "output_type": "display_data"
    },
    {
     "name": "stdout",
     "output_type": "stream",
     "text": [
      "completed in 0.06 mins.\n",
      "Argmaxing...\n",
      "completed in 0.00 mins.\n",
      "Removing non-original outputs...completed in 0.00 mins.\n",
      "Getting predicted labels for each article...\n",
      "String matching...\n",
      "Combining literal matches and model predictions...\n",
      "Keeping just one of labels that are too similar to each other...\n"
     ]
    }
   ],
   "source": [
    "! cp ../input/huggingface-cache/huggingface/modules/datasets_modules/metrics/seqeval/ec5b7242a8c40468d189ca0b2b10612578dbcad311b2a134c99e3ded58a0d6e3/seqeval.py .\n",
    "\n",
    "model_checkpoint = './test_training/checkpoint-8'\n",
    "\n",
    "print('Preparing NER inference data...')\n",
    "sample_submission = pd.read_csv('/kaggle/input/coleridgeinitiative-show-us-the-data/sample_submission.csv')\n",
    "papers = load_papers('/kaggle/input/coleridgeinitiative-show-us-the-data/test/', sample_submission.Id)\n",
    "classlabel = get_ner_classlabel()\n",
    "test_rows, paper_length = get_ner_inference_data(papers, sample_submission, classlabel=classlabel,\n",
    "                                                 sentence_definition='section', max_length=360, overlap=20,\n",
    "                                                 min_length=0, contains_keywords=None)\n",
    "write_ner_json(test_rows, pth='test_ner.json')\n",
    "\n",
    "print('Loading model, tokenizer, and metric...')\n",
    "tokenizer = create_tokenizer(model_checkpoint=model_checkpoint)\n",
    "model = AutoModelForTokenClassification.from_pretrained(model_checkpoint)\n",
    "metric = load_metric('seqeval.py')\n",
    "\n",
    "print('Predicting on each sentence...')\n",
    "predictions, label_ids = batched_ner_predict(\n",
    "    'test_ner.json', tokenizer=tokenizer, model=model, metric=metric, batch_size=64_000, \n",
    "    per_device_train_batch_size=4, per_device_eval_batch_size=4)\n",
    "predictions = [[classlabel.int2str(p) for p in pred] for pred in predictions]\n",
    "label_ids   = [[classlabel.int2str(l) for l in label] for label in label_ids]\n",
    "\n",
    "print('Getting predicted labels for each article...')\n",
    "paper_dataset_labels = get_paper_dataset_labels('test_ner.json', paper_length, predictions)\n",
    "\n",
    "print('String matching...')\n",
    "knowledge_bank = create_knowledge_bank('/kaggle/input/coleridgeinitiative-show-us-the-data/train.csv')\n",
    "literal_preds = []\n",
    "for paper_id in sample_submission.Id:\n",
    "    literal_preds.append(literal_match(papers[paper_id], knowledge_bank))\n",
    "\n",
    "print('Combining literal matches and model predictions...')\n",
    "all_labels = combine_matching_and_model(literal_preds, paper_dataset_labels)\n",
    "\n",
    "print('Keeping just one of labels that are too similar to each other...')\n",
    "filtered_dataset_labels = filter_dataset_labels(all_labels)\n",
    "\n",
    "sample_submission['PredictionString'] = filtered_dataset_labels\n",
    "\n",
    "sample_submission.to_csv('submission.csv', index=False)"
   ]
  },
  {
   "cell_type": "code",
   "execution_count": null,
   "id": "alpha-surname",
   "metadata": {
    "tags": []
   },
   "outputs": [
    {
     "name": "stdout",
     "output_type": "stream",
     "text": [
      "Id,PredictionString\r\n",
      "2100032a-7c33-4bff-97ef-690822c43466,adni|alzheimer s disease neuroimaging initiative adni\r\n",
      "2f392438-e215-4169-bebf-21ac4ff253e1,common core of data|trends in international mathematics and science study\r\n",
      "3f316b38-1a24-45a9-8d8c-4e05a42257c6,slosh model|sea lake and overland surges from hurricanes|noaa storm surge inundation\r\n",
      "8e6996b4-ca08-4c0b-bed2-aaf07a4c6a60,rural urban continuum codes\r\n"
     ]
    }
   ],
   "source": [
    "! cat submission.csv"
   ]
  },
  {
   "cell_type": "markdown",
   "id": "caroline-valve",
   "metadata": {
    "tags": []
   },
   "source": [
    "# Error analysis"
   ]
  },
  {
   "cell_type": "code",
   "execution_count": null,
   "id": "convinced-christopher",
   "metadata": {
    "tags": []
   },
   "outputs": [
    {
     "name": "stdout",
     "output_type": "stream",
     "text": [
      "Downloading and preparing dataset json/default (download: Unknown size, generated: Unknown size, post-processed: Unknown size, total: Unknown size) to /root/.cache/huggingface/datasets/json/default-c903927190f5799b/0.0.0/83d5b3a2f62630efc6b5315f00f20209b4ad91a00ac586597caee3a4da0bef02...\n"
     ]
    },
    {
     "data": {
      "application/vnd.jupyter.widget-view+json": {
       "model_id": "86618558cf0b4433b9a9c8ce30754cb6",
       "version_major": 2,
       "version_minor": 0
      },
      "text/plain": [
       "HBox(children=(FloatProgress(value=1.0, bar_style='info', layout=Layout(width='20px'), max=1.0), HTML(value=''…"
      ]
     },
     "metadata": {},
     "output_type": "display_data"
    },
    {
     "name": "stdout",
     "output_type": "stream",
     "text": [
      "Dataset json downloaded and prepared to /root/.cache/huggingface/datasets/json/default-c903927190f5799b/0.0.0/83d5b3a2f62630efc6b5315f00f20209b4ad91a00ac586597caee3a4da0bef02. Subsequent calls will reuse this data.\n",
      "Tokenizing testset..."
     ]
    },
    {
     "data": {
      "application/vnd.jupyter.widget-view+json": {
       "model_id": "c41fd2b0f2424d4dbd16dd1decbce665",
       "version_major": 2,
       "version_minor": 0
      },
      "text/plain": [
       "HBox(children=(FloatProgress(value=0.0, max=1.0), HTML(value='')))"
      ]
     },
     "metadata": {},
     "output_type": "display_data"
    },
    {
     "name": "stdout",
     "output_type": "stream",
     "text": [
      "\n",
      "completed in 0.00 mins.\n",
      "Creating data collator...\n",
      "Creating (dummy) training arguments...\n",
      "Creating trainer...\n",
      "Predicting on test samples...\n"
     ]
    },
    {
     "data": {
      "text/html": [
       "\n",
       "    <div>\n",
       "        <style>\n",
       "            /* Turns off some styling */\n",
       "            progress {\n",
       "                /* gets rid of default border in Firefox and Opera. */\n",
       "                border: none;\n",
       "                /* Needs to be in here for Safari polyfill so background images work as expected. */\n",
       "                background-size: auto;\n",
       "            }\n",
       "        </style>\n",
       "      \n",
       "      <progress value='5' max='5' style='width:300px; height:20px; vertical-align: middle;'></progress>\n",
       "      [5/5 00:00]\n",
       "    </div>\n",
       "    "
      ],
      "text/plain": [
       "<IPython.core.display.HTML object>"
      ]
     },
     "metadata": {},
     "output_type": "display_data"
    },
    {
     "name": "stdout",
     "output_type": "stream",
     "text": [
      "completed in 0.01 mins.\n",
      "Argmaxing...\n",
      "completed in 0.00 mins.\n",
      "Removing non-original outputs...completed in 0.00 mins.\n"
     ]
    }
   ],
   "source": [
    "model_checkpoint = '../input/showusdata-distilbert-base-cased-ner/training_results_distilbert-base-cased/checkpoint-67620'\n",
    "pth_valid_json = '../input/showus-data-ner-jsons/valid_ner.json'\n",
    "\n",
    "ner_data_valid = random.sample(open(pth_valid_json).readlines(), 20)\n",
    "ner_data_valid = [json.loads(sample) for sample in ner_data_valid]\n",
    "ner_data_valid = [list(zip(sample['tokens'], sample['ner_tags'])) for sample in ner_data_valid]\n",
    "write_ner_json(ner_data_valid, pth='valid_ner.json')\n",
    "\n",
    "tokenizer = create_tokenizer(model_checkpoint=model_checkpoint)\n",
    "classlabel = get_ner_classlabel()\n",
    "model = AutoModelForTokenClassification.from_pretrained(model_checkpoint, num_labels=classlabel.num_classes)\n",
    "metric = load_metric('seqeval')\n",
    "\n",
    "predictions, label_ids = ner_predict(pth='valid_ner.json', tokenizer=tokenizer, model=model, metric=metric, \n",
    "                                     per_device_train_batch_size=4, per_device_eval_batch_size=4)\n",
    "predictions = [[classlabel.int2str(p) for p in pred] for pred in predictions]\n",
    "label_ids   = [[classlabel.int2str(l) for l in label] for label in label_ids]\n",
    "\n",
    "paper_dataset_labels = get_paper_dataset_labels('valid_ner.json', len(predictions) * [1], predictions)\n",
    "gt_paper_dataset_labels = get_paper_dataset_labels('valid_ner.json', len(label_ids) * [1], label_ids)"
   ]
  },
  {
   "cell_type": "code",
   "execution_count": null,
   "id": "cathedral-southeast",
   "metadata": {
    "tags": []
   },
   "outputs": [
    {
     "name": "stdout",
     "output_type": "stream",
     "text": [
      "{'ADNI'} {'ADNI'}\n",
      "{'Alzheimer s Disease Neuroimaging Initiative ADNI'} {'ADNI'}\n",
      "{'ADNI'} {'ADNI'}\n",
      "{'ADNI'} {'ADNI'}\n",
      "{'ADNI'} {'ADNI'}\n"
     ]
    }
   ],
   "source": [
    "for predicted_labels, gt_labels in zip(paper_dataset_labels, gt_paper_dataset_labels):\n",
    "    if gt_labels:\n",
    "        print(predicted_labels, gt_labels)"
   ]
  },
  {
   "cell_type": "code",
   "execution_count": null,
   "id": "smaller-adelaide",
   "metadata": {
    "tags": []
   },
   "outputs": [
    {
     "data": {
      "text/plain": [
       "{'_': {'precision': 0.8, 'recall': 0.8, 'f1': 0.8000000000000002, 'number': 5},\n",
       " 'overall_precision': 0.8,\n",
       " 'overall_recall': 0.8,\n",
       " 'overall_f1': 0.8000000000000002,\n",
       " 'overall_accuracy': 0.9988636363636364}"
      ]
     },
     "execution_count": null,
     "metadata": {},
     "output_type": "execute_result"
    }
   ],
   "source": [
    "metric.compute(predictions=predictions, references=label_ids)"
   ]
  },
  {
   "cell_type": "markdown",
   "id": "educational-scanning",
   "metadata": {
    "tags": []
   },
   "source": [
    "# Reference\n",
    "- https://www.kaggle.com/tungmphung/pytorch-bert-for-named-entity-recognition/notebook\n",
    "- https://www.kaggle.com/tungmphung/coleridge-matching-bert-ner/notebook\n",
    "- https://github.com/huggingface/notebooks/blob/master/examples/token_classification.ipynb\n",
    "- https://datascience.stackexchange.com/questions/15989/micro-average-vs-macro-average-performance-in-a-multiclass-classification-settin\n",
    "- https://huggingface.co/docs/datasets/loading_metrics.html\n",
    "- [Python strings and memory](https://rushter.com/blog/python-strings-and-memory/)"
   ]
  },
  {
   "cell_type": "code",
   "execution_count": null,
   "id": "executive-canvas",
   "metadata": {
    "tags": []
   },
   "outputs": [],
   "source": []
  }
 ],
 "metadata": {
  "kernelspec": {
   "display_name": "Python 3",
   "language": "python",
   "name": "python3"
  }
 },
 "nbformat": 4,
 "nbformat_minor": 5
}
